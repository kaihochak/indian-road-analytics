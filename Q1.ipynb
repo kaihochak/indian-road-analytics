{
  "cells": [
    {
      "cell_type": "markdown",
      "metadata": {},
      "source": [
        "# To pinpoint specific geographic locations and temporal patterns where accidents occur most frequently, enabling targeted measures to enhance road safety."
      ]
    },
    {
      "cell_type": "markdown",
      "metadata": {
        "id": "NsfRctMMZJEY"
      },
      "source": [
        "## Setup and Data Loading"
      ]
    },
    {
      "cell_type": "code",
      "execution_count": 1,
      "metadata": {
        "colab": {
          "base_uri": "https://localhost:8080/"
        },
        "id": "DwFR2prpWIxQ",
        "outputId": "75e81d8c-44c7-4139-aaa4-3ead4857c3d0"
      },
      "outputs": [
        {
          "name": "stdout",
          "output_type": "stream",
          "text": [
            "Note: you may need to restart the kernel to use updated packages.Requirement already satisfied: pyspark in c:\\users\\kusum\\appdata\\local\\programs\\python\\python311\\lib\\site-packages (3.5.0)\n",
            "Requirement already satisfied: py4j==0.10.9.7 in c:\\users\\kusum\\appdata\\local\\programs\\python\\python311\\lib\\site-packages (from pyspark) (0.10.9.7)\n",
            "\n"
          ]
        },
        {
          "name": "stderr",
          "output_type": "stream",
          "text": [
            "\n",
            "[notice] A new release of pip is available: 23.1.2 -> 23.3.2\n",
            "[notice] To update, run: python.exe -m pip install --upgrade pip\n"
          ]
        }
      ],
      "source": [
        "pip install pyspark"
      ]
    },
    {
      "cell_type": "code",
      "execution_count": 2,
      "metadata": {
        "id": "qABsAR19WWU9"
      },
      "outputs": [],
      "source": [
        "from pyspark.sql import SparkSession"
      ]
    },
    {
      "cell_type": "code",
      "execution_count": 4,
      "metadata": {
        "id": "fewB75EvWpqW"
      },
      "outputs": [],
      "source": [
        "spark = SparkSession.builder.appName(\"objective_1\").getOrCreate()"
      ]
    },
    {
      "cell_type": "code",
      "execution_count": 5,
      "metadata": {
        "id": "w8ZLglaFWu6Q"
      },
      "outputs": [],
      "source": [
        "df = spark.read.csv(\"Road.csv\", inferSchema=True, header=True)"
      ]
    },
    {
      "cell_type": "code",
      "execution_count": 6,
      "metadata": {
        "colab": {
          "base_uri": "https://localhost:8080/"
        },
        "id": "uIfU6vHXlheA",
        "outputId": "1f952284-11b5-491e-a741-96c27e20ae8c"
      },
      "outputs": [
        {
          "name": "stdout",
          "output_type": "stream",
          "text": [
            "Rows:  12316\n",
            "Columns:  32\n"
          ]
        }
      ],
      "source": [
        "print(\"Rows: \", df.count())\n",
        "print(\"Columns: \", len(df.columns))"
      ]
    },
    {
      "cell_type": "code",
      "execution_count": 7,
      "metadata": {
        "colab": {
          "base_uri": "https://localhost:8080/"
        },
        "id": "l9MCz6mrmZUk",
        "outputId": "e1f85b46-032a-46f8-e16d-9f6eefb52936"
      },
      "outputs": [
        {
          "name": "stdout",
          "output_type": "stream",
          "text": [
            "root\n",
            " |-- Time: timestamp (nullable = true)\n",
            " |-- Day_of_week: string (nullable = true)\n",
            " |-- Age_band_of_driver: string (nullable = true)\n",
            " |-- Sex_of_driver: string (nullable = true)\n",
            " |-- Educational_level: string (nullable = true)\n",
            " |-- Vehicle_driver_relation: string (nullable = true)\n",
            " |-- Driving_experience: string (nullable = true)\n",
            " |-- Type_of_vehicle: string (nullable = true)\n",
            " |-- Owner_of_vehicle: string (nullable = true)\n",
            " |-- Service_year_of_vehicle: string (nullable = true)\n",
            " |-- Defect_of_vehicle: string (nullable = true)\n",
            " |-- Area_accident_occured: string (nullable = true)\n",
            " |-- Lanes_or_Medians: string (nullable = true)\n",
            " |-- Road_allignment: string (nullable = true)\n",
            " |-- Types_of_Junction: string (nullable = true)\n",
            " |-- Road_surface_type: string (nullable = true)\n",
            " |-- Road_surface_conditions: string (nullable = true)\n",
            " |-- Light_conditions: string (nullable = true)\n",
            " |-- Weather_conditions: string (nullable = true)\n",
            " |-- Type_of_collision: string (nullable = true)\n",
            " |-- Number_of_vehicles_involved: integer (nullable = true)\n",
            " |-- Number_of_casualties: integer (nullable = true)\n",
            " |-- Vehicle_movement: string (nullable = true)\n",
            " |-- Casualty_class: string (nullable = true)\n",
            " |-- Sex_of_casualty: string (nullable = true)\n",
            " |-- Age_band_of_casualty: string (nullable = true)\n",
            " |-- Casualty_severity: string (nullable = true)\n",
            " |-- Work_of_casuality: string (nullable = true)\n",
            " |-- Fitness_of_casuality: string (nullable = true)\n",
            " |-- Pedestrian_movement: string (nullable = true)\n",
            " |-- Cause_of_accident: string (nullable = true)\n",
            " |-- Accident_severity: string (nullable = true)\n",
            "\n"
          ]
        }
      ],
      "source": [
        "df.printSchema()"
      ]
    },
    {
      "cell_type": "code",
      "execution_count": 8,
      "metadata": {
        "colab": {
          "base_uri": "https://localhost:8080/"
        },
        "id": "wYlIuN59mQLa",
        "outputId": "a0852615-1612-43d7-8436-e401ada546e9"
      },
      "outputs": [
        {
          "name": "stdout",
          "output_type": "stream",
          "text": [
            "+-----------------+-----+\n",
            "|Accident_severity|count|\n",
            "+-----------------+-----+\n",
            "|   Serious Injury| 1743|\n",
            "|    Slight Injury|10415|\n",
            "|     Fatal injury|  158|\n",
            "+-----------------+-----+\n",
            "\n"
          ]
        }
      ],
      "source": [
        "df.groupBy(\"Accident_severity\").count().show()"
      ]
    },
    {
      "cell_type": "code",
      "execution_count": 10,
      "metadata": {
        "colab": {
          "base_uri": "https://localhost:8080/"
        },
        "id": "w5LFYsiunCko",
        "outputId": "6d334867-a21f-4d8f-d904-3a0727035d8e"
      },
      "outputs": [
        {
          "name": "stdout",
          "output_type": "stream",
          "text": [
            "+-------------------------------+-----+\n",
            "|Area_accident_occured          |count|\n",
            "+-------------------------------+-----+\n",
            "| Hospital areas                |121  |\n",
            "|NULL                           |239  |\n",
            "|Unknown                        |22   |\n",
            "|Recreational areas             |1    |\n",
            "|Other                          |3819 |\n",
            "|Rural village areas            |44   |\n",
            "|Office areas                   |3451 |\n",
            "|School areas                   |415  |\n",
            "|Rural village areasOffice areas|20   |\n",
            "|  Recreational areas           |327  |\n",
            "|  Market areas                 |63   |\n",
            "|Residential areas              |2060 |\n",
            "| Church areas                  |1060 |\n",
            "| Outside rural areas           |218  |\n",
            "| Industrial areas              |456  |\n",
            "+-------------------------------+-----+\n",
            "\n"
          ]
        }
      ],
      "source": [
        "df.groupBy(\"Area_accident_occured\").count().show(truncate=False)"
      ]
    },
    {
      "cell_type": "markdown",
      "metadata": {
        "id": "_vXzepI7bEVe"
      },
      "source": [
        "## Choosing Columns\n",
        "\n",
        "- 'Day_of_the_week', 'Weather_conditions_Encoded', 'Light_conditions_Encoded', 'Road_surface_conditions_Encoded',\n",
        "    'Type_of_vehicle_Encoded', 'Area_accident_occured_Encoded', 'Day_of_week_numeric', 'Hour'"
      ]
    },
    {
      "cell_type": "markdown",
      "metadata": {
        "id": "Z6cQQKURZHhl"
      },
      "source": []
    },
    {
      "cell_type": "code",
      "execution_count": 13,
      "metadata": {},
      "outputs": [],
      "source": [
        "from pyspark.sql.functions import hour, minute\n",
        "\n",
        "df = df.withColumn('Hour', hour(df['Time']))\n",
        "df = df.withColumn('Minute', minute(df['Time']))\n",
        "\n",
        "df_filter = df.filter(df['Day_of_week'].isNotNull())\n",
        "df_filter = df_filter.filter(df_filter['Hour'].isNotNull())"
      ]
    },
    {
      "cell_type": "code",
      "execution_count": 105,
      "metadata": {
        "id": "02vo4Q-9jo5n"
      },
      "outputs": [],
      "source": [
        "selected_columns = ['Accident_severity','Day_of_week', 'Weather_conditions', 'Light_conditions', 'Road_surface_conditions', 'Type_of_vehicle', 'Area_accident_occured', 'Hour', 'Age_band_of_driver', 'Types_of_Junction']\n",
        "df = df_filter.select(selected_columns)\n"
      ]
    },
    {
      "cell_type": "markdown",
      "metadata": {
        "id": "94bX3udjjonx"
      },
      "source": []
    },
    {
      "cell_type": "code",
      "execution_count": 106,
      "metadata": {
        "id": "TQBglFfRXElk"
      },
      "outputs": [],
      "source": [
        "df = df.na.drop() # drop the Nulls"
      ]
    },
    {
      "cell_type": "code",
      "execution_count": 107,
      "metadata": {
        "colab": {
          "base_uri": "https://localhost:8080/"
        },
        "id": "_cpbS-ozpbnQ",
        "outputId": "322d715d-be04-4ebe-8b14-08f8d1ee81c3"
      },
      "outputs": [
        {
          "name": "stdout",
          "output_type": "stream",
          "text": [
            "+-------+-----------------+-----------+------------------+--------------------+-----------------------+---------------+---------------------+------------------+------------------+-----------------+\n",
            "|summary|Accident_severity|Day_of_week|Weather_conditions|    Light_conditions|Road_surface_conditions|Type_of_vehicle|Area_accident_occured|              Hour|Age_band_of_driver|Types_of_Junction|\n",
            "+-------+-----------------+-----------+------------------+--------------------+-----------------------+---------------+---------------------+------------------+------------------+-----------------+\n",
            "|  count|            10361|      10361|             10361|               10361|                  10361|          10361|                10361|             10361|             10361|            10361|\n",
            "|   mean|             NULL|       NULL|              NULL|                NULL|                   NULL|           NULL|                 NULL|13.808705723385774|              NULL|             NULL|\n",
            "| stddev|             NULL|       NULL|              NULL|                NULL|                   NULL|           NULL|                 NULL| 5.219495444702792|              NULL|             NULL|\n",
            "|    min|     Fatal injury|     Friday|            Cloudy|Darkness - lights...|                    Dry|     Automobile|         Market areas|                 0|             18-30|         Crossing|\n",
            "|    max|    Slight Injury|  Wednesday|             Windy|            Daylight|            Wet or damp|          Turbo|              Unknown|                23|           Unknown|          Y Shape|\n",
            "+-------+-----------------+-----------+------------------+--------------------+-----------------------+---------------+---------------------+------------------+------------------+-----------------+\n",
            "\n"
          ]
        }
      ],
      "source": [
        "df.describe().show()"
      ]
    },
    {
      "cell_type": "code",
      "execution_count": 108,
      "metadata": {
        "id": "ag49tILX6lOJ"
      },
      "outputs": [],
      "source": [
        "from pyspark.sql.functions import when"
      ]
    },
    {
      "cell_type": "code",
      "execution_count": 109,
      "metadata": {
        "id": "tzd9M6Lb6XaD"
      },
      "outputs": [],
      "source": [
        "df_severity_as_integer = df.withColumn(\n",
        "    'accident_severity_integer',\n",
        "    when(df['Accident_severity'] == 'Slight Injury', 1.0)\n",
        "    .when(df['Accident_severity'] == 'Serious Injury', 2.0)\n",
        "    .when(df['Accident_severity'] == 'Fatal injury', 3.0)\n",
        ")"
      ]
    },
    {
      "cell_type": "code",
      "execution_count": 110,
      "metadata": {
        "colab": {
          "base_uri": "https://localhost:8080/"
        },
        "id": "eZyKBa6y6nl4",
        "outputId": "d3bc00db-4924-4aa9-aea0-1868741d179d"
      },
      "outputs": [
        {
          "name": "stdout",
          "output_type": "stream",
          "text": [
            "+-------+-------------------------+\n",
            "|summary|accident_severity_integer|\n",
            "+-------+-------------------------+\n",
            "|  count|                    10361|\n",
            "|   mean|        1.166682752630055|\n",
            "| stddev|      0.40474250432554215|\n",
            "|    min|                      1.0|\n",
            "|    max|                      3.0|\n",
            "+-------+-------------------------+\n",
            "\n"
          ]
        }
      ],
      "source": [
        "df_severity_as_integer.select(\"accident_severity_integer\").describe().show()"
      ]
    },
    {
      "cell_type": "markdown",
      "metadata": {
        "id": "5rjCqc5mgpJq"
      },
      "source": [
        "### Converting strings into numerical format (using StringIndexer and OneHotEncoder)."
      ]
    },
    {
      "cell_type": "code",
      "execution_count": 111,
      "metadata": {
        "colab": {
          "base_uri": "https://localhost:8080/"
        },
        "id": "uhNvGWcjp99-",
        "outputId": "1b64e5d2-65f8-45b3-9729-0b2ab8f603bb"
      },
      "outputs": [
        {
          "name": "stdout",
          "output_type": "stream",
          "text": [
            "root\n",
            " |-- Accident_severity: string (nullable = true)\n",
            " |-- Day_of_week: string (nullable = true)\n",
            " |-- Weather_conditions: string (nullable = true)\n",
            " |-- Light_conditions: string (nullable = true)\n",
            " |-- Road_surface_conditions: string (nullable = true)\n",
            " |-- Type_of_vehicle: string (nullable = true)\n",
            " |-- Area_accident_occured: string (nullable = true)\n",
            " |-- Hour: integer (nullable = true)\n",
            " |-- Age_band_of_driver: string (nullable = true)\n",
            " |-- Types_of_Junction: string (nullable = true)\n",
            "\n"
          ]
        }
      ],
      "source": [
        "df.printSchema()"
      ]
    },
    {
      "cell_type": "code",
      "execution_count": 113,
      "metadata": {
        "id": "KdJdN-sCqDjP"
      },
      "outputs": [],
      "source": [
        "from pyspark.ml.feature import StringIndexer, OneHotEncoder, VectorAssembler\n",
        "\n",
        "indexer = StringIndexer(inputCol=\"Day_of_week\", outputCol=\"Day_of_week\"+\"_index\")\n",
        "indexed = indexer.fit(df_severity_as_integer).transform(df_severity_as_integer)\n",
        "\n",
        "indexer = StringIndexer(inputCol=\"Weather_conditions\", outputCol=\"Weather_conditions\"+\"_index\")\n",
        "indexed = indexer.fit(indexed).transform(indexed)\n",
        "\n",
        "indexer = StringIndexer(inputCol=\"Light_conditions\", outputCol=\"Light_conditions\"+\"_index\")\n",
        "indexed = indexer.fit(indexed).transform(indexed)\n",
        "\n",
        "indexer = StringIndexer(inputCol=\"Road_surface_conditions\", outputCol=\"Road_surface_conditions\"+\"_index\")\n",
        "indexed = indexer.fit(indexed).transform(indexed)\n",
        "\n",
        "indexer = StringIndexer(inputCol=\"Type_of_vehicle\", outputCol=\"Type_of_vehicle\"+\"_index\")\n",
        "indexed = indexer.fit(indexed).transform(indexed)\n",
        "\n",
        "indexer = StringIndexer(inputCol=\"Area_accident_occured\", outputCol=\"Area_accident_occured\"+\"_index\")\n",
        "indexed = indexer.fit(indexed).transform(indexed)\n",
        "\n",
        "indexer = StringIndexer(inputCol=\"Age_band_of_driver\", outputCol=\"Age_band_of_driver\"+\"_index\")\n",
        "indexed = indexer.fit(indexed).transform(indexed)\n",
        "\n",
        "indexer = StringIndexer(inputCol=\"Types_of_Junction\", outputCol=\"Types_of_Junction\"+\"_index\")\n",
        "indexed = indexer.fit(indexed).transform(indexed)"
      ]
    },
    {
      "cell_type": "code",
      "execution_count": 114,
      "metadata": {
        "colab": {
          "base_uri": "https://localhost:8080/"
        },
        "id": "0fGqH818rOa1",
        "outputId": "22f0c59c-ae14-48fe-865e-eac3cf4e93e5"
      },
      "outputs": [
        {
          "name": "stdout",
          "output_type": "stream",
          "text": [
            "+-----------------+-----------+------------------+--------------------+-----------------------+--------------------+---------------------+----+------------------+-----------------+-------------------------+-----------------+------------------------+----------------------+-----------------------------+---------------------+---------------------------+------------------------+-----------------------+\n",
            "|Accident_severity|Day_of_week|Weather_conditions|    Light_conditions|Road_surface_conditions|     Type_of_vehicle|Area_accident_occured|Hour|Age_band_of_driver|Types_of_Junction|accident_severity_integer|Day_of_week_index|Weather_conditions_index|Light_conditions_index|Road_surface_conditions_index|Type_of_vehicle_index|Area_accident_occured_index|Age_band_of_driver_index|Types_of_Junction_index|\n",
            "+-----------------+-----------+------------------+--------------------+-----------------------+--------------------+---------------------+----+------------------+-----------------+-------------------------+-----------------+------------------------+----------------------+-----------------------------+---------------------+---------------------------+------------------------+-----------------------+\n",
            "|    Slight Injury|     Monday|            Normal|            Daylight|                    Dry|          Automobile|    Residential areas|  17|             18-30|      No junction|                      1.0|              5.0|                     0.0|                   0.0|                          0.0|                  0.0|                        2.0|                     0.0|                    1.0|\n",
            "|    Slight Injury|     Monday|            Normal|            Daylight|                    Dry| Public (> 45 seats)|         Office areas|  17|             31-50|      No junction|                      1.0|              5.0|                     0.0|                   0.0|                          0.0|                  8.0|                        1.0|                     1.0|                    1.0|\n",
            "|   Serious Injury|     Monday|            Normal|            Daylight|                    Dry|     Lorry (41?100Q)|   Recreational areas|  17|             18-30|      No junction|                      2.0|              5.0|                     0.0|                   0.0|                          0.0|                  1.0|                        6.0|                     0.0|                    1.0|\n",
            "|    Slight Injury|     Sunday|            Normal|Darkness - lights...|                    Dry| Public (> 45 seats)|         Office areas|   1|             18-30|          Y Shape|                      1.0|              6.0|                     0.0|                   1.0|                          0.0|                  8.0|                        1.0|                     0.0|                    0.0|\n",
            "|    Slight Injury|  Wednesday|            Normal|            Daylight|                    Dry|          Automobile|    Residential areas|  17|             18-30|         Crossing|                      1.0|              2.0|                     0.0|                   0.0|                          0.0|                  0.0|                        2.0|                     0.0|                    2.0|\n",
            "|    Slight Injury|     Friday|            Normal|            Daylight|                    Dry|          Automobile|    Residential areas|  17|             18-30|          Y Shape|                      1.0|              0.0|                     0.0|                   0.0|                          0.0|                  0.0|                        2.0|                     0.0|                    0.0|\n",
            "|    Slight Injury|     Friday|            Normal|            Daylight|                    Dry|     Lorry (41?100Q)|     Industrial areas|  17|             18-30|          Y Shape|                      1.0|              0.0|                     0.0|                   0.0|                          0.0|                  1.0|                        4.0|                     0.0|                    0.0|\n",
            "|   Serious Injury|     Friday|            Normal|            Daylight|                    Dry|          Automobile|    Residential areas|  17|             18-30|          Y Shape|                      2.0|              0.0|                     0.0|                   0.0|                          0.0|                  0.0|                        2.0|                     0.0|                    0.0|\n",
            "|   Serious Injury|   Saturday|            Normal|            Daylight|                    Dry|Public (13?45 seats)|    Residential areas|  14|             18-30|      No junction|                      2.0|              4.0|                     0.0|                   0.0|                          0.0|                  7.0|                        2.0|                     0.0|                    1.0|\n",
            "|   Serious Injury|   Saturday|            Normal|            Daylight|                    Dry|          Automobile|         Office areas|  14|             31-50|      No junction|                      2.0|              4.0|                     0.0|                   0.0|                          0.0|                  0.0|                        1.0|                     1.0|                    1.0|\n",
            "|    Slight Injury|   Thursday|            Normal|            Daylight|                    Dry| Public (> 45 seats)|         Office areas|  17|             18-30|      No junction|                      1.0|              1.0|                     0.0|                   0.0|                          0.0|                  8.0|                        1.0|                     0.0|                    1.0|\n",
            "|    Slight Injury|   Thursday|            Normal|            Daylight|                    Dry|     Lorry (41?100Q)|         Office areas|  17|             31-50|      No junction|                      1.0|              1.0|                     0.0|                   0.0|                          0.0|                  1.0|                        1.0|                     1.0|                    1.0|\n",
            "|   Serious Injury|   Thursday|            Normal|            Daylight|                    Dry|          Automobile|         Office areas|  17|             31-50|      No junction|                      2.0|              1.0|                     0.0|                   0.0|                          0.0|                  0.0|                        1.0|                     1.0|                    1.0|\n",
            "|   Serious Injury|     Monday|           Raining|Darkness - lights...|            Wet or damp|      Lorry (11?40Q)|         Office areas|  22|             18-30|          Y Shape|                      2.0|              5.0|                     1.0|                   1.0|                          1.0|                  6.0|                        1.0|                     0.0|                    0.0|\n",
            "|    Slight Injury|     Monday|           Raining|Darkness - lights...|            Wet or damp|Public (13?45 seats)|         Office areas|  22|             18-30|          Y Shape|                      1.0|              5.0|                     1.0|                   1.0|                          1.0|                  7.0|                        1.0|                     0.0|                    0.0|\n",
            "|   Serious Injury|     Monday|           Raining|Darkness - lights...|            Wet or damp|Public (13?45 seats)|         Office areas|  22|             18-30|          Y Shape|                      2.0|              5.0|                     1.0|                   1.0|                          1.0|                  7.0|                        1.0|                     0.0|                    0.0|\n",
            "|   Serious Injury|    Tuesday|            Normal|            Daylight|                    Dry|          Long lorry|    Residential areas|   8|             18-30|          Y Shape|                      2.0|              3.0|                     0.0|                   0.0|                          0.0|                  9.0|                        2.0|                     0.0|                    0.0|\n",
            "|    Slight Injury|    Tuesday|            Normal|            Daylight|                    Dry|     Lorry (41?100Q)|                Other|   8|          Under 18|          Y Shape|                      1.0|              3.0|                     0.0|                   0.0|                          0.0|                  1.0|                        0.0|                     4.0|                    0.0|\n",
            "|   Serious Injury|   Thursday|            Normal|            Daylight|                    Dry|      Lorry (11?40Q)|         Church areas|  15|             18-30|         Crossing|                      2.0|              1.0|                     0.0|                   0.0|                          0.0|                  6.0|                        3.0|                     0.0|                    2.0|\n",
            "|   Serious Injury|   Thursday|            Normal|            Daylight|                    Dry|     Lorry (41?100Q)|   Recreational areas|  12|             18-30|          Y Shape|                      2.0|              1.0|                     0.0|                   0.0|                          0.0|                  1.0|                        6.0|                     0.0|                    0.0|\n",
            "+-----------------+-----------+------------------+--------------------+-----------------------+--------------------+---------------------+----+------------------+-----------------+-------------------------+-----------------+------------------------+----------------------+-----------------------------+---------------------+---------------------------+------------------------+-----------------------+\n",
            "only showing top 20 rows\n",
            "\n"
          ]
        }
      ],
      "source": [
        "indexed.show()"
      ]
    },
    {
      "cell_type": "code",
      "execution_count": 115,
      "metadata": {
        "colab": {
          "base_uri": "https://localhost:8080/"
        },
        "id": "Zxi45UmjsRsx",
        "outputId": "84b3f96e-9534-4f4d-acd8-2377f96b55e4"
      },
      "outputs": [
        {
          "name": "stdout",
          "output_type": "stream",
          "text": [
            "root\n",
            " |-- Accident_severity: string (nullable = true)\n",
            " |-- Day_of_week: string (nullable = true)\n",
            " |-- Weather_conditions: string (nullable = true)\n",
            " |-- Light_conditions: string (nullable = true)\n",
            " |-- Road_surface_conditions: string (nullable = true)\n",
            " |-- Type_of_vehicle: string (nullable = true)\n",
            " |-- Area_accident_occured: string (nullable = true)\n",
            " |-- Hour: integer (nullable = true)\n",
            " |-- Age_band_of_driver: string (nullable = true)\n",
            " |-- Types_of_Junction: string (nullable = true)\n",
            " |-- accident_severity_integer: double (nullable = true)\n",
            " |-- Day_of_week_index: double (nullable = false)\n",
            " |-- Weather_conditions_index: double (nullable = false)\n",
            " |-- Light_conditions_index: double (nullable = false)\n",
            " |-- Road_surface_conditions_index: double (nullable = false)\n",
            " |-- Type_of_vehicle_index: double (nullable = false)\n",
            " |-- Area_accident_occured_index: double (nullable = false)\n",
            " |-- Age_band_of_driver_index: double (nullable = false)\n",
            " |-- Types_of_Junction_index: double (nullable = false)\n",
            "\n"
          ]
        }
      ],
      "source": [
        "indexed.printSchema()"
      ]
    },
    {
      "cell_type": "code",
      "execution_count": 152,
      "metadata": {
        "id": "9xSB45Qbr9I6"
      },
      "outputs": [],
      "source": [
        "assembler = VectorAssembler(inputCols=[\"Hour\", \"Day_of_week_index\",\n",
        "                                       \"Weather_conditions_index\", \"Light_conditions_index\",\n",
        "                                       \"Road_surface_conditions_index\", \"Type_of_vehicle_index\",\n",
        "                                       \"Area_accident_occured_index\", \"Age_band_of_driver_index\"], outputCol=\"features\")"
      ]
    },
    {
      "cell_type": "code",
      "execution_count": 153,
      "metadata": {
        "colab": {
          "base_uri": "https://localhost:8080/"
        },
        "id": "3xKm4g2wsx4L",
        "outputId": "54d58c10-41fc-401f-84ac-735b247b0a8b"
      },
      "outputs": [
        {
          "data": {
            "text/plain": [
              "VectorAssembler_4506f9497e6d"
            ]
          },
          "execution_count": 153,
          "metadata": {},
          "output_type": "execute_result"
        }
      ],
      "source": [
        "assembler"
      ]
    },
    {
      "cell_type": "code",
      "execution_count": 154,
      "metadata": {
        "colab": {
          "base_uri": "https://localhost:8080/"
        },
        "id": "XoCehV8ks0KB",
        "outputId": "00839d55-822f-4cf2-d35c-1d643bf010ca"
      },
      "outputs": [
        {
          "name": "stdout",
          "output_type": "stream",
          "text": [
            "+-----------------+-----------+------------------+--------------------+-----------------------+--------------------+---------------------+----+------------------+-----------------+-------------------------+-----------------+------------------------+----------------------+-----------------------------+---------------------+---------------------------+------------------------+-----------------------+--------------------+\n",
            "|Accident_severity|Day_of_week|Weather_conditions|    Light_conditions|Road_surface_conditions|     Type_of_vehicle|Area_accident_occured|Hour|Age_band_of_driver|Types_of_Junction|accident_severity_integer|Day_of_week_index|Weather_conditions_index|Light_conditions_index|Road_surface_conditions_index|Type_of_vehicle_index|Area_accident_occured_index|Age_band_of_driver_index|Types_of_Junction_index|            features|\n",
            "+-----------------+-----------+------------------+--------------------+-----------------------+--------------------+---------------------+----+------------------+-----------------+-------------------------+-----------------+------------------------+----------------------+-----------------------------+---------------------+---------------------------+------------------------+-----------------------+--------------------+\n",
            "|    Slight Injury|     Monday|            Normal|            Daylight|                    Dry|          Automobile|    Residential areas|  17|             18-30|      No junction|                      1.0|              5.0|                     0.0|                   0.0|                          0.0|                  0.0|                        2.0|                     0.0|                    1.0|(8,[0,1,6],[17.0,...|\n",
            "|    Slight Injury|     Monday|            Normal|            Daylight|                    Dry| Public (> 45 seats)|         Office areas|  17|             31-50|      No junction|                      1.0|              5.0|                     0.0|                   0.0|                          0.0|                  8.0|                        1.0|                     1.0|                    1.0|[17.0,5.0,0.0,0.0...|\n",
            "|   Serious Injury|     Monday|            Normal|            Daylight|                    Dry|     Lorry (41?100Q)|   Recreational areas|  17|             18-30|      No junction|                      2.0|              5.0|                     0.0|                   0.0|                          0.0|                  1.0|                        6.0|                     0.0|                    1.0|(8,[0,1,5,6],[17....|\n",
            "|    Slight Injury|     Sunday|            Normal|Darkness - lights...|                    Dry| Public (> 45 seats)|         Office areas|   1|             18-30|          Y Shape|                      1.0|              6.0|                     0.0|                   1.0|                          0.0|                  8.0|                        1.0|                     0.0|                    0.0|[1.0,6.0,0.0,1.0,...|\n",
            "|    Slight Injury|  Wednesday|            Normal|            Daylight|                    Dry|          Automobile|    Residential areas|  17|             18-30|         Crossing|                      1.0|              2.0|                     0.0|                   0.0|                          0.0|                  0.0|                        2.0|                     0.0|                    2.0|(8,[0,1,6],[17.0,...|\n",
            "|    Slight Injury|     Friday|            Normal|            Daylight|                    Dry|          Automobile|    Residential areas|  17|             18-30|          Y Shape|                      1.0|              0.0|                     0.0|                   0.0|                          0.0|                  0.0|                        2.0|                     0.0|                    0.0|(8,[0,6],[17.0,2.0])|\n",
            "|    Slight Injury|     Friday|            Normal|            Daylight|                    Dry|     Lorry (41?100Q)|     Industrial areas|  17|             18-30|          Y Shape|                      1.0|              0.0|                     0.0|                   0.0|                          0.0|                  1.0|                        4.0|                     0.0|                    0.0|(8,[0,5,6],[17.0,...|\n",
            "|   Serious Injury|     Friday|            Normal|            Daylight|                    Dry|          Automobile|    Residential areas|  17|             18-30|          Y Shape|                      2.0|              0.0|                     0.0|                   0.0|                          0.0|                  0.0|                        2.0|                     0.0|                    0.0|(8,[0,6],[17.0,2.0])|\n",
            "|   Serious Injury|   Saturday|            Normal|            Daylight|                    Dry|Public (13?45 seats)|    Residential areas|  14|             18-30|      No junction|                      2.0|              4.0|                     0.0|                   0.0|                          0.0|                  7.0|                        2.0|                     0.0|                    1.0|(8,[0,1,5,6],[14....|\n",
            "|   Serious Injury|   Saturday|            Normal|            Daylight|                    Dry|          Automobile|         Office areas|  14|             31-50|      No junction|                      2.0|              4.0|                     0.0|                   0.0|                          0.0|                  0.0|                        1.0|                     1.0|                    1.0|(8,[0,1,6,7],[14....|\n",
            "|    Slight Injury|   Thursday|            Normal|            Daylight|                    Dry| Public (> 45 seats)|         Office areas|  17|             18-30|      No junction|                      1.0|              1.0|                     0.0|                   0.0|                          0.0|                  8.0|                        1.0|                     0.0|                    1.0|(8,[0,1,5,6],[17....|\n",
            "|    Slight Injury|   Thursday|            Normal|            Daylight|                    Dry|     Lorry (41?100Q)|         Office areas|  17|             31-50|      No junction|                      1.0|              1.0|                     0.0|                   0.0|                          0.0|                  1.0|                        1.0|                     1.0|                    1.0|[17.0,1.0,0.0,0.0...|\n",
            "|   Serious Injury|   Thursday|            Normal|            Daylight|                    Dry|          Automobile|         Office areas|  17|             31-50|      No junction|                      2.0|              1.0|                     0.0|                   0.0|                          0.0|                  0.0|                        1.0|                     1.0|                    1.0|(8,[0,1,6,7],[17....|\n",
            "|   Serious Injury|     Monday|           Raining|Darkness - lights...|            Wet or damp|      Lorry (11?40Q)|         Office areas|  22|             18-30|          Y Shape|                      2.0|              5.0|                     1.0|                   1.0|                          1.0|                  6.0|                        1.0|                     0.0|                    0.0|[22.0,5.0,1.0,1.0...|\n",
            "|    Slight Injury|     Monday|           Raining|Darkness - lights...|            Wet or damp|Public (13?45 seats)|         Office areas|  22|             18-30|          Y Shape|                      1.0|              5.0|                     1.0|                   1.0|                          1.0|                  7.0|                        1.0|                     0.0|                    0.0|[22.0,5.0,1.0,1.0...|\n",
            "|   Serious Injury|     Monday|           Raining|Darkness - lights...|            Wet or damp|Public (13?45 seats)|         Office areas|  22|             18-30|          Y Shape|                      2.0|              5.0|                     1.0|                   1.0|                          1.0|                  7.0|                        1.0|                     0.0|                    0.0|[22.0,5.0,1.0,1.0...|\n",
            "|   Serious Injury|    Tuesday|            Normal|            Daylight|                    Dry|          Long lorry|    Residential areas|   8|             18-30|          Y Shape|                      2.0|              3.0|                     0.0|                   0.0|                          0.0|                  9.0|                        2.0|                     0.0|                    0.0|(8,[0,1,5,6],[8.0...|\n",
            "|    Slight Injury|    Tuesday|            Normal|            Daylight|                    Dry|     Lorry (41?100Q)|                Other|   8|          Under 18|          Y Shape|                      1.0|              3.0|                     0.0|                   0.0|                          0.0|                  1.0|                        0.0|                     4.0|                    0.0|(8,[0,1,5,7],[8.0...|\n",
            "|   Serious Injury|   Thursday|            Normal|            Daylight|                    Dry|      Lorry (11?40Q)|         Church areas|  15|             18-30|         Crossing|                      2.0|              1.0|                     0.0|                   0.0|                          0.0|                  6.0|                        3.0|                     0.0|                    2.0|(8,[0,1,5,6],[15....|\n",
            "|   Serious Injury|   Thursday|            Normal|            Daylight|                    Dry|     Lorry (41?100Q)|   Recreational areas|  12|             18-30|          Y Shape|                      2.0|              1.0|                     0.0|                   0.0|                          0.0|                  1.0|                        6.0|                     0.0|                    0.0|(8,[0,1,5,6],[12....|\n",
            "+-----------------+-----------+------------------+--------------------+-----------------------+--------------------+---------------------+----+------------------+-----------------+-------------------------+-----------------+------------------------+----------------------+-----------------------------+---------------------+---------------------------+------------------------+-----------------------+--------------------+\n",
            "only showing top 20 rows\n",
            "\n"
          ]
        }
      ],
      "source": [
        "output = assembler.transform(indexed)\n",
        "output.show()"
      ]
    },
    {
      "cell_type": "code",
      "execution_count": 155,
      "metadata": {
        "colab": {
          "base_uri": "https://localhost:8080/"
        },
        "id": "_jAG5mAVtYg9",
        "outputId": "d69d98c7-4758-4925-fe5d-057639cda425"
      },
      "outputs": [
        {
          "name": "stdout",
          "output_type": "stream",
          "text": [
            "+----------------------------------+-----------------+\n",
            "|features                          |Accident_severity|\n",
            "+----------------------------------+-----------------+\n",
            "|(8,[0,1,6],[17.0,5.0,2.0])        |Slight Injury    |\n",
            "|[17.0,5.0,0.0,0.0,0.0,8.0,1.0,1.0]|Slight Injury    |\n",
            "|(8,[0,1,5,6],[17.0,5.0,1.0,6.0])  |Serious Injury   |\n",
            "|[1.0,6.0,0.0,1.0,0.0,8.0,1.0,0.0] |Slight Injury    |\n",
            "|(8,[0,1,6],[17.0,2.0,2.0])        |Slight Injury    |\n",
            "|(8,[0,6],[17.0,2.0])              |Slight Injury    |\n",
            "|(8,[0,5,6],[17.0,1.0,4.0])        |Slight Injury    |\n",
            "|(8,[0,6],[17.0,2.0])              |Serious Injury   |\n",
            "|(8,[0,1,5,6],[14.0,4.0,7.0,2.0])  |Serious Injury   |\n",
            "|(8,[0,1,6,7],[14.0,4.0,1.0,1.0])  |Serious Injury   |\n",
            "|(8,[0,1,5,6],[17.0,1.0,8.0,1.0])  |Slight Injury    |\n",
            "|[17.0,1.0,0.0,0.0,0.0,1.0,1.0,1.0]|Slight Injury    |\n",
            "|(8,[0,1,6,7],[17.0,1.0,1.0,1.0])  |Serious Injury   |\n",
            "|[22.0,5.0,1.0,1.0,1.0,6.0,1.0,0.0]|Serious Injury   |\n",
            "|[22.0,5.0,1.0,1.0,1.0,7.0,1.0,0.0]|Slight Injury    |\n",
            "|[22.0,5.0,1.0,1.0,1.0,7.0,1.0,0.0]|Serious Injury   |\n",
            "|(8,[0,1,5,6],[8.0,3.0,9.0,2.0])   |Serious Injury   |\n",
            "|(8,[0,1,5,7],[8.0,3.0,1.0,4.0])   |Slight Injury    |\n",
            "|(8,[0,1,5,6],[15.0,1.0,6.0,3.0])  |Serious Injury   |\n",
            "|(8,[0,1,5,6],[12.0,1.0,1.0,6.0])  |Serious Injury   |\n",
            "+----------------------------------+-----------------+\n",
            "only showing top 20 rows\n",
            "\n"
          ]
        }
      ],
      "source": [
        "output.select(\"features\", \"Accident_severity\").show(truncate=False)"
      ]
    },
    {
      "cell_type": "code",
      "execution_count": 156,
      "metadata": {
        "colab": {
          "base_uri": "https://localhost:8080/"
        },
        "id": "wl7bbiEOtvnP",
        "outputId": "4ecec1df-6676-4119-ac37-147d85b5d64f"
      },
      "outputs": [
        {
          "name": "stdout",
          "output_type": "stream",
          "text": [
            "+-------+-------------------------+\n",
            "|summary|accident_severity_integer|\n",
            "+-------+-------------------------+\n",
            "|  count|                    10361|\n",
            "|   mean|        1.166682752630055|\n",
            "| stddev|      0.40474250432554215|\n",
            "|    min|                      1.0|\n",
            "|    max|                      3.0|\n",
            "+-------+-------------------------+\n",
            "\n"
          ]
        }
      ],
      "source": [
        "model_df = output.select(\"features\", \"accident_severity_integer\")\n",
        "model_df.describe().show()"
      ]
    },
    {
      "cell_type": "code",
      "execution_count": 157,
      "metadata": {
        "colab": {
          "base_uri": "https://localhost:8080/"
        },
        "id": "qOlIeHznBxxu",
        "outputId": "c5e0d091-e355-4ec5-fc9d-46dd5d608fc9"
      },
      "outputs": [
        {
          "name": "stdout",
          "output_type": "stream",
          "text": [
            "+-------------------------+-----+\n",
            "|accident_severity_integer|count|\n",
            "+-------------------------+-----+\n",
            "|                      1.0| 8763|\n",
            "|                      3.0|  129|\n",
            "|                      2.0| 1469|\n",
            "+-------------------------+-----+\n",
            "\n"
          ]
        }
      ],
      "source": [
        "unique_values_count = model_df.groupBy(\"accident_severity_integer\").count()\n",
        "unique_values_count.show()"
      ]
    },
    {
      "cell_type": "code",
      "execution_count": 158,
      "metadata": {
        "colab": {
          "base_uri": "https://localhost:8080/"
        },
        "id": "f58Rp1qmHMVl",
        "outputId": "394e3a59-f245-40f9-e762-c90eac1fd98e"
      },
      "outputs": [
        {
          "name": "stdout",
          "output_type": "stream",
          "text": [
            "+--------------------+-------------------------+\n",
            "|            features|accident_severity_integer|\n",
            "+--------------------+-------------------------+\n",
            "|(8,[0,1,6],[17.0,...|                      1.0|\n",
            "|[17.0,5.0,0.0,0.0...|                      1.0|\n",
            "|(8,[0,1,5,6],[17....|                      2.0|\n",
            "|[1.0,6.0,0.0,1.0,...|                      1.0|\n",
            "|(8,[0,1,6],[17.0,...|                      1.0|\n",
            "|(8,[0,6],[17.0,2.0])|                      1.0|\n",
            "|(8,[0,5,6],[17.0,...|                      1.0|\n",
            "|(8,[0,6],[17.0,2.0])|                      2.0|\n",
            "|(8,[0,1,5,6],[14....|                      2.0|\n",
            "|(8,[0,1,6,7],[14....|                      2.0|\n",
            "|(8,[0,1,5,6],[17....|                      1.0|\n",
            "|[17.0,1.0,0.0,0.0...|                      1.0|\n",
            "|(8,[0,1,6,7],[17....|                      2.0|\n",
            "|[22.0,5.0,1.0,1.0...|                      2.0|\n",
            "|[22.0,5.0,1.0,1.0...|                      1.0|\n",
            "|[22.0,5.0,1.0,1.0...|                      2.0|\n",
            "|(8,[0,1,5,6],[8.0...|                      2.0|\n",
            "|(8,[0,1,5,7],[8.0...|                      1.0|\n",
            "|(8,[0,1,5,6],[15....|                      2.0|\n",
            "|(8,[0,1,5,6],[12....|                      2.0|\n",
            "+--------------------+-------------------------+\n",
            "only showing top 20 rows\n",
            "\n"
          ]
        }
      ],
      "source": [
        "model_df.show()\n"
      ]
    },
    {
      "cell_type": "code",
      "execution_count": 159,
      "metadata": {
        "id": "OKJlphyEuVkd"
      },
      "outputs": [],
      "source": [
        "training_df, test_df = model_df.randomSplit([0.7, 0.3]) #seed = 123"
      ]
    },
    {
      "cell_type": "code",
      "execution_count": 160,
      "metadata": {
        "colab": {
          "base_uri": "https://localhost:8080/"
        },
        "id": "dbmPPjD5CXr0",
        "outputId": "749038aa-955d-4ea3-e369-7cc2253ff735"
      },
      "outputs": [
        {
          "name": "stdout",
          "output_type": "stream",
          "text": [
            "+-------------------------+-----+\n",
            "|accident_severity_integer|count|\n",
            "+-------------------------+-----+\n",
            "|                      1.0| 2629|\n",
            "|                      3.0|   41|\n",
            "|                      2.0|  431|\n",
            "+-------------------------+-----+\n",
            "\n",
            "+-------------------------+-----+\n",
            "|accident_severity_integer|count|\n",
            "+-------------------------+-----+\n",
            "|                      1.0| 6134|\n",
            "|                      3.0|   88|\n",
            "|                      2.0| 1038|\n",
            "+-------------------------+-----+\n",
            "\n"
          ]
        }
      ],
      "source": [
        "test_df.groupBy(\"accident_severity_integer\").count().show()\n",
        "training_df.groupBy(\"accident_severity_integer\").count().show()\n"
      ]
    },
    {
      "cell_type": "code",
      "execution_count": 161,
      "metadata": {
        "colab": {
          "base_uri": "https://localhost:8080/"
        },
        "id": "BSokVjWIuYr_",
        "outputId": "887a9f44-65a5-4a05-a77e-66fab2a4d5fd"
      },
      "outputs": [
        {
          "name": "stdout",
          "output_type": "stream",
          "text": [
            "Training dataset samples:  7260\n",
            "Test dataset samples:  3101\n"
          ]
        }
      ],
      "source": [
        "print(\"Training dataset samples: \", training_df.count())\n",
        "print(\"Test dataset samples: \", test_df.count())"
      ]
    },
    {
      "cell_type": "code",
      "execution_count": 162,
      "metadata": {
        "id": "D0FUXxNnunCD"
      },
      "outputs": [],
      "source": [
        "from pyspark.ml.classification import LogisticRegression"
      ]
    },
    {
      "cell_type": "code",
      "execution_count": 163,
      "metadata": {
        "id": "-hmuRyiguuas"
      },
      "outputs": [],
      "source": [
        "log_reg = LogisticRegression(labelCol=\"accident_severity_integer\", family=\"multinomial\").fit(training_df)"
      ]
    },
    {
      "cell_type": "code",
      "execution_count": 164,
      "metadata": {
        "colab": {
          "base_uri": "https://localhost:8080/"
        },
        "id": "IJgxQDHju_Rk",
        "outputId": "3b5fc6d2-152d-41e3-e3f8-c346e4a39c64"
      },
      "outputs": [
        {
          "data": {
            "text/plain": [
              "LogisticRegressionModel: uid=LogisticRegression_dff1676e4748, numClasses=4, numFeatures=8"
            ]
          },
          "execution_count": 164,
          "metadata": {},
          "output_type": "execute_result"
        }
      ],
      "source": [
        "log_reg"
      ]
    },
    {
      "cell_type": "code",
      "execution_count": 165,
      "metadata": {
        "id": "NDGP6Uw5vEr5"
      },
      "outputs": [],
      "source": [
        "training_results = log_reg.evaluate(training_df).predictions"
      ]
    },
    {
      "cell_type": "code",
      "execution_count": 166,
      "metadata": {
        "colab": {
          "base_uri": "https://localhost:8080/"
        },
        "id": "yBG4SAjOvPzR",
        "outputId": "d30cad54-3761-4f4c-cab7-d3919e1db953"
      },
      "outputs": [
        {
          "name": "stdout",
          "output_type": "stream",
          "text": [
            "+-------+-------------------------+----------+\n",
            "|summary|accident_severity_integer|prediction|\n",
            "+-------+-------------------------+----------+\n",
            "|  count|                     7260|      7260|\n",
            "|   mean|       1.1672176308539945|       1.0|\n",
            "| stddev|      0.40437710439641467|       0.0|\n",
            "|    min|                      1.0|       1.0|\n",
            "|    max|                      3.0|       1.0|\n",
            "+-------+-------------------------+----------+\n",
            "\n"
          ]
        }
      ],
      "source": [
        "training_results.describe().show()"
      ]
    },
    {
      "cell_type": "code",
      "execution_count": 167,
      "metadata": {
        "id": "5g1UBibIvddN"
      },
      "outputs": [],
      "source": [
        "results = log_reg.evaluate(test_df).predictions"
      ]
    },
    {
      "cell_type": "code",
      "execution_count": 168,
      "metadata": {
        "colab": {
          "base_uri": "https://localhost:8080/"
        },
        "id": "SaP5jr4EvxWN",
        "outputId": "671ce68e-f9cf-4c4b-d75f-8670e283a7ce"
      },
      "outputs": [
        {
          "name": "stdout",
          "output_type": "stream",
          "text": [
            "+-------+-------------------------+--------------------+\n",
            "|summary|accident_severity_integer|          prediction|\n",
            "+-------+-------------------------+--------------------+\n",
            "|  count|                     3101|                3101|\n",
            "|   mean|       1.1654305062882941|                 1.0|\n",
            "| stddev|      0.40565922066955157|1.903746599594966...|\n",
            "|    min|                      1.0|                 1.0|\n",
            "|    max|                      3.0|                 1.0|\n",
            "+-------+-------------------------+--------------------+\n",
            "\n"
          ]
        }
      ],
      "source": [
        "results.describe().show()"
      ]
    },
    {
      "cell_type": "code",
      "execution_count": 169,
      "metadata": {
        "colab": {
          "base_uri": "https://localhost:8080/"
        },
        "id": "anOsEc85v88l",
        "outputId": "d2ee0ea4-8487-4ad8-f37f-ce2232f791ea"
      },
      "outputs": [
        {
          "name": "stdout",
          "output_type": "stream",
          "text": [
            "+-------------------------+----------+\n",
            "|accident_severity_integer|prediction|\n",
            "+-------------------------+----------+\n",
            "|                      1.0|       1.0|\n",
            "|                      1.0|       1.0|\n",
            "|                      1.0|       1.0|\n",
            "|                      1.0|       1.0|\n",
            "|                      1.0|       1.0|\n",
            "|                      1.0|       1.0|\n",
            "|                      1.0|       1.0|\n",
            "|                      1.0|       1.0|\n",
            "|                      1.0|       1.0|\n",
            "|                      1.0|       1.0|\n",
            "+-------------------------+----------+\n",
            "only showing top 10 rows\n",
            "\n"
          ]
        }
      ],
      "source": [
        "results.select([\"accident_severity_integer\", \"prediction\"]).show(10)"
      ]
    },
    {
      "cell_type": "code",
      "execution_count": 170,
      "metadata": {
        "colab": {
          "base_uri": "https://localhost:8080/"
        },
        "id": "ik_G94FAwcP7",
        "outputId": "41922af7-119d-43d4-fc8b-4f333c35d5be"
      },
      "outputs": [
        {
          "name": "stdout",
          "output_type": "stream",
          "text": [
            "+-------+-------------------------+--------------------+\n",
            "|summary|accident_severity_integer|          prediction|\n",
            "+-------+-------------------------+--------------------+\n",
            "|  count|                     3101|                3101|\n",
            "|   mean|       1.1654305062882941|                 1.0|\n",
            "| stddev|      0.40565922066955157|1.903746599594966...|\n",
            "|    min|                      1.0|                 1.0|\n",
            "|    max|                      3.0|                 1.0|\n",
            "+-------+-------------------------+--------------------+\n",
            "\n"
          ]
        }
      ],
      "source": [
        "results.describe().show()"
      ]
    },
    {
      "cell_type": "code",
      "execution_count": 171,
      "metadata": {
        "id": "rY6c3GpqjcYF"
      },
      "outputs": [],
      "source": [
        "# For class 1.0\n",
        "tp_1 = results[(results.accident_severity_integer == 1.0) & (results.prediction == 1.0)].count()\n",
        "tn_1 = results[(results.accident_severity_integer != 1.0) & (results.prediction != 1.0)].count()\n",
        "fp_1 = results[(results.accident_severity_integer != 1.0) & (results.prediction == 1.0)].count()\n",
        "fn_1 = results[(results.accident_severity_integer == 1.0) & (results.prediction != 1.0)].count()\n",
        "\n",
        "# For class 2.0\n",
        "tp_2 = results[(results.accident_severity_integer == 2.0) & (results.prediction == 2.0)].count()\n",
        "tn_2 = results[(results.accident_severity_integer != 2.0) & (results.prediction != 2.0)].count()\n",
        "fp_2 = results[(results.accident_severity_integer != 2.0) & (results.prediction == 2.0)].count()\n",
        "fn_2 = results[(results.accident_severity_integer == 2.0) & (results.prediction != 2.0)].count()\n",
        "\n",
        "# For class 0.0\n",
        "tp_0 = results[(results.accident_severity_integer == 0.0) & (results.prediction == 0.0)].count()\n",
        "tn_0 = results[(results.accident_severity_integer != 0.0) & (results.prediction != 0.0)].count()\n",
        "fp_0 = results[(results.accident_severity_integer != 0.0) & (results.prediction == 0.0)].count()\n",
        "fn_0 = results[(results.accident_severity_integer == 0.0) & (results.prediction != 0.0)].count()\n"
      ]
    },
    {
      "cell_type": "code",
      "execution_count": 172,
      "metadata": {
        "id": "8nMrXg-tkueS"
      },
      "outputs": [],
      "source": [
        "total_tp = tp_1 + tp_2 + tp_0\n",
        "total_fp = fp_1 + fp_2 + fp_0\n",
        "total_fn = fn_1 + fn_2 + fn_0\n",
        "total_tn = tn_0 + tn_1 + tn_2"
      ]
    },
    {
      "cell_type": "code",
      "execution_count": 173,
      "metadata": {
        "colab": {
          "base_uri": "https://localhost:8080/"
        },
        "id": "Me1Rl1a9jjEz",
        "outputId": "6212a6eb-3297-4c17-9066-310b5d77e89d"
      },
      "outputs": [
        {
          "name": "stdout",
          "output_type": "stream",
          "text": [
            "Accuracy:  0.8477910351499516\n"
          ]
        }
      ],
      "source": [
        "total_observations = results.count()\n",
        "accuracy = float(total_tp) / total_observations  # Overall accuracy\n",
        "\n",
        "print(\"Accuracy: \", accuracy) #0.847597836461979 "
      ]
    },
    {
      "cell_type": "code",
      "execution_count": 138,
      "metadata": {
        "colab": {
          "base_uri": "https://localhost:8080/"
        },
        "id": "_tzBH7f3k0uZ",
        "outputId": "ec57cfb3-0ff3-46d9-e9d6-31be8a35b3b0"
      },
      "outputs": [
        {
          "name": "stdout",
          "output_type": "stream",
          "text": [
            "recall:  0.6867356538099718\n"
          ]
        }
      ],
      "source": [
        "recall_micro = total_tp / (total_tp + total_fn) if (total_tp + total_fn) > 0 else 0\n",
        "\n",
        "recall = float(total_tn) / (total_tp+total_tn)\n",
        "print(\"recall: \", recall)"
      ]
    },
    {
      "cell_type": "code",
      "execution_count": 151,
      "metadata": {},
      "outputs": [
        {
          "name": "stdout",
          "output_type": "stream",
          "text": [
            "F-score:  0.7587342101063903\n"
          ]
        }
      ],
      "source": [
        "precision = float(total_tp) / (total_tp + total_fp) if (total_tp + total_fp) != 0 else 0\n",
        "\n",
        "f_score = 2 * (precision * recall) / (precision + recall) if (precision + recall) != 0 else 0\n",
        "print(\"F-score: \", f_score)"
      ]
    },
    {
      "cell_type": "code",
      "execution_count": 139,
      "metadata": {
        "colab": {
          "base_uri": "https://localhost:8080/",
          "height": 772
        },
        "id": "jhxzbzj0Xrht",
        "outputId": "b6cd7871-5112-4796-8e48-0cea38db3dfe"
      },
      "outputs": [
        {
          "name": "stderr",
          "output_type": "stream",
          "text": [
            "c:\\Users\\kusum\\AppData\\Local\\Programs\\Python\\Python311\\Lib\\site-packages\\pyspark\\sql\\context.py:158: FutureWarning: Deprecated in 3.0.0. Use SparkSession.builder.getOrCreate() instead.\n",
            "  warnings.warn(\n"
          ]
        },
        {
          "data": {
            "image/png": "[encoded data removed]",
            "text/plain": [
              "<Figure size 1000x800 with 2 Axes>"
            ]
          },
          "metadata": {},
          "output_type": "display_data"
        }
      ],
      "source": [
        "from pyspark.mllib.evaluation import MulticlassMetrics\n",
        "import seaborn as sns\n",
        "import matplotlib.pyplot as plt\n",
        "\n",
        "# Step 1: Convert predictions to RDD\n",
        "predictionAndLabels = training_results.select(\"prediction\", \"accident_severity_integer\").rdd\n",
        "\n",
        "# Step 2: Initialize MulticlassMetrics with the RDD\n",
        "metrics = MulticlassMetrics(predictionAndLabels)\n",
        "\n",
        "# Step 3: Get the confusion matrix\n",
        "confusion_matrix = metrics.confusionMatrix().toArray()\n",
        "\n",
        "# Step 4: Visualize the confusion matrix\n",
        "plt.figure(figsize=(10, 8))\n",
        "sns.heatmap(confusion_matrix, annot=True, fmt='g')\n",
        "plt.xlabel('Predicted Labels')\n",
        "plt.ylabel('True Labels')\n",
        "plt.title('Confusion Matrix')\n",
        "plt.show()\n"
      ]
    },
    {
      "cell_type": "code",
      "execution_count": 140,
      "metadata": {
        "id": "e8V4EJSG4laW"
      },
      "outputs": [],
      "source": [
        "# Decision Tree"
      ]
    },
    {
      "cell_type": "code",
      "execution_count": 141,
      "metadata": {
        "id": "nqatbTrwQTTf"
      },
      "outputs": [],
      "source": [
        "from pyspark.ml.classification import DecisionTreeClassifier\n",
        "from pyspark.ml.evaluation import MulticlassClassificationEvaluator"
      ]
    },
    {
      "cell_type": "code",
      "execution_count": 142,
      "metadata": {
        "id": "N0NNlynuQf3m"
      },
      "outputs": [],
      "source": [
        "dt_df_classifier = DecisionTreeClassifier(labelCol=\"accident_severity_integer\").fit(training_df)"
      ]
    },
    {
      "cell_type": "code",
      "execution_count": 143,
      "metadata": {
        "id": "uUYvPlnGQv0B"
      },
      "outputs": [],
      "source": [
        "dt_df_predictions = dt_df_classifier.transform(test_df)"
      ]
    },
    {
      "cell_type": "code",
      "execution_count": 144,
      "metadata": {
        "colab": {
          "base_uri": "https://localhost:8080/"
        },
        "id": "QdKsFznDQ7a3",
        "outputId": "a1b7ae90-c636-48b3-9ad3-1527ac8a15d8"
      },
      "outputs": [
        {
          "name": "stdout",
          "output_type": "stream",
          "text": [
            "+--------------------+-------------------------+--------------------+--------------------+----------+\n",
            "|            features|accident_severity_integer|       rawPrediction|         probability|prediction|\n",
            "+--------------------+-------------------------+--------------------+--------------------+----------+\n",
            "|      (9,[0],[10.0])|                      1.0|[0.0,736.0,153.0,...|[0.0,0.8177777777...|       1.0|\n",
            "|      (9,[0],[13.0])|                      1.0|[0.0,736.0,153.0,...|[0.0,0.8177777777...|       1.0|\n",
            "|      (9,[0],[14.0])|                      1.0|[0.0,736.0,153.0,...|[0.0,0.8177777777...|       1.0|\n",
            "| (9,[0,1],[7.0,1.0])|                      2.0|[0.0,1809.0,261.0...|[0.0,0.8606089438...|       1.0|\n",
            "| (9,[0,1],[7.0,2.0])|                      1.0|[0.0,1809.0,261.0...|[0.0,0.8606089438...|       1.0|\n",
            "|(9,[0,1],[10.0,3.0])|                      1.0|[0.0,1809.0,261.0...|[0.0,0.8606089438...|       1.0|\n",
            "|(9,[0,1],[13.0,5.0])|                      1.0|[0.0,1809.0,261.0...|[0.0,0.8606089438...|       1.0|\n",
            "|(9,[0,1],[14.0,1.0])|                      1.0|[0.0,1809.0,261.0...|[0.0,0.8606089438...|       1.0|\n",
            "|(9,[0,1],[14.0,4.0])|                      1.0|[0.0,736.0,153.0,...|[0.0,0.8177777777...|       1.0|\n",
            "|(9,[0,1],[14.0,6.0])|                      1.0|[0.0,1809.0,261.0...|[0.0,0.8606089438...|       1.0|\n",
            "|(9,[0,1],[15.0,4.0])|                      1.0|[0.0,736.0,153.0,...|[0.0,0.8177777777...|       1.0|\n",
            "|(9,[0,1],[15.0,5.0])|                      2.0|[0.0,1809.0,261.0...|[0.0,0.8606089438...|       1.0|\n",
            "|(9,[0,1],[16.0,1.0])|                      3.0|[0.0,1809.0,261.0...|[0.0,0.8606089438...|       1.0|\n",
            "|(9,[0,1],[16.0,5.0])|                      1.0|[0.0,1809.0,261.0...|[0.0,0.8606089438...|       1.0|\n",
            "|(9,[0,1],[18.0,1.0])|                      1.0|[0.0,1809.0,261.0...|[0.0,0.8606089438...|       1.0|\n",
            "|(9,[0,1,2],[13.0,...|                      1.0|[0.0,736.0,153.0,...|[0.0,0.8177777777...|       1.0|\n",
            "|(9,[0,1,2,4],[15....|                      1.0|[0.0,1809.0,261.0...|[0.0,0.8606089438...|       1.0|\n",
            "|(9,[0,1,2,8],[9.0...|                      1.0|[0.0,1809.0,261.0...|[0.0,0.8606089438...|       1.0|\n",
            "|(9,[0,1,3],[2.0,6...|                      2.0|[0.0,1809.0,261.0...|[0.0,0.8606089438...|       1.0|\n",
            "|(9,[0,1,3],[4.0,6...|                      1.0|[0.0,1809.0,261.0...|[0.0,0.8606089438...|       1.0|\n",
            "+--------------------+-------------------------+--------------------+--------------------+----------+\n",
            "only showing top 20 rows\n",
            "\n"
          ]
        }
      ],
      "source": [
        "dt_df_predictions.show()"
      ]
    },
    {
      "cell_type": "code",
      "execution_count": 145,
      "metadata": {
        "id": "wpDa8jNzQ9Tx"
      },
      "outputs": [],
      "source": [
        "dt_df_accuracy = MulticlassClassificationEvaluator(labelCol=\"accident_severity_integer\",\n",
        "                                                   metricName=\"accuracy\").evaluate(dt_df_predictions)"
      ]
    },
    {
      "cell_type": "code",
      "execution_count": 146,
      "metadata": {
        "colab": {
          "base_uri": "https://localhost:8080/"
        },
        "id": "CVQB2OcfR9ap",
        "outputId": "7e9639cf-af24-4356-a69c-7888334e8588"
      },
      "outputs": [
        {
          "name": "stdout",
          "output_type": "stream",
          "text": [
            "Accuracy:  0.8466433343938912\n"
          ]
        }
      ],
      "source": [
        "print(\"Accuracy: \", dt_df_accuracy)"
      ]
    },
    {
      "cell_type": "code",
      "execution_count": 147,
      "metadata": {
        "id": "U5W_HHDOR-RX"
      },
      "outputs": [],
      "source": [
        "dt_df_percision = MulticlassClassificationEvaluator(labelCol=\"accident_severity_integer\",\n",
        "                                                   metricName=\"weightedPrecision\").evaluate(dt_df_predictions)"
      ]
    },
    {
      "cell_type": "code",
      "execution_count": 148,
      "metadata": {
        "colab": {
          "base_uri": "https://localhost:8080/"
        },
        "id": "_ROTic0MSGmu",
        "outputId": "7378c07f-7e77-4c8c-852a-feb72e508435"
      },
      "outputs": [
        {
          "name": "stdout",
          "output_type": "stream",
          "text": [
            "Percision:  0.759217925159246\n"
          ]
        }
      ],
      "source": [
        "print(\"Percision: \", dt_df_percision)"
      ]
    },
    {
      "cell_type": "code",
      "execution_count": 149,
      "metadata": {
        "colab": {
          "base_uri": "https://localhost:8080/"
        },
        "id": "IT0VKjVkSTFr",
        "outputId": "5b5c1a67-93c4-43bf-9d7c-973a67cf051e"
      },
      "outputs": [
        {
          "data": {
            "text/plain": [
              "['Accident_severity',\n",
              " 'Day_of_week',\n",
              " 'Weather_conditions',\n",
              " 'Light_conditions',\n",
              " 'Road_surface_conditions',\n",
              " 'Type_of_vehicle',\n",
              " 'Area_accident_occured',\n",
              " 'Hour',\n",
              " 'Age_band_of_driver',\n",
              " 'Types_of_Junction']"
            ]
          },
          "execution_count": 149,
          "metadata": {},
          "output_type": "execute_result"
        }
      ],
      "source": [
        "df.columns"
      ]
    },
    {
      "cell_type": "code",
      "execution_count": 150,
      "metadata": {
        "colab": {
          "base_uri": "https://localhost:8080/"
        },
        "id": "RVF1vB0oSgOU",
        "outputId": "21f2e224-6a1d-4c3a-e615-2351067b8964"
      },
      "outputs": [
        {
          "data": {
            "text/plain": [
              "SparseVector(9, {0: 0.1249, 1: 0.0521, 3: 0.1338, 5: 0.157, 6: 0.1455, 7: 0.2476, 8: 0.139})"
            ]
          },
          "execution_count": 150,
          "metadata": {},
          "output_type": "execute_result"
        }
      ],
      "source": [
        "dt_df_classifier.featureImportances"
      ]
    },
    {
      "cell_type": "code",
      "execution_count": 73,
      "metadata": {
        "id": "Og-TeWpiWD01"
      },
      "outputs": [],
      "source": []
    }
  ],
  "metadata": {
    "colab": {
      "provenance": []
    },
    "kernelspec": {
      "display_name": "Python 3",
      "name": "python3"
    },
    "language_info": {
      "codemirror_mode": {
        "name": "ipython",
        "version": 3
      },
      "file_extension": ".py",
      "mimetype": "text/x-python",
      "name": "python",
      "nbconvert_exporter": "python",
      "pygments_lexer": "ipython3",
      "version": "3.11.4"
    }
  },
  "nbformat": 4,
  "nbformat_minor": 0
}
