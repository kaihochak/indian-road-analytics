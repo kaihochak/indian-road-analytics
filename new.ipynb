{
 "cells": [
  {
   "cell_type": "markdown",
   "metadata": {},
   "source": [
    "# Question 1 #\n",
    "\n",
    "To pinpoint specific geographic locations and temporal patterns where accidents occur most frequently, enabling targeted measures to enhance road safety."
   ]
  },
  {
   "cell_type": "markdown",
   "metadata": {},
   "source": [
    "## Import data"
   ]
  },
  {
   "cell_type": "code",
   "execution_count": 2,
   "metadata": {},
   "outputs": [
    {
     "name": "stderr",
     "output_type": "stream",
     "text": [
      "23/12/19 15:30:52 WARN SparkSession: Using an existing Spark session; only runtime SQL configurations will take effect.\n"
     ]
    }
   ],
   "source": [
    "from pyspark.sql import SparkSession\n",
    "\n",
    "spark = SparkSession.builder \\\n",
    "    .appName(\"Accident Hotspots Analysis\") \\\n",
    "    .getOrCreate()\n",
    "\n",
    "df = spark.read.csv('Road.csv', header=True, inferSchema=True)"
   ]
  },
  {
   "cell_type": "code",
   "execution_count": 3,
   "metadata": {},
   "outputs": [
    {
     "data": {
      "text/plain": [
       "['Time',\n",
       " 'Day_of_week',\n",
       " 'Age_band_of_driver',\n",
       " 'Sex_of_driver',\n",
       " 'Educational_level',\n",
       " 'Vehicle_driver_relation',\n",
       " 'Driving_experience',\n",
       " 'Type_of_vehicle',\n",
       " 'Owner_of_vehicle',\n",
       " 'Service_year_of_vehicle',\n",
       " 'Defect_of_vehicle',\n",
       " 'Area_accident_occured',\n",
       " 'Lanes_or_Medians',\n",
       " 'Road_allignment',\n",
       " 'Types_of_Junction',\n",
       " 'Road_surface_type',\n",
       " 'Road_surface_conditions',\n",
       " 'Light_conditions',\n",
       " 'Weather_conditions',\n",
       " 'Type_of_collision',\n",
       " 'Number_of_vehicles_involved',\n",
       " 'Number_of_casualties',\n",
       " 'Vehicle_movement',\n",
       " 'Casualty_class',\n",
       " 'Sex_of_casualty',\n",
       " 'Age_band_of_casualty',\n",
       " 'Casualty_severity',\n",
       " 'Work_of_casuality',\n",
       " 'Fitness_of_casuality',\n",
       " 'Pedestrian_movement',\n",
       " 'Cause_of_accident',\n",
       " 'Accident_severity']"
      ]
     },
     "execution_count": 3,
     "metadata": {},
     "output_type": "execute_result"
    }
   ],
   "source": [
    "df.columns"
   ]
  },
  {
   "cell_type": "code",
   "execution_count": 4,
   "metadata": {},
   "outputs": [
    {
     "data": {
      "text/plain": [
       "12316"
      ]
     },
     "execution_count": 4,
     "metadata": {},
     "output_type": "execute_result"
    }
   ],
   "source": [
    "df.count()"
   ]
  },
  {
   "cell_type": "markdown",
   "metadata": {},
   "source": [
    "# Correlation Analysis - Categorical Data"
   ]
  },
  {
   "cell_type": "markdown",
   "metadata": {},
   "source": [
    "perform_chi_square_test"
   ]
  },
  {
   "cell_type": "code",
   "execution_count": 28,
   "metadata": {},
   "outputs": [],
   "source": [
    "from pyspark.sql import SparkSession\n",
    "from scipy.stats import chi2_contingency\n",
    "import pandas as pd\n",
    "\n",
    "def perform_chi_square_test(df, column1, column2):\n",
    "    \"\"\"\n",
    "    Perform a Chi-Square test on two categorical columns of a PySpark DataFrame.\n",
    "\n",
    "    Args:\n",
    "    df (DataFrame): PySpark DataFrame.\n",
    "    column1 (str): Name of the first column.\n",
    "    column2 (str): Name of the second column.\n",
    "\n",
    "    Returns:\n",
    "    p value\n",
    "    \"\"\"\n",
    "    # Create the contingency table\n",
    "    contingency_table = df.groupBy(column1, column2).count()\n",
    "\n",
    "    # Convert to Pandas DataFrame for chi-square test\n",
    "    contingency_pd = contingency_table.toPandas()\n",
    "    contingency_pd_pivot = contingency_pd.pivot(index=column1, columns=column2, values='count').fillna(0)\n",
    "\n",
    "    # Perform the Chi-Square Test\n",
    "    chi2, p, dof, expected = chi2_contingency(contingency_pd_pivot)\n",
    "    \n",
    "    # Return\n",
    "    return p"
   ]
  },
  {
   "cell_type": "markdown",
   "metadata": {},
   "source": [
    "chi_square_test_on_features"
   ]
  },
  {
   "cell_type": "code",
   "execution_count": 29,
   "metadata": {},
   "outputs": [],
   "source": [
    "from pyspark.sql import DataFrame\n",
    "import matplotlib.pyplot as plt\n",
    "import seaborn as sns\n",
    "import pandas as pd\n",
    "\n",
    "def chi_square_test_on_features(df: DataFrame, target_column: str, significance_level: float) -> list:\n",
    "    \"\"\"\n",
    "    Filters the target column in a PySpark DataFrame, iterates over each feature column,\n",
    "    performs chi-square tests, plots the results, and returns the list of test results.\n",
    "\n",
    "    :param df: PySpark DataFrame to be used.\n",
    "    :param target_column: The target column for chi-square tests.\n",
    "    :param significance_level: The significance level for the chi-square test.\n",
    "    :return: List of tuples containing column names, test results, and p-values.\n",
    "    \"\"\"\n",
    "    # Filter the target column\n",
    "    df = df.filter(\n",
    "        df[target_column].isNotNull() & \n",
    "        (~df[target_column].isin(['unknown', 'Unknown', 'Other', 'other', 'na', 'normalNormal']))\n",
    "    )\n",
    "\n",
    "    test_results = []\n",
    "\n",
    "    # Iterate over each feature column\n",
    "    for column in df.columns:\n",
    "        if column != target_column:\n",
    "            # Filter the feature column\n",
    "            df_filtered = df.filter(\n",
    "                df[column].isNotNull() & \n",
    "                (~df[column].isin(['unknown', 'Unknown', 'Other', 'other', 'na', 'normalNormal']))\n",
    "            )\n",
    "\n",
    "            # Perform chi-square test (assuming perform_chi_square_test is defined)\n",
    "            p = perform_chi_square_test(df_filtered, column, target_column)\n",
    "\n",
    "            # Compare p-value with significance level and determine the result\n",
    "            result = 'Dependent (reject H0)' if p <= significance_level else 'Independent (H0 holds true)'\n",
    "\n",
    "            # Append column name, result, and p-value to the list\n",
    "            test_results.append((column, result, p))\n",
    "\n",
    "    # Plotting the results\n",
    "    plot_df = pd.DataFrame(test_results, columns=['Feature', 'Result', 'P-Value'])\n",
    "\n",
    "    # Set the figure size\n",
    "    plt.figure(figsize=(10, len(plot_df['Feature']) / 2))\n",
    "\n",
    "    # Horizontal bar chart\n",
    "    sns.barplot(x='P-Value', y='Feature', data=plot_df)\n",
    "    plt.title('P-Values of Features')\n",
    "    plt.show()\n",
    "\n",
    "    # Return the list of test results\n",
    "    return test_results"
   ]
  },
  {
   "cell_type": "code",
   "execution_count": 30,
   "metadata": {},
   "outputs": [
    {
     "name": "stderr",
     "output_type": "stream",
     "text": [
      "/usr/local/lib/python3.11/site-packages/pyspark/sql/pandas/types.py:563: FutureWarning: is_datetime64tz_dtype is deprecated and will be removed in a future version. Check `isinstance(dtype, pd.DatetimeTZDtype)` instead.\n",
      "  if not is_datetime64tz_dtype(pser.dtype):\n",
      "/usr/local/lib/python3.11/site-packages/pyspark/sql/pandas/types.py:379: FutureWarning: is_datetime64tz_dtype is deprecated and will be removed in a future version. Check `isinstance(dtype, pd.DatetimeTZDtype)` instead.\n",
      "  if is_datetime64tz_dtype(s.dtype):\n"
     ]
    },
    {
     "data": {
      "image/png": "[encoded data removed]",
      "text/plain": [
       "<Figure size 1000x1550 with 1 Axes>"
      ]
     },
     "metadata": {},
     "output_type": "display_data"
    },
    {
     "name": "stdout",
     "output_type": "stream",
     "text": [
      "                        Feature                       Result       P-Value\n",
      "0                          Time        Dependent (reject H0)  0.000000e+00\n",
      "21         Number_of_casualties        Dependent (reject H0)  2.045418e-67\n",
      "20  Number_of_vehicles_involved        Dependent (reject H0)  3.013343e-62\n",
      "17             Light_conditions        Dependent (reject H0)  4.627954e-08\n",
      "14            Types_of_Junction        Dependent (reject H0)  4.287789e-06\n",
      "1                   Day_of_week        Dependent (reject H0)  4.300319e-06\n",
      "2            Age_band_of_driver        Dependent (reject H0)  7.452442e-06\n",
      "11        Area_accident_occured        Dependent (reject H0)  3.205199e-03\n",
      "18           Weather_conditions        Dependent (reject H0)  1.387240e-02\n",
      "25         Age_band_of_casualty        Dependent (reject H0)  3.431907e-02\n",
      "6            Driving_experience        Dependent (reject H0)  4.833484e-02\n",
      "30            Cause_of_accident  Independent (H0 holds true)  5.875545e-02\n",
      "15            Road_surface_type  Independent (H0 holds true)  1.202733e-01\n",
      "5       Vehicle_driver_relation  Independent (H0 holds true)  1.253003e-01\n",
      "19            Type_of_collision  Independent (H0 holds true)  1.402361e-01\n",
      "12             Lanes_or_Medians  Independent (H0 holds true)  1.580779e-01\n",
      "24              Sex_of_casualty  Independent (H0 holds true)  1.677773e-01\n",
      "7               Type_of_vehicle  Independent (H0 holds true)  3.005278e-01\n",
      "27            Work_of_casuality  Independent (H0 holds true)  3.354673e-01\n",
      "3                 Sex_of_driver  Independent (H0 holds true)  3.429351e-01\n",
      "22             Vehicle_movement  Independent (H0 holds true)  4.068349e-01\n",
      "8              Owner_of_vehicle  Independent (H0 holds true)  4.184744e-01\n",
      "16      Road_surface_conditions  Independent (H0 holds true)  4.551747e-01\n",
      "23               Casualty_class  Independent (H0 holds true)  5.203312e-01\n",
      "29          Pedestrian_movement  Independent (H0 holds true)  5.804003e-01\n",
      "26            Casualty_severity  Independent (H0 holds true)  6.377553e-01\n",
      "10            Defect_of_vehicle  Independent (H0 holds true)  6.441861e-01\n",
      "13              Road_allignment  Independent (H0 holds true)  6.734378e-01\n",
      "9       Service_year_of_vehicle  Independent (H0 holds true)  6.753270e-01\n",
      "28         Fitness_of_casuality  Independent (H0 holds true)  7.442941e-01\n",
      "4             Educational_level  Independent (H0 holds true)  9.818024e-01\n"
     ]
    }
   ],
   "source": [
    "import pandas as pd\n",
    "\n",
    "\n",
    "# Call the chi_square_test_on_features function\n",
    "test_results = chi_square_test_on_features(df, 'Accident_severity', 0.05)\n",
    "\n",
    "# Create a Pandas DataFrame from the list for table display\n",
    "results_df = pd.DataFrame(test_results, columns=['Feature', 'Result', 'P-Value'])\n",
    "results_df = results_df.sort_values(by='P-Value', ascending=True)\n",
    "\n",
    "# Display the table\n",
    "print(results_df)\n"
   ]
  },
  {
   "cell_type": "markdown",
   "metadata": {},
   "source": [
    "## Sex_of_driver vs Accident_severity (Not statistically Significant)\n",
    "If a correlation is found, it might suggest that certain driver demographics are more prone to be involved in severe accidents in specific areas. This can lead to targeted safety programs or interventions focused on these demographics."
   ]
  },
  {
   "cell_type": "code",
   "execution_count": 19,
   "metadata": {},
   "outputs": [
    {
     "name": "stdout",
     "output_type": "stream",
     "text": [
      "Accident_severity - Independent (H0 holds true)\n"
     ]
    }
   ],
   "source": [
    "from pyspark.sql import SparkSession, functions as F\n",
    "\n",
    "# Initialize Spark Session (if not already initialized)\n",
    "spark = SparkSession.builder.appName(\"DataTransform\").getOrCreate()\n",
    "\n",
    "# clean and run chi square test for all features\n",
    "clean_and_chiSqaure(df, 'Sex_of_driver', 'Accident_severity')\n",
    "\n",
    "# p_values = chi_square_test_on_features(df, 'Accident_severity')\n",
    "\n"
   ]
  },
  {
   "cell_type": "markdown",
   "metadata": {},
   "source": [
    "## Educational_level vs Accident_severity (>P, Weak Association)\n",
    "Correlation here could indicate the need for educational campaigns or driver safety programs tailored to different education levels, potentially reducing accident severity in specific regions."
   ]
  },
  {
   "cell_type": "code",
   "execution_count": null,
   "metadata": {},
   "outputs": [],
   "source": [
    "from pyspark.sql import functions as F\n",
    "\n",
    "# Assuming 'df' is your PySpark DataFrame and 'Sex_of_driver' is the column of interest\n",
    "df_filter = df.filter(df['Educational_level'].isNotNull() & (df['Educational_level'] != 'unknown') & (df['Educational_level'] != 'Unknown'))\n",
    "df_filter = df_filter.filter(df_filter['Accident_severity'].isNotNull() & (df_filter['Accident_severity'] != 'unknown') & (df_filter['Accident_severity'] != 'Unknown'))"
   ]
  },
  {
   "cell_type": "code",
   "execution_count": null,
   "metadata": {},
   "outputs": [],
   "source": [
    "from pyspark.sql import SparkSession\n",
    "from scipy.stats import chi2_contingency\n",
    "import pandas as pd\n",
    "\n",
    "# Initialize Spark Session\n",
    "spark = SparkSession.builder.appName(\"ChiSquareTest\").getOrCreate()\n",
    "\n",
    "# Assuming df is your PySpark DataFrame\n",
    "# Create the contingency table\n",
    "contingency_table = df.groupBy('Educational_level', 'Accident_severity').count()\n",
    "\n",
    "# Convert to Pandas DataFrame for chi-square test\n",
    "contingency_pd = contingency_table.toPandas()\n",
    "contingency_pd_pivot = contingency_pd.pivot(index='Educational_level', columns='Accident_severity', values='count').fillna(0)\n",
    "\n",
    "# Perform the Chi-Square Test\n",
    "chi2, p, dof, expected = chi2_contingency(contingency_pd_pivot)\n",
    "\n",
    "# Output the results\n",
    "print(chi2, p, dof, expected)"
   ]
  },
  {
   "cell_type": "markdown",
   "metadata": {},
   "source": [
    "## Day_of_week vs Type_of_collision (<P, but not related to accident frequency or location)\n",
    "Identifying days with higher frequencies of certain types of collisions can inform scheduling for increased road safety measures or traffic enforcement on those specific days."
   ]
  },
  {
   "cell_type": "code",
   "execution_count": null,
   "metadata": {},
   "outputs": [],
   "source": [
    "from pyspark.sql import functions as F\n",
    "\n",
    "# Assuming 'df' is your PySpark DataFrame and 'Sex_of_driver' is the column of interest\n",
    "df_filter = df.filter(df['Day_of_week'].isNotNull() & (df['Day_of_week'] != 'unknown') & (df['Day_of_week'] != 'Unknown'))\n",
    "df_filter = df_filter.filter(df_filter['Type_of_collision'].isNotNull() & (df_filter['Type_of_collision'] != 'Other'))"
   ]
  },
  {
   "cell_type": "code",
   "execution_count": null,
   "metadata": {},
   "outputs": [],
   "source": [
    "from pyspark.sql import SparkSession\n",
    "from scipy.stats import chi2_contingency\n",
    "import pandas as pd\n",
    "\n",
    "# Initialize Spark Session\n",
    "spark = SparkSession.builder.appName(\"ChiSquareTest\").getOrCreate()\n",
    "\n",
    "# Assuming df is your PySpark DataFrame\n",
    "# Create the contingency table\n",
    "contingency_table = df.groupBy('Day_of_week', 'Type_of_collision').count()\n",
    "\n",
    "# Convert to Pandas DataFrame for chi-square test\n",
    "contingency_pd = contingency_table.toPandas()\n",
    "contingency_pd_pivot = contingency_pd.pivot(index='Day_of_week', columns='Type_of_collision', values='count').fillna(0)\n",
    "\n",
    "# Perform the Chi-Square Test\n",
    "chi2, p, dof, expected = chi2_contingency(contingency_pd_pivot)\n",
    "\n",
    "# Output the results\n",
    "print(chi2, p, dof, expected)"
   ]
  },
  {
   "cell_type": "markdown",
   "metadata": {},
   "source": [
    "## *Weather_conditions vs Accident_severity*\n",
    "This correlation can help in predicting accident severity based on weather conditions. It can guide the deployment of weather-specific road safety measures in areas prone to severe weather-related accidents."
   ]
  },
  {
   "cell_type": "code",
   "execution_count": null,
   "metadata": {},
   "outputs": [],
   "source": [
    "from pyspark.sql import functions as F\n",
    "\n",
    "# Assuming 'df' is your PySpark DataFrame and 'Sex_of_driver' is the column of interest\n",
    "df_filter = df.filter(df['Weather_conditions'].isNotNull() & (df['Weather_conditions'] != 'Other') & (df['Weather_conditions'] != 'Unknown'))\n",
    "df_filter = df_filter.filter(df_filter['Accident_severity'].isNotNull() & (df_filter['Accident_severity'] != 'unknown') & (df_filter['Accident_severity'] != 'Unknown'))"
   ]
  },
  {
   "cell_type": "code",
   "execution_count": null,
   "metadata": {},
   "outputs": [],
   "source": [
    "from pyspark.sql import SparkSession\n",
    "from scipy.stats import chi2_contingency\n",
    "import pandas as pd\n",
    "\n",
    "# Initialize Spark Session\n",
    "spark = SparkSession.builder.appName(\"ChiSquareTest\").getOrCreate()\n",
    "\n",
    "# Assuming df is your PySpark DataFrame\n",
    "# Create the contingency table\n",
    "contingency_table = df.groupBy('Weather_conditions', 'Accident_severity').count()\n",
    "\n",
    "# Convert to Pandas DataFrame for chi-square test\n",
    "contingency_pd = contingency_table.toPandas()\n",
    "contingency_pd_pivot = contingency_pd.pivot(index='Weather_conditions', columns='Accident_severity', values='count').fillna(0)\n",
    "\n",
    "# Perform the Chi-Square Test\n",
    "chi2, p, dof, expected = chi2_contingency(contingency_pd_pivot)\n",
    "\n",
    "# Output the results\n",
    "print(chi2, p, dof, expected)"
   ]
  },
  {
   "cell_type": "markdown",
   "metadata": {},
   "source": [
    "## *Light_conditions vs Accident_severity*\n",
    "Understanding how light conditions affect accident severity can inform infrastructure improvements (like street lighting) in specific areas, and help in scheduling increased patrolling during high-risk light conditions."
   ]
  },
  {
   "cell_type": "code",
   "execution_count": null,
   "metadata": {},
   "outputs": [],
   "source": [
    "from pyspark.sql import functions as F\n",
    "\n",
    "# Assuming 'df' is your PySpark DataFrame and 'Sex_of_driver' is the column of interest\n",
    "df_filter = df\n",
    "df_filter = df_filter.filter(df_filter['Accident_severity'].isNotNull() & (df_filter['Accident_severity'] != 'unknown') & (df_filter['Accident_severity'] != 'Unknown'))"
   ]
  },
  {
   "cell_type": "code",
   "execution_count": null,
   "metadata": {},
   "outputs": [],
   "source": [
    "from pyspark.sql import SparkSession\n",
    "from scipy.stats import chi2_contingency\n",
    "import pandas as pd\n",
    "\n",
    "# Initialize Spark Session\n",
    "spark = SparkSession.builder.appName(\"ChiSquareTest\").getOrCreate()\n",
    "\n",
    "# Assuming df is your PySpark DataFrame\n",
    "# Create the contingency table\n",
    "contingency_table = df.groupBy('Light_conditions', 'Accident_severity').count()\n",
    "\n",
    "# Convert to Pandas DataFrame for chi-square test\n",
    "contingency_pd = contingency_table.toPandas()\n",
    "contingency_pd_pivot = contingency_pd.pivot(index='Light_conditions', columns='Accident_severity', values='count').fillna(0)\n",
    "\n",
    "# Perform the Chi-Square Test\n",
    "chi2, p, dof, expected = chi2_contingency(contingency_pd_pivot)\n",
    "\n",
    "# Output the results\n",
    "print(chi2, p, dof, expected)"
   ]
  },
  {
   "cell_type": "markdown",
   "metadata": {},
   "source": [
    "## *Road_surface_conditions vs Accident_severity*\n",
    "Knowing how road conditions influence accident severity can guide maintenance and infrastructure development in specific geographic locations to improve road safety."
   ]
  },
  {
   "cell_type": "code",
   "execution_count": null,
   "metadata": {},
   "outputs": [],
   "source": [
    "from pyspark.sql import functions as F\n",
    "\n",
    "# Assuming 'df' is your PySpark DataFrame and 'Sex_of_driver' is the column of interest\n",
    "df_filter = df\n",
    "df_filter = df_filter.filter(df_filter['Accident_severity'].isNotNull() & (df_filter['Accident_severity'] != 'unknown') & (df_filter['Accident_severity'] != 'Unknown'))"
   ]
  },
  {
   "cell_type": "code",
   "execution_count": null,
   "metadata": {},
   "outputs": [],
   "source": [
    "from pyspark.sql import SparkSession\n",
    "from scipy.stats import chi2_contingency\n",
    "import pandas as pd\n",
    "\n",
    "# Initialize Spark Session\n",
    "spark = SparkSession.builder.appName(\"ChiSquareTest\").getOrCreate()\n",
    "\n",
    "# Assuming df is your PySpark DataFrame\n",
    "# Create the contingency table\n",
    "contingency_table = df.groupBy('Road_surface_conditions', 'Accident_severity').count()\n",
    "\n",
    "# Convert to Pandas DataFrame for chi-square test\n",
    "contingency_pd = contingency_table.toPandas()\n",
    "contingency_pd_pivot = contingency_pd.pivot(index='Road_surface_conditions', columns='Accident_severity', values='count').fillna(0)\n",
    "\n",
    "# Perform the Chi-Square Test\n",
    "chi2, p, dof, expected = chi2_contingency(contingency_pd_pivot)\n",
    "\n",
    "# Output the results\n",
    "print(chi2, p, dof, expected)"
   ]
  },
  {
   "cell_type": "markdown",
   "metadata": {},
   "source": [
    "## *Type_of_vehicle vs Accident_severity*\n",
    "This correlation can inform targeted vehicle safety standards or advisories for certain vehicle types, especially in areas where these vehicles are involved in more severe accidents."
   ]
  },
  {
   "cell_type": "code",
   "execution_count": null,
   "metadata": {},
   "outputs": [],
   "source": [
    "from pyspark.sql import functions as F\n",
    "import pandas as pd\n",
    "\n",
    "# Assuming 'df' is your PySpark DataFrame and 'Sex_of_driver' is the column of interest\n",
    "df_filter = df.filter(df['Type_of_vehicle'].isNotNull() & (df['Type_of_vehicle'] != 'Other') & (df['Type_of_vehicle'] != 'Bajaj'))\n",
    "# Assuming df_filter is your PySpark DataFrame\n",
    "df_filter = df_filter.withColumn(\"Type_of_vehicle\", F.regexp_replace(F.col(\"Type_of_vehicle\"), r\"\\s\\(.*\\)\", \"\"))\n",
    "\n",
    "df_filter = df_filter.filter(df_filter['Accident_severity'].isNotNull() & (df_filter['Accident_severity'] != 'unknown') & (df_filter['Accident_severity'] != 'Unknown'))"
   ]
  },
  {
   "cell_type": "code",
   "execution_count": null,
   "metadata": {},
   "outputs": [],
   "source": [
    "from pyspark.sql import SparkSession\n",
    "from scipy.stats import chi2_contingency\n",
    "import pandas as pd\n",
    "\n",
    "# Initialize Spark Session\n",
    "spark = SparkSession.builder.appName(\"ChiSquareTest\").getOrCreate()\n",
    "\n",
    "# Assuming df is your PySpark DataFrame\n",
    "# Create the contingency table\n",
    "contingency_table = df.groupBy('Type_of_vehicle', 'Accident_severity').count()\n",
    "\n",
    "# Convert to Pandas DataFrame for chi-square test\n",
    "contingency_pd = contingency_table.toPandas()\n",
    "contingency_pd_pivot = contingency_pd.pivot(index='Type_of_vehicle', columns='Accident_severity', values='count').fillna(0)\n",
    "\n",
    "# Perform the Chi-Square Test\n",
    "chi2, p, dof, expected = chi2_contingency(contingency_pd_pivot)\n",
    "\n",
    "# Output the results\n",
    "print(chi2, p, dof, expected)"
   ]
  },
  {
   "cell_type": "markdown",
   "metadata": {},
   "source": [
    "## *Area_accident_occurred vs Accident_severity*\n",
    "Identifying areas prone to severe accidents is directly related to your goal. This information can be used to focus road safety improvements, traffic regulation changes, or public awareness campaigns in these specific locations."
   ]
  },
  {
   "cell_type": "code",
   "execution_count": null,
   "metadata": {},
   "outputs": [],
   "source": [
    "from pyspark.sql import functions as F\n",
    "\n",
    "# Assuming 'df' is your PySpark DataFrame and 'Sex_of_driver' is the column of interest\n",
    "df_filter = df.filter(df['Area_accident_occured'].isNotNull() & (df['Area_accident_occured'] != 'Other') & (df['Area_accident_occured'] != 'Unknown') & (df['Area_accident_occured'] != 'Rural village areasOffice areas'))\n",
    "df_filter = df_filter.filter(df_filter['Accident_severity'].isNotNull() & (df_filter['Accident_severity'] != 'unknown') & (df_filter['Accident_severity'] != 'Unknown'))"
   ]
  },
  {
   "cell_type": "code",
   "execution_count": null,
   "metadata": {},
   "outputs": [],
   "source": [
    "from pyspark.sql import SparkSession\n",
    "from scipy.stats import chi2_contingency\n",
    "import pandas as pd\n",
    "\n",
    "# Initialize Spark Session\n",
    "spark = SparkSession.builder.appName(\"ChiSquareTest\").getOrCreate()\n",
    "\n",
    "# Assuming df is your PySpark DataFrame\n",
    "# Create the contingency table\n",
    "contingency_table = df.groupBy('Area_accident_occured', 'Accident_severity').count()\n",
    "\n",
    "# Convert to Pandas DataFrame for chi-square test\n",
    "contingency_pd = contingency_table.toPandas()\n",
    "contingency_pd_pivot = contingency_pd.pivot(index='Area_accident_occured', columns='Accident_severity', values='count').fillna(0)\n",
    "\n",
    "# Perform the Chi-Square Test\n",
    "chi2, p, dof, expected = chi2_contingency(contingency_pd_pivot)\n",
    "\n",
    "# Output the results\n",
    "print(chi2, p, dof, expected)"
   ]
  },
  {
   "cell_type": "markdown",
   "metadata": {},
   "source": [
    "# Correlation Analysis - Visual Analysis"
   ]
  },
  {
   "cell_type": "markdown",
   "metadata": {},
   "source": [
    "## Heatmap for Temporal Pattern\n",
    "heatmaps for time-related data like \n",
    "\n",
    "*'Day_of_week' vs 'accident frequency'*\n",
    "\n",
    "*'Hour'vs 'accident frequency'*\n",
    "\n",
    "time of an accident is a significant factor and should definitely be included in the model"
   ]
  },
  {
   "cell_type": "code",
   "execution_count": null,
   "metadata": {},
   "outputs": [],
   "source": [
    "import pandas as pd\n",
    "from pyspark.sql.functions import hour, minute\n",
    "import matplotlib.pyplot as plt\n",
    "import seaborn as sns\n",
    "\n",
    "df = df.withColumn('Hour', hour(df['Time']))\n",
    "df = df.withColumn('Minute', minute(df['Time']))\n",
    "\n",
    "df_filter = df.filter(df['Day_of_week'].isNotNull())\n",
    "df_filter = df_filter.filter(df_filter['Hour'].isNotNull())\n",
    "df_filter = df_filter.filter(df_filter['Accident_severity'].isNotNull() & (df_filter['Accident_severity'] != 'unknown') & (df_filter['Accident_severity'] != 'Unknown'))\n",
    "\n",
    "# Get distinct values for 'Day_of_week' and 'Area_accident_occured'\n",
    "day_of_week_unique = df_filter.select('Day_of_week').distinct()\n",
    "area_accident_occured_unique = df_filter.select('Area_accident_occured').distinct()\n",
    "\n",
    "# Creating a crosstab (contingency table) in PySpark\n",
    "contingency_table_df = df_filter.crosstab('Day_of_week', 'Area_accident_occured')\n",
    "\n",
    "# Convert the PySpark DataFrame to Pandas DataFrame for plotting\n",
    "contingency_table_pd = contingency_table_df.toPandas()\n",
    "\n",
    "# Set an appropriate index for the heatmap\n",
    "contingency_table_pd = contingency_table_pd.set_index('Day_of_week_Area_accident_occured')\n",
    "\n",
    "# Plotting the heatmap\n",
    "plt.figure(figsize=(12, 8))\n",
    "sns.heatmap(contingency_table_pd, annot=True, fmt='d', cmap='viridis')\n",
    "plt.title('Correlation between Area of Accident Occurrence and Day of the Week')\n",
    "plt.ylabel('Day of the Week')\n",
    "plt.xlabel('Area of Accident Occurrence')\n",
    "plt.show()\n",
    "\n",
    "# Get distinct values for 'Day_of_week' and 'Area_accident_occured'\n",
    "Hour_unique = df_filter.select('Hour').distinct()\n",
    "area_accident_occured_unique = df_filter.select('Area_accident_occured').distinct()\n",
    "\n",
    "# Creating a crosstab (contingency table) in PySpark\n",
    "contingency_table_df = df_filter.crosstab('Hour', 'Area_accident_occured')\n",
    "\n",
    "# Convert the PySpark DataFrame to Pandas DataFrame for plotting\n",
    "contingency_table_pd = contingency_table_df.toPandas()\n",
    "\n",
    "# Set an appropriate index for the heatmap\n",
    "contingency_table_pd = contingency_table_pd.set_index('Hour_Area_accident_occured')\n",
    "\n",
    "# Plotting the heatmap\n",
    "plt.figure(figsize=(12, 8))\n",
    "sns.heatmap(contingency_table_pd, annot=True, fmt='d', cmap='viridis')\n",
    "plt.title('Correlation between Area of Accident Occurrence and Hours')\n",
    "plt.ylabel('Hour')\n",
    "plt.xlabel('Area of Accident Occurrence')\n",
    "plt.show()\n"
   ]
  },
  {
   "cell_type": "markdown",
   "metadata": {},
   "source": [
    "## Bar Charts for Categorical Data Analysis\n",
    "\n",
    "*'Weather_conditions' vs 'count of accidents'*: even if accidents are less frequent in adverse weather conditions, they might still be more severe, so this feature should be included in the model\n",
    "\n",
    "*'Road_surface_conditions' vs 'count of accidents'*:  the severity and the risk of accidents might increase with adverse road conditions\n",
    "\n",
    "*'Light_conditions' vs 'count of accidents'*: show a strong correlation with the number of accidents\n",
    "\n",
    "*'Type_of_vehicle' vs 'count of accidents'*: This feature can help in understanding if certain vehicle types are more prone to accidents."
   ]
  },
  {
   "cell_type": "code",
   "execution_count": null,
   "metadata": {},
   "outputs": [],
   "source": [
    "from pyspark.sql import functions as F\n",
    "\n",
    "# Assuming 'df' is your PySpark DataFrame and 'Sex_of_driver' is the column of interest\n",
    "df_filter = df.filter(df['Weather_conditions'].isNotNull() & (df['Weather_conditions'] != 'Other') & (df['Weather_conditions'] != 'Unknown'))\n",
    "df_filter = df_filter.filter(df_filter['Road_surface_conditions'].isNotNull())\n",
    "df_filter = df_filter.filter(df_filter['Light_conditions'].isNotNull())\n",
    "df_filter = df_filter.filter(df_filter['Type_of_vehicle'].isNotNull() & (df['Type_of_vehicle'] != 'Other') & (df['Type_of_vehicle'] != 'Bajaj'))\n",
    "df_filter = df_filter.withColumn(\"Type_of_vehicle\", F.regexp_replace(F.col(\"Type_of_vehicle\"), r\"\\s\\(.*\\)\", \"\"))"
   ]
  },
  {
   "cell_type": "code",
   "execution_count": null,
   "metadata": {},
   "outputs": [],
   "source": [
    "from pyspark.sql import functions as F\n",
    "import matplotlib.pyplot as plt\n",
    "import seaborn as sns\n",
    "\n",
    "# Assuming df_filter is your PySpark DataFrame\n",
    "# Group by 'Weather_conditions' and count\n",
    "accident_counts = df_filter.groupBy('Weather_conditions').count()\n",
    "\n",
    "# Convert to Pandas DataFrame for plotting\n",
    "accident_counts_pd = accident_counts.toPandas()\n",
    "\n",
    "# Sort the DataFrame for better visualization\n",
    "accident_counts_pd = accident_counts_pd.sort_values(by='count', ascending=False)\n",
    "\n",
    "# Creating the bar chart\n",
    "plt.figure(figsize=(10, 6))\n",
    "sns.barplot(x='Weather_conditions', y='count', data=accident_counts_pd)\n",
    "\n",
    "# Adding title and labels\n",
    "plt.title('Count of Accidents by Weather Conditions')\n",
    "plt.xlabel('Weather Conditions')\n",
    "plt.ylabel('Number of Accidents')\n",
    "plt.xticks(rotation=45)  # Rotating the x labels for better readability\n",
    "\n",
    "# Display the plot\n",
    "plt.show()\n",
    "\n",
    "# Group by 'Road_surface_conditions' and count\n",
    "road_surface_counts = df_filter.groupBy('Road_surface_conditions').count()\n",
    "\n",
    "# Convert to Pandas DataFrame for plotting\n",
    "road_surface_counts_pd = road_surface_counts.toPandas().sort_values(by='count', ascending=False)\n",
    "\n",
    "# Creating the bar chart\n",
    "plt.figure(figsize=(10, 6))\n",
    "sns.barplot(x='Road_surface_conditions', y='count', data=road_surface_counts_pd)\n",
    "plt.title('Count of Accidents by Road Surface Conditions')\n",
    "plt.xlabel('Road Surface Conditions')\n",
    "plt.ylabel('Number of Accidents')\n",
    "plt.xticks(rotation=45)\n",
    "plt.show()\n",
    "\n",
    "\n",
    "# Group by 'Light_conditions' and count\n",
    "light_conditions_counts = df_filter.groupBy('Light_conditions').count()\n",
    "\n",
    "# Convert to Pandas DataFrame for plotting\n",
    "light_conditions_counts_pd = light_conditions_counts.toPandas().sort_values(by='count', ascending=False)\n",
    "\n",
    "# Creating the bar chart\n",
    "plt.figure(figsize=(10, 6))\n",
    "sns.barplot(x='Light_conditions', y='count', data=light_conditions_counts_pd)\n",
    "plt.title('Count of Accidents by Light Conditions')\n",
    "plt.xlabel('Light Conditions')\n",
    "plt.ylabel('Number of Accidents')\n",
    "plt.xticks(rotation=45)\n",
    "plt.show()\n",
    "\n",
    "\n",
    "# Group by 'Type_of_vehicle' and count\n",
    "type_of_vehicle_counts = df_filter.groupBy('Type_of_vehicle').count()\n",
    "\n",
    "# Convert to Pandas DataFrame for plotting\n",
    "type_of_vehicle_counts_pd = type_of_vehicle_counts.toPandas().sort_values(by='count', ascending=False)\n",
    "\n",
    "# Creating the bar chart\n",
    "plt.figure(figsize=(10, 6))\n",
    "sns.barplot(x='Type_of_vehicle', y='count', data=type_of_vehicle_counts_pd)\n",
    "plt.title('Count of Accidents by Type of Vehicle')\n",
    "plt.xlabel('Type of Vehicle')\n",
    "plt.ylabel('Number of Accidents')\n",
    "plt.xticks(rotation=45)\n",
    "plt.show()"
   ]
  },
  {
   "cell_type": "markdown",
   "metadata": {},
   "source": [
    "## Time Series Analysis"
   ]
  },
  {
   "cell_type": "code",
   "execution_count": null,
   "metadata": {},
   "outputs": [],
   "source": [
    "from pyspark.sql.functions import hour\n",
    "import matplotlib.pyplot as plt\n",
    "import seaborn as sns\n",
    "\n",
    "df_filter = df.withColumn('Hour', hour(df['Time']))\n",
    "df_filter = df_filter.filter(df['Hour'].isNotNull())\n",
    "df_filter = df_filter.filter(df['Day_of_week'].isNotNull())\n",
    "\n",
    "# Group the data by 'Day_of_week' and 'Hour' and count the number of accidents\n",
    "accidents_by_day_hour = df_filter.groupBy('Day_of_week', 'Hour').count()\n",
    "\n",
    "# Convert to Pandas DataFrame for plotting\n",
    "accidents_by_day_hour_pd = accidents_by_day_hour.toPandas()\n",
    "\n",
    "# Pivot the data for better visualization\n",
    "accidents_pivot = accidents_by_day_hour_pd.pivot(index='Hour', columns='Day_of_week', values='count').fillna(0)\n",
    "\n",
    "# Plotting the data\n",
    "plt.figure(figsize=(12, 8))\n",
    "sns.heatmap(accidents_pivot, annot=False, fmt=\".0f\", linewidths=.5, cmap='viridis')\n",
    "plt.title('Distribution of Accidents by Day of Week and Hour')\n",
    "plt.xlabel('Day of the Week')\n",
    "plt.ylabel('Hour of Day')\n",
    "plt.show()\n",
    "\n"
   ]
  },
  {
   "cell_type": "markdown",
   "metadata": {},
   "source": [
    "# Avoiding Multicollinearity"
   ]
  },
  {
   "cell_type": "code",
   "execution_count": null,
   "metadata": {},
   "outputs": [],
   "source": []
  },
  {
   "cell_type": "markdown",
   "metadata": {},
   "source": [
    "# ML Model"
   ]
  },
  {
   "cell_type": "code",
   "execution_count": null,
   "metadata": {},
   "outputs": [],
   "source": [
    "from pyspark.sql.functions import udf\n",
    "from pyspark.sql.types import IntegerType\n",
    "from pyspark.sql.functions import hour\n",
    "from pyspark.sql import SparkSession\n",
    "\n",
    "\n",
    "# Initialize Spark session\n",
    "spark = SparkSession.builder \\\n",
    "    .appName(\"Accident Hotspots Analysis\") \\\n",
    "    .getOrCreate()\n",
    "\n",
    "# Load your DataFrame here\n",
    "df = spark.read.csv('Road.csv', header=True, inferSchema=True)\n",
    "\n",
    "# Create a user-defined function for converting days to numbers\n",
    "days_dict = {'Monday': 1, 'Tuesday': 2, 'Wednesday': 3, 'Thursday': 4, 'Friday': 5, 'Saturday': 6, 'Sunday': 7}\n",
    "convert_day_udf = udf(lambda day: days_dict.get(day, 0), IntegerType())\n",
    "\n",
    "# Apply the UDF to the 'Day_of_week' column\n",
    "df = df.withColumn('Day_of_week_numeric', convert_day_udf(df['Day_of_week']))\n",
    "# Extract the hour from the 'Time' column\n",
    "df = df.withColumn(\"Hour\", hour(\"Time\"))\n",
    "\n",
    "# Check the transformation\n",
    "df.select('Time', 'Hour').show()\n",
    "\n",
    "# Check the transformation\n",
    "df.select('Day_of_week', 'Day_of_week_numeric').show()\n",
    "\n",
    "df.show()"
   ]
  },
  {
   "cell_type": "markdown",
   "metadata": {},
   "source": [
    "## One-hot Encoding"
   ]
  },
  {
   "cell_type": "code",
   "execution_count": null,
   "metadata": {},
   "outputs": [],
   "source": [
    "from pyspark.ml.feature import StringIndexer, OneHotEncoder\n",
    "from pyspark.sql.functions import monotonically_increasing_id\n",
    "\n",
    "# Add an index column to the original DataFrame\n",
    "df = df.withColumn(\"index\", monotonically_increasing_id())\n",
    "\n",
    "# Filter out rows with null or 'Unknown' values in 'Weather_conditions'\n",
    "df_filtered = df.filter((df.Weather_conditions.isNotNull()) & (df.Weather_conditions != 'Unknown'))\n",
    "\n",
    "# StringIndexer to convert the 'Weather_conditions' column to numeric indices\n",
    "stringIndexer = StringIndexer(inputCol=\"Weather_conditions\", outputCol=\"Weather_conditions_Index\")\n",
    "\n",
    "# Fit the indexer to the data and transform it\n",
    "indexed = stringIndexer.fit(df).transform(df_filtered)\n",
    "\n",
    "# OneHotEncoder to convert indexed numbers to one-hot encoded values\n",
    "encoder = OneHotEncoder(inputCols=[\"Weather_conditions_Index\"], outputCols=[\"Weather_conditions_Encoded\"])\n",
    "\n",
    "# Fit and transform\n",
    "encoded = encoder.fit(indexed).transform(indexed)\n",
    "\n",
    "# Add the same index column to the encoded DataFrame\n",
    "encoded = encoded.withColumn(\"index\", monotonically_increasing_id())\n",
    "\n",
    "# Join using the index\n",
    "df = df.join(encoded.select(\"index\", \"Weather_conditions_Encoded\"), on=[\"index\"])\n",
    "\n",
    "# Optionally, you can drop the index column after joining if it's no longer needed\n",
    "df = df.drop(\"index\")\n",
    "\n",
    "df.show()"
   ]
  },
  {
   "cell_type": "code",
   "execution_count": null,
   "metadata": {},
   "outputs": [],
   "source": [
    "from pyspark.ml.feature import StringIndexer, OneHotEncoder\n",
    "from pyspark.sql.functions import monotonically_increasing_id\n",
    "\n",
    "# Add an index column to the original DataFrame\n",
    "df = df.withColumn(\"index\", monotonically_increasing_id())\n",
    "\n",
    "# Filter out rows with null or 'Unknown' values in 'Weather_conditions'\n",
    "df_filtered = df.filter((df.Light_conditions.isNotNull()) & (df.Light_conditions != 'Unknown'))\n",
    "\n",
    "# StringIndexer to convert the 'Light_conditions' column to numeric indices\n",
    "stringIndexer = StringIndexer(inputCol=\"Light_conditions\", outputCol=\"Light_conditions_Index\")\n",
    "\n",
    "# Fit the indexer to the data and transform it\n",
    "indexed = stringIndexer.fit(df).transform(df_filtered)\n",
    "\n",
    "# OneHotEncoder to convert indexed numbers to one-hot encoded values\n",
    "encoder = OneHotEncoder(inputCols=[\"Light_conditions_Index\"], outputCols=[\"Light_conditions_Encoded\"])\n",
    "\n",
    "# Fit and transform\n",
    "encoded = encoder.fit(indexed).transform(indexed)\n",
    "\n",
    "# Add the same index column to the encoded DataFrame\n",
    "encoded = encoded.withColumn(\"index\", monotonically_increasing_id())\n",
    "\n",
    "# Join using the index\n",
    "df = df.join(encoded.select(\"index\", \"Light_conditions_Encoded\"), on=[\"index\"])\n",
    "\n",
    "# Optionally, you can drop the index column after joining if it's no longer needed\n",
    "df = df.drop(\"index\")\n",
    "\n",
    "df.show()"
   ]
  },
  {
   "cell_type": "code",
   "execution_count": null,
   "metadata": {},
   "outputs": [],
   "source": [
    "from pyspark.ml.feature import StringIndexer, OneHotEncoder\n",
    "from pyspark.sql.functions import monotonically_increasing_id\n",
    "\n",
    "# Add an index column to the original DataFrame\n",
    "df = df.withColumn(\"index\", monotonically_increasing_id())\n",
    "\n",
    "# Filter out rows with null or 'Unknown' values in 'Weather_conditions'\n",
    "df_filtered = df.filter((df.Road_surface_conditions.isNotNull()) & (df.Road_surface_conditions != 'Unknown'))\n",
    "\n",
    "# StringIndexer to convert the 'Light_conditions' column to numeric indices\n",
    "stringIndexer = StringIndexer(inputCol=\"Road_surface_conditions\", outputCol=\"Road_surface_conditions_Index\")\n",
    "\n",
    "# Fit the indexer to the data and transform it\n",
    "indexed = stringIndexer.fit(df).transform(df_filtered)\n",
    "\n",
    "# OneHotEncoder to convert indexed numbers to one-hot encoded values\n",
    "encoder = OneHotEncoder(inputCols=[\"Road_surface_conditions_Index\"], outputCols=[\"Road_surface_conditions_Encoded\"])\n",
    "\n",
    "# Fit and transform\n",
    "encoded = encoder.fit(indexed).transform(indexed)\n",
    "\n",
    "# Add the same index column to the encoded DataFrame\n",
    "encoded = encoded.withColumn(\"index\", monotonically_increasing_id())\n",
    "\n",
    "# Join using the index\n",
    "df = df.join(encoded.select(\"index\", \"Road_surface_conditions_Encoded\"), on=[\"index\"])\n",
    "\n",
    "# Optionally, you can drop the index column after joining if it's no longer needed\n",
    "df = df.drop(\"index\")\n",
    "\n",
    "df.show()"
   ]
  },
  {
   "cell_type": "code",
   "execution_count": null,
   "metadata": {},
   "outputs": [],
   "source": [
    "from pyspark.ml.feature import StringIndexer, OneHotEncoder\n",
    "from pyspark.sql.functions import monotonically_increasing_id\n",
    "from pyspark.sql import functions as F\n",
    "\n",
    "df = df.drop(\"Type_of_vehicle_Encoded\")\n",
    "\n",
    "# Add an index column to the original DataFrame\n",
    "df = df.withColumn(\"index\", monotonically_increasing_id())\n",
    "\n",
    "# Filter out unwanted rows and clean up Type_of_vehicle column\n",
    "df = df.filter(df['Type_of_vehicle'].isNotNull() & (df['Type_of_vehicle'] != 'Other') & (df['Type_of_vehicle'] != 'Bajaj'))\n",
    "df = df.withColumn(\"Type_of_vehicle\", F.regexp_replace(F.col(\"Type_of_vehicle\"), r\"\\s\\(.*\\)\", \"\"))\n",
    "\n",
    "# Apply StringIndexer with handleInvalid set to 'keep'\n",
    "stringIndexer = StringIndexer(inputCol=\"Type_of_vehicle\", outputCol=\"Type_of_vehicle_Index\", handleInvalid=\"keep\")\n",
    "indexed = stringIndexer.fit(df).transform(df)\n",
    "\n",
    "# Apply OneHotEncoder\n",
    "encoder = OneHotEncoder(inputCols=[\"Type_of_vehicle_Index\"], outputCols=[\"Type_of_vehicle_Encoded\"])\n",
    "encoded = encoder.fit(indexed).transform(indexed)\n",
    "\n",
    "# Join using the index\n",
    "df = df.join(encoded.select(\"index\", \"Type_of_vehicle_Encoded\"), on=[\"index\"])\n",
    "\n",
    "# Optionally, you can drop the index column after joining if it's no longer needed\n",
    "df = df.drop(\"index\")\n",
    "\n",
    "df.show()"
   ]
  },
  {
   "cell_type": "code",
   "execution_count": null,
   "metadata": {},
   "outputs": [],
   "source": [
    "from pyspark.ml.feature import StringIndexer, OneHotEncoder\n",
    "from pyspark.sql.functions import monotonically_increasing_id\n",
    "\n",
    "df = df.drop(\"Area_accident_occured_Encoded\")\n",
    "\n",
    "# Add an index column to the original DataFrame\n",
    "df = df.withColumn(\"index\", monotonically_increasing_id())\n",
    "\n",
    "# Filter out unwanted rows and clean up Type_of_vehicle column\n",
    "df = df.filter(df['Area_accident_occured'].isNotNull() & (df['Area_accident_occured'] != 'Other') & (df['Area_accident_occured'] != 'Unknown') & (df['Area_accident_occured'] != 'Rural village areasOffice areas'))\n",
    "\n",
    "# Apply StringIndexer with handleInvalid set to 'keep'\n",
    "stringIndexer = StringIndexer(inputCol=\"Area_accident_occured\", outputCol=\"Area_accident_occured_Index\", handleInvalid=\"keep\")\n",
    "indexed = stringIndexer.fit(df).transform(df)\n",
    "\n",
    "# Apply OneHotEncoder\n",
    "encoder = OneHotEncoder(inputCols=[\"Area_accident_occured_Index\"], outputCols=[\"Area_accident_occured_Encoded\"])\n",
    "encoded = encoder.fit(indexed).transform(indexed)\n",
    "\n",
    "# Join using the index\n",
    "df = df.join(encoded.select(\"index\", \"Area_accident_occured_Encoded\"), on=[\"index\"])\n",
    "\n",
    "# Optionally, you can drop the index column after joining if it's no longer needed\n",
    "df = df.drop(\"index\")\n",
    "\n",
    "df.show()"
   ]
  },
  {
   "cell_type": "markdown",
   "metadata": {},
   "source": [
    "## Model"
   ]
  },
  {
   "cell_type": "code",
   "execution_count": null,
   "metadata": {},
   "outputs": [],
   "source": [
    "from pyspark.sql import SparkSession\n",
    "from pyspark.ml.feature import VectorAssembler, StringIndexer\n",
    "from pyspark.ml.classification import RandomForestClassifier\n",
    "from pyspark.ml.evaluation import MulticlassClassificationEvaluator\n",
    "from pyspark.ml.tuning import ParamGridBuilder, TrainValidationSplit\n",
    "from pyspark.ml.feature import PCA\n",
    "from pyspark.ml.classification import GBTClassifier\n",
    "\n",
    "if 'label' in df.columns:\n",
    "    df = df.drop('label')\n",
    "\n",
    "# Encode the label column if necessary\n",
    "labelIndexer = StringIndexer(inputCol=\"Accident_severity\", outputCol=\"label\", handleInvalid=\"keep\")\n",
    "df = labelIndexer.fit(df).transform(df)\n",
    "\n",
    "# Assemble the features\n",
    "assembler = VectorAssembler(inputCols=[\n",
    "    'Weather_conditions_Encoded', 'Light_conditions_Encoded', 'Road_surface_conditions_Encoded',\n",
    "    'Type_of_vehicle_Encoded', 'Area_accident_occured_Encoded', 'Day_of_week_numeric', 'Hour'\n",
    "], outputCol=\"features\")\n",
    "df_assembled = assembler.transform(df)\n",
    "\n",
    "\n",
    "# Split the data into training and test sets\n",
    "train, test = df_assembled.randomSplit([0.7, 0.3], seed=42)\n",
    "\n",
    "# Create the RandomForestClassifier model\n",
    "rf = RandomForestClassifier(featuresCol=\"features\", labelCol=\"label\", numTrees=20, maxDepth=10, maxBins=32, minInstancesPerNode=2, seed=42)\n",
    "\n",
    "# Fit the model on the training data\n",
    "model = rf.fit(train)\n",
    "\n",
    "# Make predictions on the test data\n",
    "predictions = model.transform(test)\n",
    "\n",
    "# Evaluate the model\n",
    "evaluator = MulticlassClassificationEvaluator(labelCol=\"label\", predictionCol=\"prediction\", metricName=\"accuracy\")\n",
    "\n",
    "accuracy = evaluator.evaluate(predictions)\n",
    "print(\"Test Accuracy = %g\" % accuracy)\n",
    "\n",
    "# Show some predictions\n",
    "predictions.select(\"prediction\", \"label\", \"features\").show()\n"
   ]
  },
  {
   "cell_type": "code",
   "execution_count": null,
   "metadata": {},
   "outputs": [],
   "source": []
  }
 ],
 "metadata": {
  "kernelspec": {
   "display_name": "Python 3",
   "language": "python",
   "name": "python3"
  },
  "language_info": {
   "codemirror_mode": {
    "name": "ipython",
    "version": 3
   },
   "file_extension": ".py",
   "mimetype": "text/x-python",
   "name": "python",
   "nbconvert_exporter": "python",
   "pygments_lexer": "ipython3",
   "version": "3.11.4"
  }
 },
 "nbformat": 4,
 "nbformat_minor": 2
}
