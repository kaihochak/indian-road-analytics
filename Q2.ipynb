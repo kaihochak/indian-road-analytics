{
  "nbformat": 4,
  "nbformat_minor": 0,
  "metadata": {
    "colab": {
      "provenance": []
    },
    "kernelspec": {
      "name": "python3",
      "display_name": "Python 3"
    },
    "language_info": {
      "name": "python"
    }
  },
  "cells": [
    {
      "cell_type": "markdown",
      "source": [
        "## Impact of Road Conditions on Accident Severity"
      ],
      "metadata": {
        "id": "NsfRctMMZJEY"
      }
    },
    {
      "cell_type": "code",
      "source": [
        "pip install pyspark\n"
      ],
      "metadata": {
        "colab": {
          "base_uri": "https://localhost:8080/"
        },
        "id": "DwFR2prpWIxQ",
        "outputId": "6f627ea0-79ce-4ebd-a48e-589de45cd72a"
      },
      "execution_count": null,
      "outputs": [
        {
          "output_type": "stream",
          "name": "stdout",
          "text": [
            "Requirement already satisfied: pyspark in /usr/local/lib/python3.10/dist-packages (3.5.0)\n",
            "Requirement already satisfied: py4j==0.10.9.7 in /usr/local/lib/python3.10/dist-packages (from pyspark) (0.10.9.7)\n"
          ]
        }
      ]
    },
    {
      "cell_type": "code",
      "source": [
        "from pyspark.sql import SparkSession"
      ],
      "metadata": {
        "id": "qABsAR19WWU9"
      },
      "execution_count": null,
      "outputs": []
    },
    {
      "cell_type": "code",
      "source": [
        "spark = SparkSession.builder.appName(\"objective_2\").getOrCreate()"
      ],
      "metadata": {
        "id": "fewB75EvWpqW"
      },
      "execution_count": null,
      "outputs": []
    },
    {
      "cell_type": "code",
      "source": [
        "df = spark.read.csv(\"india_road_data.csv\", inferSchema=True, header=True)"
      ],
      "metadata": {
        "id": "w8ZLglaFWu6Q"
      },
      "execution_count": null,
      "outputs": []
    },
    {
      "cell_type": "code",
      "source": [
        "print(\"Rows: \", df.count())\n",
        "print(\"Columns: \", len(df.columns))"
      ],
      "metadata": {
        "colab": {
          "base_uri": "https://localhost:8080/"
        },
        "id": "uIfU6vHXlheA",
        "outputId": "ba712725-70d9-422b-a74b-356440abb8ff"
      },
      "execution_count": null,
      "outputs": [
        {
          "output_type": "stream",
          "name": "stdout",
          "text": [
            "Rows:  12316\n",
            "Columns:  32\n"
          ]
        }
      ]
    },
    {
      "cell_type": "code",
      "source": [
        "df.printSchema()"
      ],
      "metadata": {
        "colab": {
          "base_uri": "https://localhost:8080/"
        },
        "id": "l9MCz6mrmZUk",
        "outputId": "71ea406c-615f-4b32-97e2-dba213d04a3b"
      },
      "execution_count": null,
      "outputs": [
        {
          "output_type": "stream",
          "name": "stdout",
          "text": [
            "root\n",
            " |-- Time: timestamp (nullable = true)\n",
            " |-- Day_of_week: string (nullable = true)\n",
            " |-- Age_band_of_driver: string (nullable = true)\n",
            " |-- Sex_of_driver: string (nullable = true)\n",
            " |-- Educational_level: string (nullable = true)\n",
            " |-- Vehicle_driver_relation: string (nullable = true)\n",
            " |-- Driving_experience: string (nullable = true)\n",
            " |-- Type_of_vehicle: string (nullable = true)\n",
            " |-- Owner_of_vehicle: string (nullable = true)\n",
            " |-- Service_year_of_vehicle: string (nullable = true)\n",
            " |-- Defect_of_vehicle: string (nullable = true)\n",
            " |-- Area_accident_occured: string (nullable = true)\n",
            " |-- Lanes_or_Medians: string (nullable = true)\n",
            " |-- Road_allignment: string (nullable = true)\n",
            " |-- Types_of_Junction: string (nullable = true)\n",
            " |-- Road_surface_type: string (nullable = true)\n",
            " |-- Road_surface_conditions: string (nullable = true)\n",
            " |-- Light_conditions: string (nullable = true)\n",
            " |-- Weather_conditions: string (nullable = true)\n",
            " |-- Type_of_collision: string (nullable = true)\n",
            " |-- Number_of_vehicles_involved: integer (nullable = true)\n",
            " |-- Number_of_casualties: integer (nullable = true)\n",
            " |-- Vehicle_movement: string (nullable = true)\n",
            " |-- Casualty_class: string (nullable = true)\n",
            " |-- Sex_of_casualty: string (nullable = true)\n",
            " |-- Age_band_of_casualty: string (nullable = true)\n",
            " |-- Casualty_severity: string (nullable = true)\n",
            " |-- Work_of_casuality: string (nullable = true)\n",
            " |-- Fitness_of_casuality: string (nullable = true)\n",
            " |-- Pedestrian_movement: string (nullable = true)\n",
            " |-- Cause_of_accident: string (nullable = true)\n",
            " |-- Accident_severity: string (nullable = true)\n",
            "\n"
          ]
        }
      ]
    },
    {
      "cell_type": "code",
      "source": [
        "df.groupBy(\"Accident_severity\").count().show()"
      ],
      "metadata": {
        "colab": {
          "base_uri": "https://localhost:8080/"
        },
        "id": "wYlIuN59mQLa",
        "outputId": "f8f30322-8714-4d30-813a-adca20cefece"
      },
      "execution_count": null,
      "outputs": [
        {
          "output_type": "stream",
          "name": "stdout",
          "text": [
            "+-----------------+-----+\n",
            "|Accident_severity|count|\n",
            "+-----------------+-----+\n",
            "|   Serious Injury| 1743|\n",
            "|    Slight Injury|10415|\n",
            "|     Fatal injury|  158|\n",
            "+-----------------+-----+\n",
            "\n"
          ]
        }
      ]
    },
    {
      "cell_type": "code",
      "source": [
        "df.groupBy(\"Road_allignment\").count().show(truncate=False)"
      ],
      "metadata": {
        "colab": {
          "base_uri": "https://localhost:8080/"
        },
        "id": "w5LFYsiunCko",
        "outputId": "fd4f1778-2939-41e5-f3dd-01494eecc6ca"
      },
      "execution_count": null,
      "outputs": [
        {
          "output_type": "stream",
          "name": "stdout",
          "text": [
            "+---------------------------------------------+-----+\n",
            "|Road_allignment                              |count|\n",
            "+---------------------------------------------+-----+\n",
            "|Sharp reverse curve                          |57   |\n",
            "|Tangent road with flat terrain               |10459|\n",
            "|Tangent road with mountainous terrain and    |396  |\n",
            "|NULL                                         |142  |\n",
            "|Tangent road with rolling terrain            |37   |\n",
            "|Gentle horizontal curve                      |163  |\n",
            "|Steep grade upward with mountainous terrain  |19   |\n",
            "|Tangent road with mild grade and flat terrain|501  |\n",
            "|Escarpments                                  |113  |\n",
            "|Steep grade downward with mountainous terrain|429  |\n",
            "+---------------------------------------------+-----+\n",
            "\n"
          ]
        }
      ]
    },
    {
      "cell_type": "code",
      "source": [
        "df.groupBy(\"Age_band_of_driver\").count().show(truncate=False)"
      ],
      "metadata": {
        "colab": {
          "base_uri": "https://localhost:8080/"
        },
        "id": "agRkLx7qnaMj",
        "outputId": "a6a06c74-e4db-46f4-f7a1-ff0507b5cda6"
      },
      "execution_count": null,
      "outputs": [
        {
          "output_type": "stream",
          "name": "stdout",
          "text": [
            "+------------------+-----+\n",
            "|Age_band_of_driver|count|\n",
            "+------------------+-----+\n",
            "|Over 51           |1585 |\n",
            "|Unknown           |1548 |\n",
            "|Under 18          |825  |\n",
            "|31-50             |4087 |\n",
            "|18-30             |4271 |\n",
            "+------------------+-----+\n",
            "\n"
          ]
        }
      ]
    },
    {
      "cell_type": "code",
      "source": [
        "selected_columns = [\"Area_accident_occured\", \"Driving_experience\", \"Age_band_of_driver\" ,\"Road_allignment\", \"Road_surface_type\", \"Road_surface_conditions\", \"Weather_conditions\", \"Accident_severity\", \"Light_conditions\", \"Type_of_collision\", \"Number_of_vehicles_involved\"]\n",
        "df = df.select(selected_columns)\n"
      ],
      "metadata": {
        "id": "02vo4Q-9jo5n"
      },
      "execution_count": null,
      "outputs": []
    },
    {
      "cell_type": "markdown",
      "source": [],
      "metadata": {
        "id": "94bX3udjjonx"
      }
    },
    {
      "cell_type": "code",
      "source": [
        "df = df.na.drop() # drop the Nulls"
      ],
      "metadata": {
        "id": "TQBglFfRXElk"
      },
      "execution_count": null,
      "outputs": []
    },
    {
      "cell_type": "code",
      "source": [
        "df.describe().show()"
      ],
      "metadata": {
        "colab": {
          "base_uri": "https://localhost:8080/"
        },
        "id": "_cpbS-ozpbnQ",
        "outputId": "36a67dd3-c7dc-4ae3-f11e-38fe253dae8f"
      },
      "execution_count": null,
      "outputs": [
        {
          "output_type": "stream",
          "name": "stdout",
          "text": [
            "+-------+---------------------+------------------+------------------+--------------------+-----------------+-----------------------+------------------+-----------------+--------------------+--------------------+---------------------------+\n",
            "|summary|Area_accident_occured|Driving_experience|Age_band_of_driver|     Road_allignment|Road_surface_type|Road_surface_conditions|Weather_conditions|Accident_severity|    Light_conditions|   Type_of_collision|Number_of_vehicles_involved|\n",
            "+-------+---------------------+------------------+------------------+--------------------+-----------------+-----------------------+------------------+-----------------+--------------------+--------------------+---------------------------+\n",
            "|  count|                10862|             10862|             10862|               10862|            10862|                  10862|             10862|            10862|               10862|               10862|                      10862|\n",
            "|   mean|                 NULL|              NULL|              NULL|                NULL|             NULL|                   NULL|              NULL|             NULL|                NULL|                NULL|          2.040784385932609|\n",
            "| stddev|                 NULL|              NULL|              NULL|                NULL|             NULL|                   NULL|              NULL|             NULL|                NULL|                NULL|         0.6890659934856107|\n",
            "|    min|         Market areas|             1-2yr|             18-30|         Escarpments|    Asphalt roads|                    Dry|            Cloudy|     Fatal injury|Darkness - lights...|Collision with an...|                          1|\n",
            "|    max|              Unknown|           unknown|           Unknown|Tangent road with...|            Other|            Wet or damp|             Windy|    Slight Injury|            Daylight|          With Train|                          7|\n",
            "+-------+---------------------+------------------+------------------+--------------------+-----------------+-----------------------+------------------+-----------------+--------------------+--------------------+---------------------------+\n",
            "\n"
          ]
        }
      ]
    },
    {
      "cell_type": "code",
      "source": [
        "from pyspark.sql.functions import when"
      ],
      "metadata": {
        "id": "ag49tILX6lOJ"
      },
      "execution_count": null,
      "outputs": []
    },
    {
      "cell_type": "code",
      "source": [
        "df_severity_as_integer = df.withColumn(\n",
        "    'accident_severity_integer',\n",
        "    when(df['Accident_severity'] == 'Slight Injury', 1.0)\n",
        "    .when(df['Accident_severity'] == 'Serious Injury', 2.0)\n",
        "    .when(df['Accident_severity'] == 'Fatal injury', 3.0)\n",
        ")"
      ],
      "metadata": {
        "id": "tzd9M6Lb6XaD"
      },
      "execution_count": null,
      "outputs": []
    },
    {
      "cell_type": "code",
      "source": [
        "df_severity_as_integer.select(\"accident_severity_integer\").describe().show()"
      ],
      "metadata": {
        "colab": {
          "base_uri": "https://localhost:8080/"
        },
        "id": "eZyKBa6y6nl4",
        "outputId": "72a0a44a-3292-4f1c-e8e4-4797b25b8f20"
      },
      "execution_count": null,
      "outputs": [
        {
          "output_type": "stream",
          "name": "stdout",
          "text": [
            "+-------+-------------------------+\n",
            "|summary|accident_severity_integer|\n",
            "+-------+-------------------------+\n",
            "|  count|                    10862|\n",
            "|   mean|       1.1654391456453692|\n",
            "| stddev|      0.40434363081107705|\n",
            "|    min|                      1.0|\n",
            "|    max|                      3.0|\n",
            "+-------+-------------------------+\n",
            "\n"
          ]
        }
      ]
    },
    {
      "cell_type": "markdown",
      "source": [
        "### Converting strings into numerical format (using StringIndexer and OneHotEncoder)."
      ],
      "metadata": {
        "id": "5rjCqc5mgpJq"
      }
    },
    {
      "cell_type": "code",
      "source": [
        "df.printSchema()"
      ],
      "metadata": {
        "colab": {
          "base_uri": "https://localhost:8080/"
        },
        "id": "uhNvGWcjp99-",
        "outputId": "5d984e15-0a4f-41f2-8c0f-2b9a4e9f786d"
      },
      "execution_count": null,
      "outputs": [
        {
          "output_type": "stream",
          "name": "stdout",
          "text": [
            "root\n",
            " |-- Area_accident_occured: string (nullable = true)\n",
            " |-- Driving_experience: string (nullable = true)\n",
            " |-- Age_band_of_driver: string (nullable = true)\n",
            " |-- Road_allignment: string (nullable = true)\n",
            " |-- Road_surface_type: string (nullable = true)\n",
            " |-- Road_surface_conditions: string (nullable = true)\n",
            " |-- Weather_conditions: string (nullable = true)\n",
            " |-- Accident_severity: string (nullable = true)\n",
            " |-- Light_conditions: string (nullable = true)\n",
            " |-- Type_of_collision: string (nullable = true)\n",
            " |-- Number_of_vehicles_involved: integer (nullable = true)\n",
            "\n"
          ]
        }
      ]
    },
    {
      "cell_type": "code",
      "source": [
        "from pyspark.ml.feature import StringIndexer, OneHotEncoder, VectorAssembler\n",
        "\n",
        "indexer = StringIndexer(inputCol=\"Road_allignment\", outputCol=\"Road_allignment\"+\"_index\")\n",
        "indexed = indexer.fit(df_severity_as_integer).transform(df_severity_as_integer)\n",
        "\n",
        "indexer = StringIndexer(inputCol=\"Road_surface_type\", outputCol=\"Road_surface_type\"+\"_index\")\n",
        "indexed = indexer.fit(indexed).transform(indexed)\n",
        "\n",
        "indexer = StringIndexer(inputCol=\"Road_surface_conditions\", outputCol=\"Road_surface_conditions\"+\"_index\")\n",
        "indexed = indexer.fit(indexed).transform(indexed)\n",
        "\n",
        "indexer = StringIndexer(inputCol=\"Weather_conditions\", outputCol=\"Weather_conditions\"+\"_index\")\n",
        "indexed = indexer.fit(indexed).transform(indexed)\n",
        "\n",
        "indexer = StringIndexer(inputCol=\"Accident_severity\", outputCol=\"Accident_severity\"+\"_index\")\n",
        "indexed = indexer.fit(indexed).transform(indexed)\n",
        "\n",
        "indexer = StringIndexer(inputCol=\"Light_conditions\", outputCol=\"Light_conditions\"+\"_index\")\n",
        "indexed = indexer.fit(indexed).transform(indexed)\n",
        "\n",
        "indexer = StringIndexer(inputCol=\"Type_of_collision\", outputCol=\"Type_of_collision\"+\"_index\")\n",
        "indexed = indexer.fit(indexed).transform(indexed)\n",
        "\n",
        "indexer = StringIndexer(inputCol=\"Driving_experience\", outputCol=\"Driving_experience\"+\"_index\")\n",
        "indexed = indexer.fit(indexed).transform(indexed)\n",
        "\n",
        "indexer = StringIndexer(inputCol=\"Age_band_of_driver\", outputCol=\"Age_band_of_driver\"+\"_index\")\n",
        "indexed = indexer.fit(indexed).transform(indexed)"
      ],
      "metadata": {
        "id": "KdJdN-sCqDjP"
      },
      "execution_count": null,
      "outputs": []
    },
    {
      "cell_type": "markdown",
      "source": [],
      "metadata": {
        "id": "FG-fmLnjL__T"
      }
    },
    {
      "cell_type": "code",
      "source": [
        "indexed.show()"
      ],
      "metadata": {
        "colab": {
          "base_uri": "https://localhost:8080/"
        },
        "id": "0fGqH818rOa1",
        "outputId": "1f13f4ee-5145-4910-b280-7cb9ba8bdf13"
      },
      "execution_count": null,
      "outputs": [
        {
          "output_type": "stream",
          "name": "stdout",
          "text": [
            "+---------------------+------------------+------------------+--------------------+-----------------+-----------------------+------------------+-----------------+--------------------+--------------------+---------------------------+-------------------------+---------------------+-----------------------+-----------------------------+------------------------+-----------------------+----------------------+-----------------------+------------------------+------------------------+\n",
            "|Area_accident_occured|Driving_experience|Age_band_of_driver|     Road_allignment|Road_surface_type|Road_surface_conditions|Weather_conditions|Accident_severity|    Light_conditions|   Type_of_collision|Number_of_vehicles_involved|accident_severity_integer|Road_allignment_index|Road_surface_type_index|Road_surface_conditions_index|Weather_conditions_index|Accident_severity_index|Light_conditions_index|Type_of_collision_index|Driving_experience_index|Age_band_of_driver_index|\n",
            "+---------------------+------------------+------------------+--------------------+-----------------+-----------------------+------------------+-----------------+--------------------+--------------------+---------------------------+-------------------------+---------------------+-----------------------+-----------------------------+------------------------+-----------------------+----------------------+-----------------------+------------------------+------------------------+\n",
            "|    Residential areas|             1-2yr|             18-30|Tangent road with...|    Asphalt roads|                    Dry|            Normal|    Slight Injury|            Daylight|Collision with ro...|                          2|                      1.0|                  0.0|                    0.0|                          0.0|                     0.0|                    0.0|                   0.0|                    5.0|                     3.0|                     0.0|\n",
            "|         Office areas|        Above 10yr|             31-50|Tangent road with...|    Asphalt roads|                    Dry|            Normal|    Slight Injury|            Daylight|Vehicle with vehi...|                          2|                      1.0|                  0.0|                    0.0|                          0.0|                     0.0|                    0.0|                   0.0|                    0.0|                     2.0|                     1.0|\n",
            "|         Office areas|            5-10yr|             18-30|Tangent road with...|      Earth roads|                    Dry|            Normal|    Slight Injury|Darkness - lights...|Vehicle with vehi...|                          2|                      1.0|                  1.0|                    1.0|                          0.0|                     0.0|                    0.0|                   1.0|                    0.0|                     0.0|                     0.0|\n",
            "|     Industrial areas|             2-5yr|             18-30|Tangent road with...|    Asphalt roads|                    Dry|            Normal|    Slight Injury|Darkness - lights...|Vehicle with vehi...|                          2|                      1.0|                  0.0|                    0.0|                          0.0|                     0.0|                    0.0|                   1.0|                    0.0|                     1.0|                     0.0|\n",
            "|    Residential areas|             2-5yr|             18-30|Tangent road with...|    Asphalt roads|                    Dry|            Normal|    Slight Injury|            Daylight|Vehicle with vehi...|                          2|                      1.0|                  0.0|                    0.0|                          0.0|                     0.0|                    0.0|                   0.0|                    0.0|                     1.0|                     0.0|\n",
            "|     Industrial areas|        Above 10yr|             18-30|Tangent road with...|      Earth roads|                    Dry|            Normal|    Slight Injury|            Daylight|Collision with ro...|                          2|                      1.0|                  0.0|                    1.0|                          0.0|                     0.0|                    0.0|                   0.0|                    5.0|                     2.0|                     0.0|\n",
            "|    Residential areas|             1-2yr|             18-30|Tangent road with...|    Asphalt roads|                    Dry|            Normal|   Serious Injury|            Daylight|Collision with ro...|                          2|                      2.0|                  0.0|                    0.0|                          0.0|                     0.0|                    1.0|                   0.0|                    5.0|                     3.0|                     0.0|\n",
            "|    Residential areas|             1-2yr|             18-30|Tangent road with...|    Asphalt roads|                    Dry|            Normal|   Serious Injury|            Daylight|Collision with an...|                          2|                      2.0|                  0.0|                    0.0|                          0.0|                     0.0|                    1.0|                   0.0|                    4.0|                     3.0|                     0.0|\n",
            "|         Office areas|        No Licence|             31-50|Tangent road with...|      Earth roads|                    Dry|            Normal|   Serious Injury|            Daylight|Collision with an...|                          2|                      2.0|                  0.0|                    1.0|                          0.0|                     0.0|                    1.0|                   0.0|                    4.0|                     5.0|                     1.0|\n",
            "|         Office areas|             1-2yr|             18-30|         Escarpments|    Asphalt roads|                    Dry|            Normal|    Slight Injury|            Daylight|Collision with an...|                          2|                      1.0|                  5.0|                    0.0|                          0.0|                     0.0|                    0.0|                   0.0|                    4.0|                     3.0|                     0.0|\n",
            "|         Office areas|            5-10yr|             31-50|Tangent road with...|    Asphalt roads|                    Dry|            Normal|    Slight Injury|            Daylight|Collision with an...|                          2|                      1.0|                  0.0|                    0.0|                          0.0|                     0.0|                    0.0|                   0.0|                    4.0|                     0.0|                     1.0|\n",
            "|         Office areas|        Above 10yr|             31-50|         Escarpments|    Asphalt roads|                    Dry|            Normal|   Serious Injury|            Daylight|Collision with an...|                          2|                      2.0|                  5.0|                    0.0|                          0.0|                     0.0|                    1.0|                   0.0|                    4.0|                     2.0|                     1.0|\n",
            "|         Office areas|        Above 10yr|             18-30|Tangent road with...|    Asphalt roads|            Wet or damp|           Raining|   Serious Injury|Darkness - lights...|Collision with an...|                          2|                      2.0|                  0.0|                    0.0|                          1.0|                     1.0|                    1.0|                   1.0|                    4.0|                     2.0|                     0.0|\n",
            "|         Office areas|            5-10yr|             18-30|Tangent road with...|    Asphalt roads|            Wet or damp|           Raining|    Slight Injury|Darkness - lights...|Collision with an...|                          2|                      1.0|                  0.0|                    0.0|                          1.0|                     1.0|                    0.0|                   1.0|                    4.0|                     0.0|                     0.0|\n",
            "|         Office areas|             2-5yr|             18-30|Tangent road with...|    Asphalt roads|            Wet or damp|           Raining|   Serious Injury|Darkness - lights...|Collision with an...|                          2|                      2.0|                  0.0|                    0.0|                          1.0|                     1.0|                    1.0|                   1.0|                    4.0|                     1.0|                     0.0|\n",
            "|    Residential areas|             2-5yr|             18-30|Tangent road with...|    Asphalt roads|            Wet or damp|           Raining|    Slight Injury|Darkness - lights...|Collision with an...|                          2|                      1.0|                  0.0|                    0.0|                          1.0|                     1.0|                    0.0|                   1.0|                    4.0|                     1.0|                     0.0|\n",
            "|    Residential areas|         Below 1yr|             18-30|Tangent road with...|    Asphalt roads|                    Dry|            Normal|   Serious Injury|            Daylight|Collision with an...|                          2|                      2.0|                  0.0|                    0.0|                          0.0|                     0.0|                    1.0|                   0.0|                    4.0|                     4.0|                     0.0|\n",
            "|                Other|             2-5yr|          Under 18|Tangent road with...|    Asphalt roads|                    Dry|            Normal|    Slight Injury|            Daylight|Collision with an...|                          2|                      1.0|                  0.0|                    0.0|                          0.0|                     0.0|                    0.0|                   0.0|                    4.0|                     1.0|                     4.0|\n",
            "|         Church areas|             2-5yr|             18-30|Tangent road with...|    Asphalt roads|                    Dry|            Normal|   Serious Injury|            Daylight|Collision with an...|                          1|                      2.0|                  0.0|                    0.0|                          0.0|                     0.0|                    1.0|                   0.0|                    4.0|                     1.0|                     0.0|\n",
            "|   Recreational areas|            5-10yr|             18-30|Tangent road with...|    Asphalt roads|                    Dry|            Normal|   Serious Injury|            Daylight|               Other|                          2|                      2.0|                  0.0|                    0.0|                          0.0|                     0.0|                    1.0|                   0.0|                    7.0|                     0.0|                     0.0|\n",
            "+---------------------+------------------+------------------+--------------------+-----------------+-----------------------+------------------+-----------------+--------------------+--------------------+---------------------------+-------------------------+---------------------+-----------------------+-----------------------------+------------------------+-----------------------+----------------------+-----------------------+------------------------+------------------------+\n",
            "only showing top 20 rows\n",
            "\n"
          ]
        }
      ]
    },
    {
      "cell_type": "code",
      "source": [
        "indexed.printSchema()"
      ],
      "metadata": {
        "colab": {
          "base_uri": "https://localhost:8080/"
        },
        "id": "Zxi45UmjsRsx",
        "outputId": "4cabbc34-67dc-45c1-a0a6-80de3536639d"
      },
      "execution_count": null,
      "outputs": [
        {
          "output_type": "stream",
          "name": "stdout",
          "text": [
            "root\n",
            " |-- Area_accident_occured: string (nullable = true)\n",
            " |-- Driving_experience: string (nullable = true)\n",
            " |-- Age_band_of_driver: string (nullable = true)\n",
            " |-- Road_allignment: string (nullable = true)\n",
            " |-- Road_surface_type: string (nullable = true)\n",
            " |-- Road_surface_conditions: string (nullable = true)\n",
            " |-- Weather_conditions: string (nullable = true)\n",
            " |-- Accident_severity: string (nullable = true)\n",
            " |-- Light_conditions: string (nullable = true)\n",
            " |-- Type_of_collision: string (nullable = true)\n",
            " |-- Number_of_vehicles_involved: integer (nullable = true)\n",
            " |-- accident_severity_integer: double (nullable = true)\n",
            " |-- Road_allignment_index: double (nullable = false)\n",
            " |-- Road_surface_type_index: double (nullable = false)\n",
            " |-- Road_surface_conditions_index: double (nullable = false)\n",
            " |-- Weather_conditions_index: double (nullable = false)\n",
            " |-- Accident_severity_index: double (nullable = false)\n",
            " |-- Light_conditions_index: double (nullable = false)\n",
            " |-- Type_of_collision_index: double (nullable = false)\n",
            " |-- Driving_experience_index: double (nullable = false)\n",
            " |-- Age_band_of_driver_index: double (nullable = false)\n",
            "\n"
          ]
        }
      ]
    },
    {
      "cell_type": "code",
      "source": [
        "assembler = VectorAssembler(inputCols=[\"Number_of_vehicles_involved\", \"Road_allignment_index\",\n",
        "                                       \"Road_surface_type_index\", \"Road_surface_conditions_index\",\n",
        "                                       \"Weather_conditions_index\", \"Light_conditions_index\",\n",
        "                                       \"Type_of_collision_index\", \"Driving_experience_index\", \"Age_band_of_driver_index\"], outputCol=\"features\")"
      ],
      "metadata": {
        "id": "9xSB45Qbr9I6"
      },
      "execution_count": null,
      "outputs": []
    },
    {
      "cell_type": "code",
      "source": [
        "assembler"
      ],
      "metadata": {
        "colab": {
          "base_uri": "https://localhost:8080/"
        },
        "id": "3xKm4g2wsx4L",
        "outputId": "047bb560-f93b-4912-c49f-ebac313efa59"
      },
      "execution_count": null,
      "outputs": [
        {
          "output_type": "execute_result",
          "data": {
            "text/plain": [
              "VectorAssembler_ae503ec1d419"
            ]
          },
          "metadata": {},
          "execution_count": 93
        }
      ]
    },
    {
      "cell_type": "code",
      "source": [
        "output = assembler.transform(indexed)\n",
        "output.show()"
      ],
      "metadata": {
        "colab": {
          "base_uri": "https://localhost:8080/"
        },
        "id": "XoCehV8ks0KB",
        "outputId": "636f9ece-6c0c-4843-c04e-b18c8225519d"
      },
      "execution_count": null,
      "outputs": [
        {
          "output_type": "stream",
          "name": "stdout",
          "text": [
            "+---------------------+------------------+------------------+--------------------+-----------------+-----------------------+------------------+-----------------+--------------------+--------------------+---------------------------+-------------------------+---------------------+-----------------------+-----------------------------+------------------------+-----------------------+----------------------+-----------------------+------------------------+------------------------+--------------------+\n",
            "|Area_accident_occured|Driving_experience|Age_band_of_driver|     Road_allignment|Road_surface_type|Road_surface_conditions|Weather_conditions|Accident_severity|    Light_conditions|   Type_of_collision|Number_of_vehicles_involved|accident_severity_integer|Road_allignment_index|Road_surface_type_index|Road_surface_conditions_index|Weather_conditions_index|Accident_severity_index|Light_conditions_index|Type_of_collision_index|Driving_experience_index|Age_band_of_driver_index|            features|\n",
            "+---------------------+------------------+------------------+--------------------+-----------------+-----------------------+------------------+-----------------+--------------------+--------------------+---------------------------+-------------------------+---------------------+-----------------------+-----------------------------+------------------------+-----------------------+----------------------+-----------------------+------------------------+------------------------+--------------------+\n",
            "|    Residential areas|             1-2yr|             18-30|Tangent road with...|    Asphalt roads|                    Dry|            Normal|    Slight Injury|            Daylight|Collision with ro...|                          2|                      1.0|                  0.0|                    0.0|                          0.0|                     0.0|                    0.0|                   0.0|                    5.0|                     3.0|                     0.0|(9,[0,6,7],[2.0,5...|\n",
            "|         Office areas|        Above 10yr|             31-50|Tangent road with...|    Asphalt roads|                    Dry|            Normal|    Slight Injury|            Daylight|Vehicle with vehi...|                          2|                      1.0|                  0.0|                    0.0|                          0.0|                     0.0|                    0.0|                   0.0|                    0.0|                     2.0|                     1.0|(9,[0,7,8],[2.0,2...|\n",
            "|         Office areas|            5-10yr|             18-30|Tangent road with...|      Earth roads|                    Dry|            Normal|    Slight Injury|Darkness - lights...|Vehicle with vehi...|                          2|                      1.0|                  1.0|                    1.0|                          0.0|                     0.0|                    0.0|                   1.0|                    0.0|                     0.0|                     0.0|(9,[0,1,2,5],[2.0...|\n",
            "|     Industrial areas|             2-5yr|             18-30|Tangent road with...|    Asphalt roads|                    Dry|            Normal|    Slight Injury|Darkness - lights...|Vehicle with vehi...|                          2|                      1.0|                  0.0|                    0.0|                          0.0|                     0.0|                    0.0|                   1.0|                    0.0|                     1.0|                     0.0|(9,[0,5,7],[2.0,1...|\n",
            "|    Residential areas|             2-5yr|             18-30|Tangent road with...|    Asphalt roads|                    Dry|            Normal|    Slight Injury|            Daylight|Vehicle with vehi...|                          2|                      1.0|                  0.0|                    0.0|                          0.0|                     0.0|                    0.0|                   0.0|                    0.0|                     1.0|                     0.0| (9,[0,7],[2.0,1.0])|\n",
            "|     Industrial areas|        Above 10yr|             18-30|Tangent road with...|      Earth roads|                    Dry|            Normal|    Slight Injury|            Daylight|Collision with ro...|                          2|                      1.0|                  0.0|                    1.0|                          0.0|                     0.0|                    0.0|                   0.0|                    5.0|                     2.0|                     0.0|(9,[0,2,6,7],[2.0...|\n",
            "|    Residential areas|             1-2yr|             18-30|Tangent road with...|    Asphalt roads|                    Dry|            Normal|   Serious Injury|            Daylight|Collision with ro...|                          2|                      2.0|                  0.0|                    0.0|                          0.0|                     0.0|                    1.0|                   0.0|                    5.0|                     3.0|                     0.0|(9,[0,6,7],[2.0,5...|\n",
            "|    Residential areas|             1-2yr|             18-30|Tangent road with...|    Asphalt roads|                    Dry|            Normal|   Serious Injury|            Daylight|Collision with an...|                          2|                      2.0|                  0.0|                    0.0|                          0.0|                     0.0|                    1.0|                   0.0|                    4.0|                     3.0|                     0.0|(9,[0,6,7],[2.0,4...|\n",
            "|         Office areas|        No Licence|             31-50|Tangent road with...|      Earth roads|                    Dry|            Normal|   Serious Injury|            Daylight|Collision with an...|                          2|                      2.0|                  0.0|                    1.0|                          0.0|                     0.0|                    1.0|                   0.0|                    4.0|                     5.0|                     1.0|[2.0,0.0,1.0,0.0,...|\n",
            "|         Office areas|             1-2yr|             18-30|         Escarpments|    Asphalt roads|                    Dry|            Normal|    Slight Injury|            Daylight|Collision with an...|                          2|                      1.0|                  5.0|                    0.0|                          0.0|                     0.0|                    0.0|                   0.0|                    4.0|                     3.0|                     0.0|(9,[0,1,6,7],[2.0...|\n",
            "|         Office areas|            5-10yr|             31-50|Tangent road with...|    Asphalt roads|                    Dry|            Normal|    Slight Injury|            Daylight|Collision with an...|                          2|                      1.0|                  0.0|                    0.0|                          0.0|                     0.0|                    0.0|                   0.0|                    4.0|                     0.0|                     1.0|(9,[0,6,8],[2.0,4...|\n",
            "|         Office areas|        Above 10yr|             31-50|         Escarpments|    Asphalt roads|                    Dry|            Normal|   Serious Injury|            Daylight|Collision with an...|                          2|                      2.0|                  5.0|                    0.0|                          0.0|                     0.0|                    1.0|                   0.0|                    4.0|                     2.0|                     1.0|[2.0,5.0,0.0,0.0,...|\n",
            "|         Office areas|        Above 10yr|             18-30|Tangent road with...|    Asphalt roads|            Wet or damp|           Raining|   Serious Injury|Darkness - lights...|Collision with an...|                          2|                      2.0|                  0.0|                    0.0|                          1.0|                     1.0|                    1.0|                   1.0|                    4.0|                     2.0|                     0.0|[2.0,0.0,0.0,1.0,...|\n",
            "|         Office areas|            5-10yr|             18-30|Tangent road with...|    Asphalt roads|            Wet or damp|           Raining|    Slight Injury|Darkness - lights...|Collision with an...|                          2|                      1.0|                  0.0|                    0.0|                          1.0|                     1.0|                    0.0|                   1.0|                    4.0|                     0.0|                     0.0|[2.0,0.0,0.0,1.0,...|\n",
            "|         Office areas|             2-5yr|             18-30|Tangent road with...|    Asphalt roads|            Wet or damp|           Raining|   Serious Injury|Darkness - lights...|Collision with an...|                          2|                      2.0|                  0.0|                    0.0|                          1.0|                     1.0|                    1.0|                   1.0|                    4.0|                     1.0|                     0.0|[2.0,0.0,0.0,1.0,...|\n",
            "|    Residential areas|             2-5yr|             18-30|Tangent road with...|    Asphalt roads|            Wet or damp|           Raining|    Slight Injury|Darkness - lights...|Collision with an...|                          2|                      1.0|                  0.0|                    0.0|                          1.0|                     1.0|                    0.0|                   1.0|                    4.0|                     1.0|                     0.0|[2.0,0.0,0.0,1.0,...|\n",
            "|    Residential areas|         Below 1yr|             18-30|Tangent road with...|    Asphalt roads|                    Dry|            Normal|   Serious Injury|            Daylight|Collision with an...|                          2|                      2.0|                  0.0|                    0.0|                          0.0|                     0.0|                    1.0|                   0.0|                    4.0|                     4.0|                     0.0|(9,[0,6,7],[2.0,4...|\n",
            "|                Other|             2-5yr|          Under 18|Tangent road with...|    Asphalt roads|                    Dry|            Normal|    Slight Injury|            Daylight|Collision with an...|                          2|                      1.0|                  0.0|                    0.0|                          0.0|                     0.0|                    0.0|                   0.0|                    4.0|                     1.0|                     4.0|(9,[0,6,7,8],[2.0...|\n",
            "|         Church areas|             2-5yr|             18-30|Tangent road with...|    Asphalt roads|                    Dry|            Normal|   Serious Injury|            Daylight|Collision with an...|                          1|                      2.0|                  0.0|                    0.0|                          0.0|                     0.0|                    1.0|                   0.0|                    4.0|                     1.0|                     0.0|(9,[0,6,7],[1.0,4...|\n",
            "|   Recreational areas|            5-10yr|             18-30|Tangent road with...|    Asphalt roads|                    Dry|            Normal|   Serious Injury|            Daylight|               Other|                          2|                      2.0|                  0.0|                    0.0|                          0.0|                     0.0|                    1.0|                   0.0|                    7.0|                     0.0|                     0.0| (9,[0,6],[2.0,7.0])|\n",
            "+---------------------+------------------+------------------+--------------------+-----------------+-----------------------+------------------+-----------------+--------------------+--------------------+---------------------------+-------------------------+---------------------+-----------------------+-----------------------------+------------------------+-----------------------+----------------------+-----------------------+------------------------+------------------------+--------------------+\n",
            "only showing top 20 rows\n",
            "\n"
          ]
        }
      ]
    },
    {
      "cell_type": "code",
      "source": [
        "output.select(\"features\", \"Accident_severity\").show(truncate=False)"
      ],
      "metadata": {
        "colab": {
          "base_uri": "https://localhost:8080/"
        },
        "id": "_jAG5mAVtYg9",
        "outputId": "8a89ac2a-2211-4157-e6eb-f3c92be7b4d6"
      },
      "execution_count": null,
      "outputs": [
        {
          "output_type": "stream",
          "name": "stdout",
          "text": [
            "+-------------------------------------+-----------------+\n",
            "|features                             |Accident_severity|\n",
            "+-------------------------------------+-----------------+\n",
            "|(9,[0,6,7],[2.0,5.0,3.0])            |Slight Injury    |\n",
            "|(9,[0,7,8],[2.0,2.0,1.0])            |Slight Injury    |\n",
            "|(9,[0,1,2,5],[2.0,1.0,1.0,1.0])      |Slight Injury    |\n",
            "|(9,[0,5,7],[2.0,1.0,1.0])            |Slight Injury    |\n",
            "|(9,[0,7],[2.0,1.0])                  |Slight Injury    |\n",
            "|(9,[0,2,6,7],[2.0,1.0,5.0,2.0])      |Slight Injury    |\n",
            "|(9,[0,6,7],[2.0,5.0,3.0])            |Serious Injury   |\n",
            "|(9,[0,6,7],[2.0,4.0,3.0])            |Serious Injury   |\n",
            "|[2.0,0.0,1.0,0.0,0.0,0.0,4.0,5.0,1.0]|Serious Injury   |\n",
            "|(9,[0,1,6,7],[2.0,5.0,4.0,3.0])      |Slight Injury    |\n",
            "|(9,[0,6,8],[2.0,4.0,1.0])            |Slight Injury    |\n",
            "|[2.0,5.0,0.0,0.0,0.0,0.0,4.0,2.0,1.0]|Serious Injury   |\n",
            "|[2.0,0.0,0.0,1.0,1.0,1.0,4.0,2.0,0.0]|Serious Injury   |\n",
            "|[2.0,0.0,0.0,1.0,1.0,1.0,4.0,0.0,0.0]|Slight Injury    |\n",
            "|[2.0,0.0,0.0,1.0,1.0,1.0,4.0,1.0,0.0]|Serious Injury   |\n",
            "|[2.0,0.0,0.0,1.0,1.0,1.0,4.0,1.0,0.0]|Slight Injury    |\n",
            "|(9,[0,6,7],[2.0,4.0,4.0])            |Serious Injury   |\n",
            "|(9,[0,6,7,8],[2.0,4.0,1.0,4.0])      |Slight Injury    |\n",
            "|(9,[0,6,7],[1.0,4.0,1.0])            |Serious Injury   |\n",
            "|(9,[0,6],[2.0,7.0])                  |Serious Injury   |\n",
            "+-------------------------------------+-----------------+\n",
            "only showing top 20 rows\n",
            "\n"
          ]
        }
      ]
    },
    {
      "cell_type": "code",
      "source": [
        "model_df = output.select(\"features\", \"accident_severity_integer\")\n",
        "model_df.describe().show()"
      ],
      "metadata": {
        "colab": {
          "base_uri": "https://localhost:8080/"
        },
        "id": "wl7bbiEOtvnP",
        "outputId": "95cf72c0-e86a-46f5-886d-d2207f3a3c96"
      },
      "execution_count": null,
      "outputs": [
        {
          "output_type": "stream",
          "name": "stdout",
          "text": [
            "+-------+-------------------------+\n",
            "|summary|accident_severity_integer|\n",
            "+-------+-------------------------+\n",
            "|  count|                    10862|\n",
            "|   mean|       1.1654391456453692|\n",
            "| stddev|      0.40434363081107705|\n",
            "|    min|                      1.0|\n",
            "|    max|                      3.0|\n",
            "+-------+-------------------------+\n",
            "\n"
          ]
        }
      ]
    },
    {
      "cell_type": "code",
      "source": [
        "unique_values_count = model_df.groupBy(\"accident_severity_integer\").count()\n",
        "unique_values_count.show()"
      ],
      "metadata": {
        "colab": {
          "base_uri": "https://localhost:8080/"
        },
        "id": "qOlIeHznBxxu",
        "outputId": "d553a5e0-0000-4d12-fbd0-7901dd88a325"
      },
      "execution_count": null,
      "outputs": [
        {
          "output_type": "stream",
          "name": "stdout",
          "text": [
            "+-------------------------+-----+\n",
            "|accident_severity_integer|count|\n",
            "+-------------------------+-----+\n",
            "|                      1.0| 9203|\n",
            "|                      3.0|  138|\n",
            "|                      2.0| 1521|\n",
            "+-------------------------+-----+\n",
            "\n"
          ]
        }
      ]
    },
    {
      "cell_type": "code",
      "source": [
        "model_df.show()\n"
      ],
      "metadata": {
        "colab": {
          "base_uri": "https://localhost:8080/"
        },
        "id": "f58Rp1qmHMVl",
        "outputId": "5023c987-9e03-4b7b-edb1-3ce50a76ac33"
      },
      "execution_count": null,
      "outputs": [
        {
          "output_type": "stream",
          "name": "stdout",
          "text": [
            "+--------------------+-------------------------+\n",
            "|            features|accident_severity_integer|\n",
            "+--------------------+-------------------------+\n",
            "|(9,[0,6,7],[2.0,5...|                      1.0|\n",
            "|(9,[0,7,8],[2.0,2...|                      1.0|\n",
            "|(9,[0,1,2,5],[2.0...|                      1.0|\n",
            "|(9,[0,5,7],[2.0,1...|                      1.0|\n",
            "| (9,[0,7],[2.0,1.0])|                      1.0|\n",
            "|(9,[0,2,6,7],[2.0...|                      1.0|\n",
            "|(9,[0,6,7],[2.0,5...|                      2.0|\n",
            "|(9,[0,6,7],[2.0,4...|                      2.0|\n",
            "|[2.0,0.0,1.0,0.0,...|                      2.0|\n",
            "|(9,[0,1,6,7],[2.0...|                      1.0|\n",
            "|(9,[0,6,8],[2.0,4...|                      1.0|\n",
            "|[2.0,5.0,0.0,0.0,...|                      2.0|\n",
            "|[2.0,0.0,0.0,1.0,...|                      2.0|\n",
            "|[2.0,0.0,0.0,1.0,...|                      1.0|\n",
            "|[2.0,0.0,0.0,1.0,...|                      2.0|\n",
            "|[2.0,0.0,0.0,1.0,...|                      1.0|\n",
            "|(9,[0,6,7],[2.0,4...|                      2.0|\n",
            "|(9,[0,6,7,8],[2.0...|                      1.0|\n",
            "|(9,[0,6,7],[1.0,4...|                      2.0|\n",
            "| (9,[0,6],[2.0,7.0])|                      2.0|\n",
            "+--------------------+-------------------------+\n",
            "only showing top 20 rows\n",
            "\n"
          ]
        }
      ]
    },
    {
      "cell_type": "code",
      "source": [
        "model_df.show()"
      ],
      "metadata": {
        "colab": {
          "base_uri": "https://localhost:8080/"
        },
        "id": "3Au7kjtrWstw",
        "outputId": "a984036a-0ba0-4301-db16-d77fd021caef"
      },
      "execution_count": null,
      "outputs": [
        {
          "output_type": "stream",
          "name": "stdout",
          "text": [
            "+--------------------+-------------------------+\n",
            "|            features|accident_severity_integer|\n",
            "+--------------------+-------------------------+\n",
            "|(9,[0,6,7],[2.0,5...|                      1.0|\n",
            "|(9,[0,7,8],[2.0,2...|                      1.0|\n",
            "|(9,[0,1,2,5],[2.0...|                      1.0|\n",
            "|(9,[0,5,7],[2.0,1...|                      1.0|\n",
            "| (9,[0,7],[2.0,1.0])|                      1.0|\n",
            "|(9,[0,2,6,7],[2.0...|                      1.0|\n",
            "|(9,[0,6,7],[2.0,5...|                      2.0|\n",
            "|(9,[0,6,7],[2.0,4...|                      2.0|\n",
            "|[2.0,0.0,1.0,0.0,...|                      2.0|\n",
            "|(9,[0,1,6,7],[2.0...|                      1.0|\n",
            "|(9,[0,6,8],[2.0,4...|                      1.0|\n",
            "|[2.0,5.0,0.0,0.0,...|                      2.0|\n",
            "|[2.0,0.0,0.0,1.0,...|                      2.0|\n",
            "|[2.0,0.0,0.0,1.0,...|                      1.0|\n",
            "|[2.0,0.0,0.0,1.0,...|                      2.0|\n",
            "|[2.0,0.0,0.0,1.0,...|                      1.0|\n",
            "|(9,[0,6,7],[2.0,4...|                      2.0|\n",
            "|(9,[0,6,7,8],[2.0...|                      1.0|\n",
            "|(9,[0,6,7],[1.0,4...|                      2.0|\n",
            "| (9,[0,6],[2.0,7.0])|                      2.0|\n",
            "+--------------------+-------------------------+\n",
            "only showing top 20 rows\n",
            "\n"
          ]
        }
      ]
    },
    {
      "cell_type": "code",
      "source": [
        "training_df, test_df = model_df.randomSplit([0.7, 0.3])"
      ],
      "metadata": {
        "id": "OKJlphyEuVkd"
      },
      "execution_count": null,
      "outputs": []
    },
    {
      "cell_type": "code",
      "source": [
        "test_df.groupBy(\"accident_severity_integer\").count().show()\n",
        "training_df.groupBy(\"accident_severity_integer\").count().show()\n"
      ],
      "metadata": {
        "colab": {
          "base_uri": "https://localhost:8080/"
        },
        "id": "dbmPPjD5CXr0",
        "outputId": "19b1abd1-d67b-4e20-eb53-ae488377dad9"
      },
      "execution_count": null,
      "outputs": [
        {
          "output_type": "stream",
          "name": "stdout",
          "text": [
            "+-------------------------+-----+\n",
            "|accident_severity_integer|count|\n",
            "+-------------------------+-----+\n",
            "|                      1.0| 2856|\n",
            "|                      3.0|   36|\n",
            "|                      2.0|  435|\n",
            "+-------------------------+-----+\n",
            "\n",
            "+-------------------------+-----+\n",
            "|accident_severity_integer|count|\n",
            "+-------------------------+-----+\n",
            "|                      1.0| 6347|\n",
            "|                      3.0|  102|\n",
            "|                      2.0| 1086|\n",
            "+-------------------------+-----+\n",
            "\n"
          ]
        }
      ]
    },
    {
      "cell_type": "code",
      "source": [
        "print(\"Training dataset samples: \", training_df.count())\n",
        "print(\"Test dataset samples: \", test_df.count())"
      ],
      "metadata": {
        "colab": {
          "base_uri": "https://localhost:8080/"
        },
        "id": "BSokVjWIuYr_",
        "outputId": "9db84c04-20fe-49bd-9dd5-24cf2408ee59"
      },
      "execution_count": null,
      "outputs": [
        {
          "output_type": "stream",
          "name": "stdout",
          "text": [
            "Training dataset samples:  7535\n",
            "Test dataset samples:  3327\n"
          ]
        }
      ]
    },
    {
      "cell_type": "code",
      "source": [
        "from pyspark.ml.classification import LogisticRegression"
      ],
      "metadata": {
        "id": "D0FUXxNnunCD"
      },
      "execution_count": null,
      "outputs": []
    },
    {
      "cell_type": "code",
      "source": [
        "log_reg = LogisticRegression(labelCol=\"accident_severity_integer\", family=\"multinomial\").fit(training_df)"
      ],
      "metadata": {
        "id": "-hmuRyiguuas"
      },
      "execution_count": null,
      "outputs": []
    },
    {
      "cell_type": "code",
      "source": [
        "log_reg"
      ],
      "metadata": {
        "colab": {
          "base_uri": "https://localhost:8080/"
        },
        "id": "IJgxQDHju_Rk",
        "outputId": "1c3dc17b-df4a-4f64-a4c7-a1a9da38a9c9"
      },
      "execution_count": null,
      "outputs": [
        {
          "output_type": "execute_result",
          "data": {
            "text/plain": [
              "LogisticRegressionModel: uid=LogisticRegression_178212e0f9b0, numClasses=4, numFeatures=9"
            ]
          },
          "metadata": {},
          "execution_count": 105
        }
      ]
    },
    {
      "cell_type": "code",
      "source": [
        "training_results = log_reg.evaluate(training_df).predictions"
      ],
      "metadata": {
        "id": "NDGP6Uw5vEr5"
      },
      "execution_count": null,
      "outputs": []
    },
    {
      "cell_type": "code",
      "source": [
        "training_results.describe().show()"
      ],
      "metadata": {
        "colab": {
          "base_uri": "https://localhost:8080/"
        },
        "id": "yBG4SAjOvPzR",
        "outputId": "f41e95b4-c261-46a3-cd55-8d8595fe638e"
      },
      "execution_count": null,
      "outputs": [
        {
          "output_type": "stream",
          "name": "stdout",
          "text": [
            "+-------+-------------------------+----------+\n",
            "|summary|accident_severity_integer|prediction|\n",
            "+-------+-------------------------+----------+\n",
            "|  count|                     7535|      7535|\n",
            "|   mean|       1.1712010617120105|       1.0|\n",
            "| stddev|      0.41108069942248965|       0.0|\n",
            "|    min|                      1.0|       1.0|\n",
            "|    max|                      3.0|       1.0|\n",
            "+-------+-------------------------+----------+\n",
            "\n"
          ]
        }
      ]
    },
    {
      "cell_type": "code",
      "source": [
        "results = log_reg.evaluate(test_df).predictions"
      ],
      "metadata": {
        "id": "5g1UBibIvddN"
      },
      "execution_count": null,
      "outputs": []
    },
    {
      "cell_type": "code",
      "source": [
        "results.describe().show()"
      ],
      "metadata": {
        "colab": {
          "base_uri": "https://localhost:8080/"
        },
        "id": "SaP5jr4EvxWN",
        "outputId": "e8cb1f99-52f1-49f1-c4dc-ce40c8679e12"
      },
      "execution_count": null,
      "outputs": [
        {
          "output_type": "stream",
          "name": "stdout",
          "text": [
            "+-------+-------------------------+----------+\n",
            "|summary|accident_severity_integer|prediction|\n",
            "+-------+-------------------------+----------+\n",
            "|  count|                     3327|      3327|\n",
            "|   mean|       1.1523895401262398|       1.0|\n",
            "| stddev|       0.3883985433668305|       0.0|\n",
            "|    min|                      1.0|       1.0|\n",
            "|    max|                      3.0|       1.0|\n",
            "+-------+-------------------------+----------+\n",
            "\n"
          ]
        }
      ]
    },
    {
      "cell_type": "code",
      "source": [
        "results.select([\"accident_severity_integer\", \"prediction\"]).show(10)"
      ],
      "metadata": {
        "colab": {
          "base_uri": "https://localhost:8080/"
        },
        "id": "anOsEc85v88l",
        "outputId": "19b1ea5d-4859-460e-88d1-54c953bf3fd5"
      },
      "execution_count": null,
      "outputs": [
        {
          "output_type": "stream",
          "name": "stdout",
          "text": [
            "+-------------------------+----------+\n",
            "|accident_severity_integer|prediction|\n",
            "+-------------------------+----------+\n",
            "|                      1.0|       1.0|\n",
            "|                      1.0|       1.0|\n",
            "|                      1.0|       1.0|\n",
            "|                      1.0|       1.0|\n",
            "|                      1.0|       1.0|\n",
            "|                      2.0|       1.0|\n",
            "|                      2.0|       1.0|\n",
            "|                      2.0|       1.0|\n",
            "|                      1.0|       1.0|\n",
            "|                      1.0|       1.0|\n",
            "+-------------------------+----------+\n",
            "only showing top 10 rows\n",
            "\n"
          ]
        }
      ]
    },
    {
      "cell_type": "code",
      "source": [
        "results.describe().show()"
      ],
      "metadata": {
        "colab": {
          "base_uri": "https://localhost:8080/"
        },
        "id": "ik_G94FAwcP7",
        "outputId": "939c1da9-ef2d-4293-f2ad-b0e3a7ee27e2"
      },
      "execution_count": null,
      "outputs": [
        {
          "output_type": "stream",
          "name": "stdout",
          "text": [
            "+-------+-------------------------+----------+\n",
            "|summary|accident_severity_integer|prediction|\n",
            "+-------+-------------------------+----------+\n",
            "|  count|                     3327|      3327|\n",
            "|   mean|       1.1523895401262398|       1.0|\n",
            "| stddev|       0.3883985433668305|       0.0|\n",
            "|    min|                      1.0|       1.0|\n",
            "|    max|                      3.0|       1.0|\n",
            "+-------+-------------------------+----------+\n",
            "\n"
          ]
        }
      ]
    },
    {
      "cell_type": "code",
      "source": [
        "total_observations = results.count()\n",
        "\n",
        "# For class 1.0\n",
        "tp_1 = results[(results.accident_severity_integer == 1.0) & (results.prediction == 1.0)].count()\n",
        "fn_1 = results[(results.accident_severity_integer == 1.0) & (results.prediction != 1.0)].count()\n",
        "fp_1 = results[(results.accident_severity_integer != 1.0) & (results.prediction == 1.0)].count()\n",
        "tn_1 = results[(results.accident_severity_integer != 1.0) & (results.prediction != 1.0)].count()\n",
        "\n",
        "# For class 2.0\n",
        "tp_2 = results[(results.accident_severity_integer == 2.0) & (results.prediction == 2.0)].count()\n",
        "fn_2 = results[(results.accident_severity_integer == 2.0) & (results.prediction != 2.0)].count()\n",
        "fp_2 = results[(results.accident_severity_integer != 2.0) & (results.prediction == 2.0)].count()\n",
        "tn_2 = results[(results.accident_severity_integer != 2.0) & (results.prediction != 2.0)].count()\n",
        "\n",
        "# For class 0.0\n",
        "tp_0 = results[(results.accident_severity_integer == 0.0) & (results.prediction == 0.0)].count()\n",
        "fn_0 = results[(results.accident_severity_integer == 0.0) & (results.prediction != 0.0)].count()\n",
        "fp_0 = results[(results.accident_severity_integer != 0.0) & (results.prediction == 0.0)].count()\n",
        "tn_0 = results[(results.accident_severity_integer != 0.0) & (results.prediction != 0.0)].count()\n"
      ],
      "metadata": {
        "id": "rY6c3GpqjcYF"
      },
      "execution_count": null,
      "outputs": []
    },
    {
      "cell_type": "code",
      "source": [
        "# Calculating overall accuracy\n",
        "total_tp = tp_1 + tp_2 + tp_0\n",
        "total_fp = fp_1 + fp_2 + fp_0\n",
        "total_fn = fn_1 + fn_2 + fn_0\n",
        "total_tn = tn_1 + tn_2 + tn_0"
      ],
      "metadata": {
        "id": "8nMrXg-tkueS"
      },
      "execution_count": null,
      "outputs": []
    },
    {
      "cell_type": "code",
      "source": [
        "total_tp = tp_1 + tp_2 + tp_0\n",
        "accuracy = (float(total_tp) + float(total_tn))/ (total_tp+ total_fp + total_fn + total_tn)# Overall accuracy\n",
        "\n",
        "print(\"Accuracy: \", accuracy)"
      ],
      "metadata": {
        "colab": {
          "base_uri": "https://localhost:8080/"
        },
        "id": "Me1Rl1a9jjEz",
        "outputId": "b98ed713-c864-4185-f0e7-e021a9722db7"
      },
      "execution_count": 143,
      "outputs": [
        {
          "output_type": "stream",
          "name": "stdout",
          "text": [
            "Accuracy:  0.7144998456994225\n"
          ]
        }
      ]
    },
    {
      "cell_type": "code",
      "source": [
        "total_tp = tp_1 + tp_2 + tp_0\n",
        "total_fn = fn_1 + fn_2 + fn_0\n",
        "recall = float(total_tp) / (total_tp + total_fn) if (total_tp + total_fn) != 0 else 0\n",
        "print(\"recall: \", recall)"
      ],
      "metadata": {
        "colab": {
          "base_uri": "https://localhost:8080/"
        },
        "id": "_tzBH7f3k0uZ",
        "outputId": "56cbc1d5-a1cd-4e4f-ff5f-04433e3bbc38"
      },
      "execution_count": null,
      "outputs": [
        {
          "output_type": "stream",
          "name": "stdout",
          "text": [
            "recall:  0.8678213309024613\n"
          ]
        }
      ]
    },
    {
      "cell_type": "code",
      "source": [
        "precision = float(total_tp) / (total_tp + total_fp) if (total_tp + total_fp) != 0 else 0\n",
        "\n",
        "f_score = 2 * (precision * recall) / (precision + recall) if (precision + recall) != 0 else 0\n",
        "print(\"F-score: \", f_score)"
      ],
      "metadata": {
        "colab": {
          "base_uri": "https://localhost:8080/"
        },
        "id": "_PSqA3zQ5XT-",
        "outputId": "8a484953-be8b-44e9-e267-896467212b1e"
      },
      "execution_count": null,
      "outputs": [
        {
          "output_type": "stream",
          "name": "stdout",
          "text": [
            "F-score:  0.8631006346328196\n"
          ]
        }
      ]
    },
    {
      "cell_type": "code",
      "source": [
        "from pyspark.mllib.evaluation import MulticlassMetrics\n",
        "import seaborn as sns\n",
        "import matplotlib.pyplot as plt\n",
        "\n",
        "# Step 1: Convert predictions to RDD\n",
        "predictionAndLabels = training_results.select(\"prediction\", \"accident_severity_integer\").rdd\n",
        "\n",
        "# Step 2: Initialize MulticlassMetrics with the RDD\n",
        "metrics = MulticlassMetrics(predictionAndLabels)\n",
        "\n",
        "# Step 3: Get the confusion matrix\n",
        "confusion_matrix = metrics.confusionMatrix().toArray()\n",
        "\n",
        "# Step 4: Visualize the confusion matrix\n",
        "plt.figure(figsize=(10, 8))\n",
        "sns.heatmap(confusion_matrix, annot=True, fmt='g')\n",
        "plt.xlabel('Predicted Labels')\n",
        "plt.ylabel('True Labels')\n",
        "plt.title('Confusion Matrix')\n",
        "plt.show()\n"
      ],
      "metadata": {
        "id": "jhxzbzj0Xrht",
        "colab": {
          "base_uri": "https://localhost:8080/",
          "height": 739
        },
        "outputId": "c8878e30-080f-4dc9-8d50-9f978c6e7e60"
      },
      "execution_count": null,
      "outputs": [
        {
          "output_type": "display_data",
          "data": {
            "text/plain": [
              "<Figure size 1000x800 with 2 Axes>"
            ],
            "image/png": "[encoded data removed]"
          },
          "metadata": {}
        }
      ]
    },
    {
      "cell_type": "code",
      "source": [
        "# as you can see, my model is very biased towards \"0.0\" because most of the data has 0.0\n",
        "# I will add weights to the model to try and balance it out"
      ],
      "metadata": {
        "id": "o594vuOs_iuO"
      },
      "execution_count": null,
      "outputs": []
    },
    {
      "cell_type": "code",
      "source": [
        "# Calculate class weights\n",
        "total_count = model_df.count()\n",
        "class_counts = model_df.groupBy(\"accident_severity_integer\").count().collect()\n",
        "weights = {row['accident_severity_integer']: total_count / float(row['count']) for row in class_counts}"
      ],
      "metadata": {
        "id": "dud7MnVD_0SA"
      },
      "execution_count": null,
      "outputs": []
    },
    {
      "cell_type": "code",
      "source": [
        "from pyspark.sql.functions import udf\n",
        "from pyspark.sql.types import DoubleType\n",
        "\n",
        "# UDF to assign weight to each row\n",
        "def get_weight(class_label):\n",
        "    return weights[class_label]\n",
        "\n",
        "udf_get_weight = udf(get_weight, DoubleType())\n",
        "\n",
        "# Add a new column for weights\n",
        "weighted_model_df = model_df.withColumn('classWeight', udf_get_weight('accident_severity_integer'))"
      ],
      "metadata": {
        "id": "00aolRy_AeJC"
      },
      "execution_count": null,
      "outputs": []
    },
    {
      "cell_type": "code",
      "source": [
        "training_df, test_df = weighted_model_df.randomSplit([0.7, 0.3])\n",
        "\n",
        "log_reg = LogisticRegression(labelCol=\"accident_severity_integer\", weightCol=\"classWeight\", family=\"multinomial\").fit(training_df)\n",
        "\n",
        "results = log_reg.evaluate(training_df).predictions\n",
        "\n"
      ],
      "metadata": {
        "id": "elr20b8KAjyt"
      },
      "execution_count": null,
      "outputs": []
    },
    {
      "cell_type": "code",
      "source": [
        "total_observations = results.count()\n",
        "\n",
        "# For class 1.0\n",
        "tp_1 = results[(results.accident_severity_integer == 1.0) & (results.prediction == 1.0)].count()\n",
        "fn_1 = results[(results.accident_severity_integer == 1.0) & (results.prediction != 1.0)].count()\n",
        "fp_1 = results[(results.accident_severity_integer != 1.0) & (results.prediction == 1.0)].count()\n",
        "tn_1 = results[(results.accident_severity_integer != 1.0) & (results.prediction != 1.0)].count()\n",
        "\n",
        "# For class 2.0\n",
        "tp_2 = results[(results.accident_severity_integer == 2.0) & (results.prediction == 2.0)].count()\n",
        "fn_2 = results[(results.accident_severity_integer == 2.0) & (results.prediction != 2.0)].count()\n",
        "fp_2 = results[(results.accident_severity_integer != 2.0) & (results.prediction == 2.0)].count()\n",
        "tn_2 = results[(results.accident_severity_integer != 2.0) & (results.prediction != 2.0)].count()\n",
        "\n",
        "# For class 0.0\n",
        "tp_0 = results[(results.accident_severity_integer == 0.0) & (results.prediction == 0.0)].count()\n",
        "fn_0 = results[(results.accident_severity_integer == 0.0) & (results.prediction != 0.0)].count()\n",
        "fp_0 = results[(results.accident_severity_integer != 0.0) & (results.prediction == 0.0)].count()\n",
        "tn_0 = results[(results.accident_severity_integer != 0.0) & (results.prediction != 0.0)].count()\n",
        "\n",
        "# Calculating overall accuracy\n",
        "total_tp = tp_1 + tp_2 + tp_0\n",
        "total_fp = fp_1 + fp_2 + fp_0\n",
        "total_fn = fn_1 + fn_2 + fn_0\n",
        "total_tn = tn_1 + tn_2 + tn_0\n",
        "total_tp = tp_1 + tp_2 + tp_0"
      ],
      "metadata": {
        "id": "8dXIMs_cAqio"
      },
      "execution_count": null,
      "outputs": []
    },
    {
      "cell_type": "code",
      "source": [
        "accuracy = float(total_tp) / total_observations\n",
        "\n",
        "print(\"Accuracy after adding weights: \", accuracy)"
      ],
      "metadata": {
        "colab": {
          "base_uri": "https://localhost:8080/"
        },
        "id": "S8mkH692AyNY",
        "outputId": "3835a784-227c-4c38-cd31-f360b4b55fb7"
      },
      "execution_count": null,
      "outputs": [
        {
          "output_type": "stream",
          "name": "stdout",
          "text": [
            "Accuracy after adding weights:  0.37481814574791694\n"
          ]
        }
      ]
    },
    {
      "cell_type": "code",
      "source": [
        "from pyspark.mllib.evaluation import MulticlassMetrics\n",
        "import seaborn as sns\n",
        "import matplotlib.pyplot as plt\n",
        "\n",
        "# Step 1: Convert predictions to RDD\n",
        "predictionAndLabels = results.select(\"prediction\", \"accident_severity_integer\").rdd\n",
        "\n",
        "# Step 2: Initialize MulticlassMetrics with the RDD\n",
        "metrics = MulticlassMetrics(predictionAndLabels)\n",
        "\n",
        "# Step 3: Get the confusion matrix\n",
        "confusion_matrix = metrics.confusionMatrix().toArray()\n",
        "\n",
        "# Step 4: Visualize the confusion matrix\n",
        "plt.figure(figsize=(10, 8))\n",
        "sns.heatmap(confusion_matrix, annot=True, fmt='g')\n",
        "plt.xlabel('Predicted Labels')\n",
        "plt.ylabel('True Labels')\n",
        "plt.title('Confusion Matrix')\n",
        "plt.show()\n"
      ],
      "metadata": {
        "colab": {
          "base_uri": "https://localhost:8080/",
          "height": 772
        },
        "id": "vGlyj4yWzHFq",
        "outputId": "ad850df3-f889-451d-f568-7c2381b25945"
      },
      "execution_count": null,
      "outputs": [
        {
          "output_type": "stream",
          "name": "stderr",
          "text": [
            "/usr/local/lib/python3.10/dist-packages/pyspark/sql/context.py:158: FutureWarning: Deprecated in 3.0.0. Use SparkSession.builder.getOrCreate() instead.\n",
            "  warnings.warn(\n"
          ]
        },
        {
          "output_type": "display_data",
          "data": {
            "text/plain": [
              "<Figure size 1000x800 with 2 Axes>"
            ],
            "image/png": "[encoded data removed]"
          },
          "metadata": {}
        }
      ]
    },
    {
      "cell_type": "code",
      "source": [
        "# Decision Tree"
      ],
      "metadata": {
        "id": "e8V4EJSG4laW"
      },
      "execution_count": null,
      "outputs": []
    },
    {
      "cell_type": "code",
      "source": [
        "from pyspark.ml.classification import DecisionTreeClassifier\n",
        "from pyspark.ml.evaluation import MulticlassClassificationEvaluator"
      ],
      "metadata": {
        "id": "nqatbTrwQTTf"
      },
      "execution_count": null,
      "outputs": []
    },
    {
      "cell_type": "code",
      "source": [
        "dt_df_classifier = DecisionTreeClassifier(labelCol=\"accident_severity_integer\").fit(training_df)"
      ],
      "metadata": {
        "id": "N0NNlynuQf3m"
      },
      "execution_count": null,
      "outputs": []
    },
    {
      "cell_type": "code",
      "source": [
        "dt_df_predictions = dt_df_classifier.transform(test_df)"
      ],
      "metadata": {
        "id": "uUYvPlnGQv0B"
      },
      "execution_count": null,
      "outputs": []
    },
    {
      "cell_type": "code",
      "source": [
        "dt_df_predictions.show()"
      ],
      "metadata": {
        "colab": {
          "base_uri": "https://localhost:8080/"
        },
        "id": "QdKsFznDQ7a3",
        "outputId": "4b2e70fc-b680-4e49-9985-7e0c31bb614a"
      },
      "execution_count": null,
      "outputs": [
        {
          "output_type": "stream",
          "name": "stdout",
          "text": [
            "+-------------+-------------------------+------------------+--------------------+--------------------+----------+\n",
            "|     features|accident_severity_integer|       classWeight|       rawPrediction|         probability|prediction|\n",
            "+-------------+-------------------------+------------------+--------------------+--------------------+----------+\n",
            "|(9,[0],[1.0])|                      1.0|1.1802673041399543|[0.0,768.0,272.0,...|[0.0,0.7252124645...|       1.0|\n",
            "|(9,[0],[1.0])|                      1.0|1.1802673041399543|[0.0,768.0,272.0,...|[0.0,0.7252124645...|       1.0|\n",
            "|(9,[0],[1.0])|                      1.0|1.1802673041399543|[0.0,768.0,272.0,...|[0.0,0.7252124645...|       1.0|\n",
            "|(9,[0],[1.0])|                      1.0|1.1802673041399543|[0.0,768.0,272.0,...|[0.0,0.7252124645...|       1.0|\n",
            "|(9,[0],[1.0])|                      1.0|1.1802673041399543|[0.0,768.0,272.0,...|[0.0,0.7252124645...|       1.0|\n",
            "|(9,[0],[1.0])|                      1.0|1.1802673041399543|[0.0,768.0,272.0,...|[0.0,0.7252124645...|       1.0|\n",
            "|(9,[0],[1.0])|                      1.0|1.1802673041399543|[0.0,768.0,272.0,...|[0.0,0.7252124645...|       1.0|\n",
            "|(9,[0],[1.0])|                      1.0|1.1802673041399543|[0.0,768.0,272.0,...|[0.0,0.7252124645...|       1.0|\n",
            "|(9,[0],[1.0])|                      1.0|1.1802673041399543|[0.0,768.0,272.0,...|[0.0,0.7252124645...|       1.0|\n",
            "|(9,[0],[1.0])|                      1.0|1.1802673041399543|[0.0,768.0,272.0,...|[0.0,0.7252124645...|       1.0|\n",
            "|(9,[0],[1.0])|                      1.0|1.1802673041399543|[0.0,768.0,272.0,...|[0.0,0.7252124645...|       1.0|\n",
            "|(9,[0],[1.0])|                      2.0| 7.141354372123603|[0.0,768.0,272.0,...|[0.0,0.7252124645...|       1.0|\n",
            "|(9,[0],[1.0])|                      2.0| 7.141354372123603|[0.0,768.0,272.0,...|[0.0,0.7252124645...|       1.0|\n",
            "|(9,[0],[1.0])|                      2.0| 7.141354372123603|[0.0,768.0,272.0,...|[0.0,0.7252124645...|       1.0|\n",
            "|(9,[0],[1.0])|                      2.0| 7.141354372123603|[0.0,768.0,272.0,...|[0.0,0.7252124645...|       1.0|\n",
            "|(9,[0],[1.0])|                      2.0| 7.141354372123603|[0.0,768.0,272.0,...|[0.0,0.7252124645...|       1.0|\n",
            "|(9,[0],[2.0])|                      1.0|1.1802673041399543|[0.0,3788.0,494.0...|[0.0,0.8740193816...|       1.0|\n",
            "|(9,[0],[2.0])|                      1.0|1.1802673041399543|[0.0,3788.0,494.0...|[0.0,0.8740193816...|       1.0|\n",
            "|(9,[0],[2.0])|                      1.0|1.1802673041399543|[0.0,3788.0,494.0...|[0.0,0.8740193816...|       1.0|\n",
            "|(9,[0],[2.0])|                      1.0|1.1802673041399543|[0.0,3788.0,494.0...|[0.0,0.8740193816...|       1.0|\n",
            "+-------------+-------------------------+------------------+--------------------+--------------------+----------+\n",
            "only showing top 20 rows\n",
            "\n"
          ]
        }
      ]
    },
    {
      "cell_type": "code",
      "source": [
        "dt_df_predictions.describe().show()"
      ],
      "metadata": {
        "colab": {
          "base_uri": "https://localhost:8080/"
        },
        "id": "PCJRcx9gDZ6u",
        "outputId": "9f1a31c3-ebe1-4746-b2b9-849c3220c626"
      },
      "execution_count": null,
      "outputs": [
        {
          "output_type": "stream",
          "name": "stdout",
          "text": [
            "+-------+-------------------------+------------------+-------------------+\n",
            "|summary|accident_severity_integer|       classWeight|         prediction|\n",
            "+-------+-------------------------+------------------+-------------------+\n",
            "|  count|                     3347|              3347|               3347|\n",
            "|   mean|       1.1664176874813266|3.1523947828488454| 1.0146399760979983|\n",
            "| stddev|      0.41067107475646775| 9.528105886945244|0.12012476226417715|\n",
            "|    min|                      1.0|1.1802673041399543|                1.0|\n",
            "|    max|                      3.0| 78.71014492753623|                2.0|\n",
            "+-------+-------------------------+------------------+-------------------+\n",
            "\n"
          ]
        }
      ]
    },
    {
      "cell_type": "code",
      "source": [
        "dt_df_accuracy = MulticlassClassificationEvaluator(labelCol=\"accident_severity_integer\",\n",
        "                                                   metricName=\"accuracy\").evaluate(dt_df_predictions)"
      ],
      "metadata": {
        "id": "wpDa8jNzQ9Tx"
      },
      "execution_count": null,
      "outputs": []
    },
    {
      "cell_type": "code",
      "source": [
        "print(\"Accuracy: \", dt_df_accuracy)"
      ],
      "metadata": {
        "colab": {
          "base_uri": "https://localhost:8080/"
        },
        "id": "CVQB2OcfR9ap",
        "outputId": "97cbb2f6-02fb-4001-f21f-baab9200882a"
      },
      "execution_count": null,
      "outputs": [
        {
          "output_type": "stream",
          "name": "stdout",
          "text": [
            "Accuracy:  0.8464296384822229\n"
          ]
        }
      ]
    },
    {
      "cell_type": "code",
      "source": [
        "dt_df_percision = MulticlassClassificationEvaluator(labelCol=\"accident_severity_integer\",\n",
        "                                                   metricName=\"weightedPrecision\").evaluate(dt_df_predictions)"
      ],
      "metadata": {
        "id": "U5W_HHDOR-RX"
      },
      "execution_count": null,
      "outputs": []
    },
    {
      "cell_type": "code",
      "source": [
        "print(\"Percision: \", dt_df_percision)"
      ],
      "metadata": {
        "colab": {
          "base_uri": "https://localhost:8080/"
        },
        "id": "_ROTic0MSGmu",
        "outputId": "f9dd7fca-0683-4c82-a143-7b40a4923d80"
      },
      "execution_count": null,
      "outputs": [
        {
          "output_type": "stream",
          "name": "stdout",
          "text": [
            "Percision:  0.7794692421336625\n"
          ]
        }
      ]
    },
    {
      "cell_type": "code",
      "source": [
        "df.columns"
      ],
      "metadata": {
        "colab": {
          "base_uri": "https://localhost:8080/"
        },
        "id": "IT0VKjVkSTFr",
        "outputId": "934c8750-ba2b-4e51-e237-42b033e0c657"
      },
      "execution_count": null,
      "outputs": [
        {
          "output_type": "execute_result",
          "data": {
            "text/plain": [
              "['Area_accident_occured',\n",
              " 'Driving_experience',\n",
              " 'Age_band_of_driver',\n",
              " 'Road_allignment',\n",
              " 'Road_surface_type',\n",
              " 'Road_surface_conditions',\n",
              " 'Weather_conditions',\n",
              " 'Accident_severity',\n",
              " 'Light_conditions',\n",
              " 'Type_of_collision',\n",
              " 'Number_of_vehicles_involved']"
            ]
          },
          "metadata": {},
          "execution_count": 135
        }
      ]
    },
    {
      "cell_type": "code",
      "source": [
        "dt_df_classifier.featureImportances"
      ],
      "metadata": {
        "colab": {
          "base_uri": "https://localhost:8080/"
        },
        "id": "RVF1vB0oSgOU",
        "outputId": "76bca0d2-aaeb-414c-9dd1-5641f97ece7c"
      },
      "execution_count": null,
      "outputs": [
        {
          "output_type": "execute_result",
          "data": {
            "text/plain": [
              "SparseVector(9, {0: 0.5089, 1: 0.042, 2: 0.0323, 3: 0.0162, 4: 0.1165, 5: 0.1005, 6: 0.0114, 7: 0.0325, 8: 0.1397})"
            ]
          },
          "metadata": {},
          "execution_count": 136
        }
      ]
    },
    {
      "cell_type": "code",
      "source": [],
      "metadata": {
        "id": "Og-TeWpiWD01"
      },
      "execution_count": null,
      "outputs": []
    }
  ]
}