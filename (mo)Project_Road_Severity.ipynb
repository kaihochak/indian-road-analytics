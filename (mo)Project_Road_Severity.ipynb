{
  "cells": [
    {
      "cell_type": "markdown",
      "metadata": {
        "id": "NsfRctMMZJEY"
      },
      "source": [
        "## Setup and Data Loading"
      ]
    },
    {
      "cell_type": "code",
      "execution_count": 1,
      "metadata": {
        "colab": {
          "base_uri": "https://localhost:8080/"
        },
        "id": "DwFR2prpWIxQ",
        "outputId": "494d67ee-27c4-42dd-c22f-a468f8d61cd0"
      },
      "outputs": [
        {
          "name": "stdout",
          "output_type": "stream",
          "text": [
            "Requirement already satisfied: pyspark in /usr/local/lib/python3.11/site-packages (3.5.0)\n",
            "Requirement already satisfied: py4j==0.10.9.7 in /usr/local/lib/python3.11/site-packages (from pyspark) (0.10.9.7)\n",
            "\n",
            "\u001b[1m[\u001b[0m\u001b[34;49mnotice\u001b[0m\u001b[1;39;49m]\u001b[0m\u001b[39;49m A new release of pip is available: \u001b[0m\u001b[31;49m23.2.1\u001b[0m\u001b[39;49m -> \u001b[0m\u001b[32;49m23.3.1\u001b[0m\n",
            "\u001b[1m[\u001b[0m\u001b[34;49mnotice\u001b[0m\u001b[1;39;49m]\u001b[0m\u001b[39;49m To update, run: \u001b[0m\u001b[32;49mpython3.11 -m pip install --upgrade pip\u001b[0m\n",
            "Note: you may need to restart the kernel to use updated packages.\n"
          ]
        }
      ],
      "source": [
        "pip install pyspark"
      ]
    },
    {
      "cell_type": "code",
      "execution_count": 33,
      "metadata": {
        "id": "qABsAR19WWU9"
      },
      "outputs": [],
      "source": [
        "from pyspark.sql import SparkSession"
      ]
    },
    {
      "cell_type": "code",
      "execution_count": 34,
      "metadata": {
        "id": "fewB75EvWpqW"
      },
      "outputs": [],
      "source": [
        "spark = SparkSession.builder.appName(\"objective_2\").getOrCreate()"
      ]
    },
    {
      "cell_type": "code",
      "execution_count": 35,
      "metadata": {
        "id": "w8ZLglaFWu6Q"
      },
      "outputs": [],
      "source": [
        "df = spark.read.csv(\"india_road_data.csv\", inferSchema=True, header=True)"
      ]
    },
    {
      "cell_type": "code",
      "execution_count": 36,
      "metadata": {
        "colab": {
          "base_uri": "https://localhost:8080/"
        },
        "id": "YjVNroYeWzzZ",
        "outputId": "10fa71e0-29ff-413f-ff86-0bfc053c0a23"
      },
      "outputs": [
        {
          "data": {
            "text/plain": [
              "['Time',\n",
              " 'Day_of_week',\n",
              " 'Age_band_of_driver',\n",
              " 'Sex_of_driver',\n",
              " 'Educational_level',\n",
              " 'Vehicle_driver_relation',\n",
              " 'Driving_experience',\n",
              " 'Type_of_vehicle',\n",
              " 'Owner_of_vehicle',\n",
              " 'Service_year_of_vehicle',\n",
              " 'Defect_of_vehicle',\n",
              " 'Area_accident_occured',\n",
              " 'Lanes_or_Medians',\n",
              " 'Road_allignment',\n",
              " 'Types_of_Junction',\n",
              " 'Road_surface_type',\n",
              " 'Road_surface_conditions',\n",
              " 'Light_conditions',\n",
              " 'Weather_conditions',\n",
              " 'Type_of_collision',\n",
              " 'Number_of_vehicles_involved',\n",
              " 'Number_of_casualties',\n",
              " 'Vehicle_movement',\n",
              " 'Casualty_class',\n",
              " 'Sex_of_casualty',\n",
              " 'Age_band_of_casualty',\n",
              " 'Casualty_severity',\n",
              " 'Work_of_casuality',\n",
              " 'Fitness_of_casuality',\n",
              " 'Pedestrian_movement',\n",
              " 'Cause_of_accident',\n",
              " 'Accident_severity']"
            ]
          },
          "execution_count": 36,
          "metadata": {},
          "output_type": "execute_result"
        }
      ],
      "source": [
        "df.columns"
      ]
    },
    {
      "cell_type": "markdown",
      "metadata": {
        "id": "_vXzepI7bEVe"
      },
      "source": [
        "## Choosing Columns\n",
        "\n",
        "- **Road_allignment**: Sharp curves, steep inclines, or poorly designed intersections can increase accident risks\n",
        "\n",
        "- **Road_surface_type**: Different surface types behave differently under various conditions and can affect vehicle control.\n",
        "\n",
        "- **Road_surface_conditions**:\n",
        "- **Weather_conditions**:\n",
        "- **Accident_severity**:\n",
        "- **Light Conditions**:\n",
        "- **Type of Collision**:\n",
        "- **Number of Vehicles Involved**:"
      ]
    },
    {
      "cell_type": "markdown",
      "metadata": {
        "id": "Z6cQQKURZHhl"
      },
      "source": []
    },
    {
      "cell_type": "code",
      "execution_count": 37,
      "metadata": {
        "colab": {
          "base_uri": "https://localhost:8080/"
        },
        "id": "02vo4Q-9jo5n",
        "outputId": "d22fd862-0548-4b02-cf84-d3d50bc09161"
      },
      "outputs": [
        {
          "name": "stdout",
          "output_type": "stream",
          "text": [
            "+-------+--------------------+-----------------+-----------------------+------------------+-----------------+--------------------+--------------------+---------------------------+\n",
            "|summary|     Road_allignment|Road_surface_type|Road_surface_conditions|Weather_conditions|Accident_severity|    Light_conditions|   Type_of_collision|Number_of_vehicles_involved|\n",
            "+-------+--------------------+-----------------+-----------------------+------------------+-----------------+--------------------+--------------------+---------------------------+\n",
            "|  count|               12174|            12144|                  12316|             12316|            12316|               12316|               12161|                      12316|\n",
            "|   mean|                NULL|             NULL|                   NULL|              NULL|             NULL|                NULL|                NULL|         2.0406787918155245|\n",
            "| stddev|                NULL|             NULL|                   NULL|              NULL|             NULL|                NULL|                NULL|         0.6887896452620729|\n",
            "|    min|         Escarpments|    Asphalt roads|                    Dry|            Cloudy|     Fatal injury|Darkness - lights...|Collision with an...|                          1|\n",
            "|    max|Tangent road with...|            Other|            Wet or damp|             Windy|    Slight Injury|            Daylight|          With Train|                          7|\n",
            "+-------+--------------------+-----------------+-----------------------+------------------+-----------------+--------------------+--------------------+---------------------------+\n",
            "\n",
            "+--------------------+-----------------+-----------------------+------------------+-----------------+--------------------+--------------------+---------------------------+\n",
            "|     Road_allignment|Road_surface_type|Road_surface_conditions|Weather_conditions|Accident_severity|    Light_conditions|   Type_of_collision|Number_of_vehicles_involved|\n",
            "+--------------------+-----------------+-----------------------+------------------+-----------------+--------------------+--------------------+---------------------------+\n",
            "|Tangent road with...|    Asphalt roads|                    Dry|            Normal|    Slight Injury|            Daylight|Collision with ro...|                          2|\n",
            "|Tangent road with...|    Asphalt roads|                    Dry|            Normal|    Slight Injury|            Daylight|Vehicle with vehi...|                          2|\n",
            "|                NULL|    Asphalt roads|                    Dry|            Normal|   Serious Injury|            Daylight|Collision with ro...|                          2|\n",
            "|Tangent road with...|      Earth roads|                    Dry|            Normal|    Slight Injury|Darkness - lights...|Vehicle with vehi...|                          2|\n",
            "|Tangent road with...|    Asphalt roads|                    Dry|            Normal|    Slight Injury|Darkness - lights...|Vehicle with vehi...|                          2|\n",
            "|                NULL|             NULL|                    Dry|            Normal|    Slight Injury|            Daylight|Vehicle with vehi...|                          1|\n",
            "|Tangent road with...|             NULL|                    Dry|            Normal|    Slight Injury|            Daylight|Vehicle with vehi...|                          1|\n",
            "|Tangent road with...|    Asphalt roads|                    Dry|            Normal|    Slight Injury|            Daylight|Vehicle with vehi...|                          2|\n",
            "|Tangent road with...|      Earth roads|                    Dry|            Normal|    Slight Injury|            Daylight|Collision with ro...|                          2|\n",
            "|Tangent road with...|    Asphalt roads|                    Dry|            Normal|   Serious Injury|            Daylight|Collision with ro...|                          2|\n",
            "|Tangent road with...|    Asphalt roads|                    Dry|            Normal|   Serious Injury|            Daylight|Collision with an...|                          2|\n",
            "|Tangent road with...|      Earth roads|                    Dry|            Normal|   Serious Injury|            Daylight|Collision with an...|                          2|\n",
            "|         Escarpments|    Asphalt roads|                    Dry|            Normal|    Slight Injury|            Daylight|Collision with an...|                          2|\n",
            "|Tangent road with...|    Asphalt roads|                    Dry|            Normal|    Slight Injury|            Daylight|Collision with an...|                          2|\n",
            "|         Escarpments|    Asphalt roads|                    Dry|            Normal|   Serious Injury|            Daylight|Collision with an...|                          2|\n",
            "|Tangent road with...|    Asphalt roads|            Wet or damp|           Raining|   Serious Injury|Darkness - lights...|Collision with an...|                          2|\n",
            "|Tangent road with...|    Asphalt roads|            Wet or damp|           Raining|    Slight Injury|Darkness - lights...|Collision with an...|                          2|\n",
            "|Tangent road with...|    Asphalt roads|            Wet or damp|           Raining|   Serious Injury|Darkness - lights...|Collision with an...|                          2|\n",
            "|Tangent road with...|    Asphalt roads|            Wet or damp|           Raining|    Slight Injury|Darkness - lights...|Collision with an...|                          2|\n",
            "|Tangent road with...|    Asphalt roads|                    Dry|            Normal|   Serious Injury|            Daylight|Collision with an...|                          2|\n",
            "+--------------------+-----------------+-----------------------+------------------+-----------------+--------------------+--------------------+---------------------------+\n",
            "only showing top 20 rows\n",
            "\n"
          ]
        }
      ],
      "source": [
        "selected_columns = [\"Road_allignment\", \"Road_surface_type\", \"Road_surface_conditions\", \"Weather_conditions\", \"Accident_severity\", \"Light_conditions\", \"Type_of_collision\", \"Number_of_vehicles_involved\"]\n",
        "df = df.select(selected_columns)\n",
        "df.describe().show()\n",
        "df.show()"
      ]
    },
    {
      "cell_type": "markdown",
      "metadata": {
        "id": "94bX3udjjonx"
      },
      "source": []
    },
    {
      "cell_type": "code",
      "execution_count": 38,
      "metadata": {
        "id": "TQBglFfRXElk"
      },
      "outputs": [],
      "source": [
        "df = df.na.drop() # drop the Nulls"
      ]
    },
    {
      "cell_type": "code",
      "execution_count": 39,
      "metadata": {
        "id": "6xAAxyOycTfT"
      },
      "outputs": [],
      "source": [
        "# remove the 'Others' & 'Unknowns'\n",
        "df = df.filter(df.Road_surface_type != \"Other\")\n",
        "df = df.filter((df.Weather_conditions != \"Other\") & (df.Weather_conditions != \"Unknown\"))\n",
        "df = df.filter(df.Type_of_collision != \"Other\")"
      ]
    },
    {
      "cell_type": "code",
      "execution_count": 40,
      "metadata": {
        "id": "WMDIfvPEjjZR"
      },
      "outputs": [],
      "source": [
        "from pyspark.sql.functions import expr\n",
        "from pyspark.sql.functions import when, col\n",
        "\n",
        "# Cleaning Accident_severity\n",
        "df = df.withColumn('Accident_severity', expr(\"REPLACE(Accident_severity, ' Injury', '')\"))\n",
        "\n",
        "# Cleaning Type_of_collision\n",
        "replacement_mapping = {\n",
        "    \"Collision with animals\": \"collision_with_animals\",\n",
        "    \"Collision with pedestrians\": \"collision_with_pedestrians\",\n",
        "    \"Collision with roadside objects\": \"collision_with_roadside_objects\",\n",
        "    \"Collision with roadside-parked vehicles\": \"collision_with_roadside_parked_vehicles\",\n",
        "    \"Fall from vehicles\": \"Fall_from_vehicles\",\n",
        "    \"Vehicle with vehicle collision\": \"vehicle_with_vehicle_collision\",\n",
        "    \"With Train\": \"collision_with_train\"\n",
        "}\n",
        "\n",
        "for original_value, new_value in replacement_mapping.items():\n",
        "    df = df.withColumn('Type_of_collision', when(df['Type_of_collision'] == original_value, new_value).otherwise(df['Type_of_collision']))\n",
        "\n",
        "# Cleaning Road_allignment\n",
        "replacement_mapping = {\n",
        "    \"Escarpments\": \"escarpments\",\n",
        "    \"Gentle horizontal curve\": \"gentle_horizontal_curve\",\n",
        "    \"Sharp reverse curve\": \"sharp_reverse_curve\",\n",
        "    \"Steep grade downward with mountainous terrain\": \"steep_grade_downward_with_mountainous_terrain\",\n",
        "    \"Steep grade upward with mountainous terrain\": \"steep_grade_upward_with_mountainous_terrain\",\n",
        "    \"Tangent road with flat terrain\": \"tangent_road_with_flat_terrain\",\n",
        "    \"Tangent road with mild grade and flat terrain\": \"tangent_road_with_mild_grade_and_flat_terrain\",\n",
        "    \"Tangent road with mountainous terrain\": \"tangent_road_with_mountainous_terrain\",\n",
        "    \"Tangent road with rolling terrain\": \"tangent_road_with_rolling_terrain\"\n",
        "}\n",
        "\n",
        "for original_value, new_value in replacement_mapping.items():\n",
        "    df = df.withColumn('Road_allignment', when(col('Road_allignment') == original_value, new_value).otherwise(col('Road_allignment')))\n",
        "\n",
        "# Cleaning Road_surface_type\n",
        "replacement_mapping = {\n",
        "    \"Asphalt roads\": \"asphalt_roads\",\n",
        "    \"Asphalt roads with some distress\": \"asphalt_roads_with_some_distress\",\n",
        "    \"Earth roads\": \"earth_roads\",\n",
        "    \"Gravel roads\": \"gravel_roads\"\n",
        "}\n",
        "\n",
        "for original_value, new_value in replacement_mapping.items():\n",
        "    df = df.withColumn('Road_surface_type', when(col('Road_surface_type') == original_value, new_value).otherwise(col('Road_surface_type')))\n",
        "\n",
        "# Cleaning Road_surface_conditions\n",
        "replacement_mapping = {\n",
        "    \"Flood over 3cm. deep\": \"flood_3cm_deep\",\n",
        "    \"Wet or damp\": \"wet\"\n",
        "}\n",
        "for original_value, new_value in replacement_mapping.items():\n",
        "    df = df.withColumn('Road_surface_conditions', when(col('Road_surface_conditions') == original_value, new_value).otherwise(col('Road_surface_conditions')))\n",
        "\n",
        "\n",
        "# Cleaning Light_conditions\n",
        "replacement_mapping = {\n",
        "    \"Darkness - lights lit\": \"darkness_lights_on\",\n",
        "    \"Darkness - lights unlit\": \"darkness_lights_off\",\n",
        "    \"Darkness - no lighting\": \"darkness_no_lighting\",\n",
        "    \"Daylight\": \"daylight\"\n",
        "}\n",
        "\n",
        "for original_value, new_value in replacement_mapping.items():\n",
        "    df = df.withColumn('Light_conditions', when(col('Light_conditions') == original_value, new_value).otherwise(col('Light_conditions')))\n",
        "\n",
        "\n"
      ]
    },
    {
      "cell_type": "code",
      "execution_count": 41,
      "metadata": {
        "colab": {
          "base_uri": "https://localhost:8080/"
        },
        "id": "ecgGb170kFYr",
        "outputId": "f184301b-f4a0-46e1-8900-523fb605cd21"
      },
      "outputs": [
        {
          "name": "stdout",
          "output_type": "stream",
          "text": [
            "root\n",
            " |-- Road_allignment: string (nullable = true)\n",
            " |-- Road_surface_type: string (nullable = true)\n",
            " |-- Road_surface_conditions: string (nullable = true)\n",
            " |-- Weather_conditions: string (nullable = true)\n",
            " |-- Accident_severity: string (nullable = true)\n",
            " |-- Light_conditions: string (nullable = true)\n",
            " |-- Type_of_collision: string (nullable = true)\n",
            " |-- Number_of_vehicles_involved: integer (nullable = true)\n",
            "\n",
            "+--------------------+-----------------+-----------------------+------------------+-----------------+------------------+--------------------+---------------------------+\n",
            "|     Road_allignment|Road_surface_type|Road_surface_conditions|Weather_conditions|Accident_severity|  Light_conditions|   Type_of_collision|Number_of_vehicles_involved|\n",
            "+--------------------+-----------------+-----------------------+------------------+-----------------+------------------+--------------------+---------------------------+\n",
            "|tangent_road_with...|    asphalt_roads|                    Dry|            Normal|           Slight|          daylight|collision_with_ro...|                          2|\n",
            "|tangent_road_with...|    asphalt_roads|                    Dry|            Normal|           Slight|          daylight|vehicle_with_vehi...|                          2|\n",
            "|tangent_road_with...|      earth_roads|                    Dry|            Normal|           Slight|darkness_lights_on|vehicle_with_vehi...|                          2|\n",
            "|tangent_road_with...|    asphalt_roads|                    Dry|            Normal|           Slight|darkness_lights_on|vehicle_with_vehi...|                          2|\n",
            "|tangent_road_with...|    asphalt_roads|                    Dry|            Normal|           Slight|          daylight|vehicle_with_vehi...|                          2|\n",
            "|tangent_road_with...|      earth_roads|                    Dry|            Normal|           Slight|          daylight|collision_with_ro...|                          2|\n",
            "|tangent_road_with...|    asphalt_roads|                    Dry|            Normal|          Serious|          daylight|collision_with_ro...|                          2|\n",
            "|tangent_road_with...|    asphalt_roads|                    Dry|            Normal|          Serious|          daylight|collision_with_an...|                          2|\n",
            "|tangent_road_with...|      earth_roads|                    Dry|            Normal|          Serious|          daylight|collision_with_an...|                          2|\n",
            "|         escarpments|    asphalt_roads|                    Dry|            Normal|           Slight|          daylight|collision_with_an...|                          2|\n",
            "|tangent_road_with...|    asphalt_roads|                    Dry|            Normal|           Slight|          daylight|collision_with_an...|                          2|\n",
            "|         escarpments|    asphalt_roads|                    Dry|            Normal|          Serious|          daylight|collision_with_an...|                          2|\n",
            "|tangent_road_with...|    asphalt_roads|                    wet|           Raining|          Serious|darkness_lights_on|collision_with_an...|                          2|\n",
            "|tangent_road_with...|    asphalt_roads|                    wet|           Raining|           Slight|darkness_lights_on|collision_with_an...|                          2|\n",
            "|tangent_road_with...|    asphalt_roads|                    wet|           Raining|          Serious|darkness_lights_on|collision_with_an...|                          2|\n",
            "|tangent_road_with...|    asphalt_roads|                    wet|           Raining|           Slight|darkness_lights_on|collision_with_an...|                          2|\n",
            "|tangent_road_with...|    asphalt_roads|                    Dry|            Normal|          Serious|          daylight|collision_with_an...|                          2|\n",
            "|tangent_road_with...|    asphalt_roads|                    Dry|            Normal|           Slight|          daylight|collision_with_an...|                          2|\n",
            "|tangent_road_with...|    asphalt_roads|                    Dry|            Normal|          Serious|          daylight|collision_with_an...|                          1|\n",
            "|tangent_road_with...|    asphalt_roads|                    Dry|            Normal|          Serious|          daylight|            Rollover|                          2|\n",
            "+--------------------+-----------------+-----------------------+------------------+-----------------+------------------+--------------------+---------------------------+\n",
            "only showing top 20 rows\n",
            "\n"
          ]
        }
      ],
      "source": [
        "df.printSchema()\n",
        "df.show()"
      ]
    },
    {
      "cell_type": "markdown",
      "metadata": {
        "id": "5rjCqc5mgpJq"
      },
      "source": [
        "### Converting strings into numerical format (using StringIndexer and OneHotEncoder)."
      ]
    },
    {
      "cell_type": "code",
      "execution_count": 2,
      "metadata": {
        "id": "DzIDEDEDeIA4"
      },
      "outputs": [
        {
          "ename": "NameError",
          "evalue": "name 'selected_columns' is not defined",
          "output_type": "error",
          "traceback": [
            "\u001b[0;31m---------------------------------------------------------------------------\u001b[0m",
            "\u001b[0;31mNameError\u001b[0m                                 Traceback (most recent call last)",
            "\u001b[1;32m/Users/kai/Desktop/study/2023_fall/seng550/project/indian-road-analytics/Project_Road_Severity.ipynb Cell 16\u001b[0m line \u001b[0;36m5\n\u001b[1;32m      <a href='vscode-notebook-cell:/Users/kai/Desktop/study/2023_fall/seng550/project/indian-road-analytics/Project_Road_Severity.ipynb#X21sZmlsZQ%3D%3D?line=0'>1</a>\u001b[0m \u001b[39mfrom\u001b[39;00m \u001b[39mpyspark\u001b[39;00m\u001b[39m.\u001b[39;00m\u001b[39mml\u001b[39;00m\u001b[39m.\u001b[39;00m\u001b[39mfeature\u001b[39;00m \u001b[39mimport\u001b[39;00m StringIndexer, OneHotEncoder, VectorAssembler\n\u001b[1;32m      <a href='vscode-notebook-cell:/Users/kai/Desktop/study/2023_fall/seng550/project/indian-road-analytics/Project_Road_Severity.ipynb#X21sZmlsZQ%3D%3D?line=2'>3</a>\u001b[0m \u001b[39m# Indexing all categorical columns\u001b[39;00m\n\u001b[1;32m      <a href='vscode-notebook-cell:/Users/kai/Desktop/study/2023_fall/seng550/project/indian-road-analytics/Project_Road_Severity.ipynb#X21sZmlsZQ%3D%3D?line=3'>4</a>\u001b[0m \u001b[39m# indexers = [StringIndexer(inputCol=column, outputCol=column+\"_index\").fit(df) for column in selected_columns[:-1]] # Exclude last column 'an interger'\u001b[39;00m\n\u001b[0;32m----> <a href='vscode-notebook-cell:/Users/kai/Desktop/study/2023_fall/seng550/project/indian-road-analytics/Project_Road_Severity.ipynb#X21sZmlsZQ%3D%3D?line=4'>5</a>\u001b[0m selected_columns_filtered \u001b[39m=\u001b[39m [column \u001b[39mfor\u001b[39;00m column \u001b[39min\u001b[39;00m selected_columns]\n\u001b[1;32m      <a href='vscode-notebook-cell:/Users/kai/Desktop/study/2023_fall/seng550/project/indian-road-analytics/Project_Road_Severity.ipynb#X21sZmlsZQ%3D%3D?line=5'>6</a>\u001b[0m indexers \u001b[39m=\u001b[39m [StringIndexer(inputCol\u001b[39m=\u001b[39mcolumn, outputCol\u001b[39m=\u001b[39mcolumn\u001b[39m+\u001b[39m\u001b[39m\"\u001b[39m\u001b[39m_index\u001b[39m\u001b[39m\"\u001b[39m)\u001b[39m.\u001b[39mfit(df) \u001b[39mfor\u001b[39;00m column \u001b[39min\u001b[39;00m selected_columns_filtered]\n\u001b[1;32m     <a href='vscode-notebook-cell:/Users/kai/Desktop/study/2023_fall/seng550/project/indian-road-analytics/Project_Road_Severity.ipynb#X21sZmlsZQ%3D%3D?line=10'>11</a>\u001b[0m \u001b[39m# Indexing the label column (the depandant variable \"target\")\u001b[39;00m\n",
            "\u001b[0;31mNameError\u001b[0m: name 'selected_columns' is not defined"
          ]
        }
      ],
      "source": [
        "from pyspark.ml.feature import StringIndexer, OneHotEncoder, VectorAssembler\n",
        "\n",
        "# Indexing all categorical columns\n",
        "# indexers = [StringIndexer(inputCol=column, outputCol=column+\"_index\").fit(df) for column in selected_columns[:-1]] # Exclude last column 'an interger'\n",
        "selected_columns_filtered = [column for column in selected_columns]\n",
        "indexers = [StringIndexer(inputCol=column, outputCol=column+\"_index\").fit(df) for column in selected_columns_filtered]\n",
        "\n",
        "\n",
        "\n",
        "\n",
        "# Indexing the label column (the depandant variable \"target\")\n",
        "labelIndexer = StringIndexer(inputCol='Accident_severity', outputCol='label').fit(df)\n",
        "\n",
        "# Encoding indexed columns\n",
        "encoders = [OneHotEncoder(inputCol=indexer.getOutputCol(), outputCol=indexer.getOutputCol()+\"_vec\") for indexer in indexers]\n",
        "\n",
        "# Assembling vector\n",
        "assemblerInputs = [encoder.getOutputCol() for encoder in encoders]\n",
        "assembler = VectorAssembler(inputCols=assemblerInputs, outputCol=\"features\")\n",
        "\n",
        "# Pipeline\n",
        "from pyspark.ml import Pipeline\n",
        "pipeline = Pipeline(stages=indexers + encoders + [assembler, labelIndexer])\n",
        "pipelineModel = pipeline.fit(df)\n",
        "df_transformed = pipelineModel.transform(df)\n",
        "\n"
      ]
    },
    {
      "cell_type": "markdown",
      "metadata": {
        "id": "aCcIIOUNtFhU"
      },
      "source": [
        "### Split data into training and testing sets\n",
        "**Seed**: to ensure that whenever you run your code, I get the same training and testing dataset. Without a fixed seed, each run could lead to different training and testing sets."
      ]
    },
    {
      "cell_type": "code",
      "execution_count": 43,
      "metadata": {
        "id": "6mS4zdlms-Fo"
      },
      "outputs": [],
      "source": [
        "train, test = df_transformed.randomSplit([0.7, 0.3])\n",
        "#seed=123"
      ]
    },
    {
      "cell_type": "markdown",
      "metadata": {
        "id": "N-QHCR3NufLu"
      },
      "source": [
        "### Model Selection and Training\n",
        "\n",
        "##### **LogisticRegression**"
      ]
    },
    {
      "cell_type": "code",
      "execution_count": 44,
      "metadata": {
        "colab": {
          "base_uri": "https://localhost:8080/"
        },
        "id": "3UohgsBtvQiz",
        "outputId": "edd039e7-efbc-4543-8453-26e2b5479df8"
      },
      "outputs": [
        {
          "name": "stdout",
          "output_type": "stream",
          "text": [
            "root\n",
            " |-- Road_allignment: string (nullable = true)\n",
            " |-- Road_surface_type: string (nullable = true)\n",
            " |-- Road_surface_conditions: string (nullable = true)\n",
            " |-- Weather_conditions: string (nullable = true)\n",
            " |-- Accident_severity: string (nullable = true)\n",
            " |-- Light_conditions: string (nullable = true)\n",
            " |-- Type_of_collision: string (nullable = true)\n",
            " |-- Number_of_vehicles_involved: integer (nullable = true)\n",
            "\n"
          ]
        }
      ],
      "source": [
        "df.printSchema()"
      ]
    },
    {
      "cell_type": "code",
      "execution_count": 45,
      "metadata": {
        "id": "UT5AJ8PGue9V"
      },
      "outputs": [],
      "source": [
        "from pyspark.ml.classification import LogisticRegression\n",
        "\n",
        "lr = LogisticRegression(featuresCol='features', labelCol='label')\n",
        "\n",
        "lrModel = lr.fit(train)"
      ]
    },
    {
      "cell_type": "markdown",
      "metadata": {
        "id": "RVaVO4C91IPK"
      },
      "source": [
        "### *Model Evaluation in Classification*\n",
        "\n",
        "- **Accuracy**: The proportion of total correct predictions out of all predictions made.\n",
        "\n",
        "- **Precision**: The proportion of true positive predictions out of all positive predictions made.\n",
        "\n",
        "- **Recall**: The proportion of true positive predictions out of all actual positives.\n",
        "\n",
        "- **F1 Score**: The harmonic mean of precision and recall, providing a balance between the two in cases where they may diverge.\n",
        "\n",
        "- **Area** Under ROC Curve (AUC-ROC): A performance measurement for classification problems at various threshold settings. ROC is a probability curve and AUC represents the degree or measure of separability."
      ]
    },
    {
      "cell_type": "code",
      "execution_count": 46,
      "metadata": {
        "colab": {
          "base_uri": "https://localhost:8080/"
        },
        "id": "ymf6tDx4y9s-",
        "outputId": "3458c413-1bb3-45b7-ed14-bd8cf2855951"
      },
      "outputs": [
        {
          "name": "stdout",
          "output_type": "stream",
          "text": [
            "Accuracy = 1\n",
            "Precision = 1\n",
            "Recall = 1\n",
            "F1 Score = 1\n"
          ]
        }
      ],
      "source": [
        "from pyspark.ml.evaluation import MulticlassClassificationEvaluator, BinaryClassificationEvaluator\n",
        "\n",
        "# Predict on the test set\n",
        "predictions = lrModel.transform(test)\n",
        "\n",
        "# Evaluate the model for accuracy\n",
        "accuracy_evaluator = MulticlassClassificationEvaluator(labelCol=\"label\", predictionCol=\"prediction\", metricName=\"accuracy\")\n",
        "accuracy = accuracy_evaluator.evaluate(predictions)\n",
        "print(\"Accuracy = %g\" % accuracy)\n",
        "\n",
        "# Evaluate the model for precision\n",
        "precision_evaluator = MulticlassClassificationEvaluator(labelCol=\"label\", predictionCol=\"prediction\", metricName=\"weightedPrecision\")\n",
        "precision = precision_evaluator.evaluate(predictions)\n",
        "print(\"Precision = %g\" % precision)\n",
        "\n",
        "# Evaluate the model for recall\n",
        "recall_evaluator = MulticlassClassificationEvaluator(labelCol=\"label\", predictionCol=\"prediction\", metricName=\"weightedRecall\")\n",
        "recall = recall_evaluator.evaluate(predictions)\n",
        "print(\"Recall = %g\" % recall)\n",
        "\n",
        "# Evaluate the model for F1 score\n",
        "f1_evaluator = MulticlassClassificationEvaluator(labelCol=\"label\", predictionCol=\"prediction\", metricName=\"f1\")\n",
        "f1 = f1_evaluator.evaluate(predictions)\n",
        "print(\"F1 Score = %g\" % f1)\n"
      ]
    },
    {
      "cell_type": "markdown",
      "metadata": {
        "id": "exKPJO8G40gG"
      },
      "source": [
        "## Parameter Tuning and Cross-Validation"
      ]
    },
    {
      "cell_type": "code",
      "execution_count": 47,
      "metadata": {
        "colab": {
          "base_uri": "https://localhost:8080/"
        },
        "id": "WvDGOaRj22Aa",
        "outputId": "e4de721a-8f50-4e81-fdb4-cb4b34189190"
      },
      "outputs": [
        {
          "name": "stdout",
          "output_type": "stream",
          "text": [
            "Best Model's Accuracy: 0.9997034400948992\n",
            "Best Model's Precision: 0.9997035448123798\n",
            "Best Model's Recall: 0.9997034400948992\n",
            "Best Model's F1 Score: 0.9997019685015938\n"
          ]
        }
      ],
      "source": [
        "from pyspark.ml.tuning import CrossValidator, ParamGridBuilder\n",
        "\n",
        "# Expanded parameter grid\n",
        "paramGrid = (ParamGridBuilder()\n",
        "             .addGrid(lr.regParam, [0.1, 0.01, 0.001])\n",
        "             .addGrid(lr.maxIter, [10, 20, 30])\n",
        "             .addGrid(lr.elasticNetParam, [0.0, 0.5, 1.0])\n",
        "             .build())\n",
        "\n",
        "# Choose the evaluator based on your primary metric or create a composite score\n",
        "evaluator = MulticlassClassificationEvaluator(labelCol=\"label\", predictionCol=\"prediction\", metricName=\"f1\")  # example using F1\n",
        "\n",
        "crossval = CrossValidator(estimator=lr,\n",
        "                          estimatorParamMaps=paramGrid,\n",
        "                          evaluator=evaluator,\n",
        "                          numFolds=5)\n",
        "\n",
        "# Run cross-validation, and choose the best set of parameters.\n",
        "cvModel = crossval.fit(train)\n",
        "bestModel = cvModel.bestModel\n",
        "\n",
        "# Evaluate the best model\n",
        "bestPredictions = bestModel.transform(test)\n",
        "bestAccuracy = accuracy_evaluator.evaluate(bestPredictions)\n",
        "bestPrecision = precision_evaluator.evaluate(bestPredictions)\n",
        "bestRecall = recall_evaluator.evaluate(bestPredictions)\n",
        "bestF1 = f1_evaluator.evaluate(bestPredictions)\n",
        "\n",
        "print(f\"Best Model's Accuracy: {bestAccuracy}\")\n",
        "print(f\"Best Model's Precision: {bestPrecision}\")\n",
        "print(f\"Best Model's Recall: {bestRecall}\")\n",
        "print(f\"Best Model's F1 Score: {bestF1}\")\n"
      ]
    },
    {
      "cell_type": "markdown",
      "metadata": {
        "id": "LU7ifdM8_ZbA"
      },
      "source": [
        "# Visuals"
      ]
    },
    {
      "cell_type": "code",
      "execution_count": 48,
      "metadata": {
        "colab": {
          "base_uri": "https://localhost:8080/",
          "height": 695
        },
        "id": "K-cIWsMk_alq",
        "outputId": "d5bf651f-2b31-4fa9-f2f5-11480b7669c5"
      },
      "outputs": [
        {
          "data": {
            "image/png": "[encoded data removed]",
            "text/plain": [
              "<Figure size 1000x800 with 2 Axes>"
            ]
          },
          "metadata": {},
          "output_type": "display_data"
        }
      ],
      "source": [
        "import matplotlib.pyplot as plt\n",
        "import seaborn as sns\n",
        "from pyspark.mllib.evaluation import MulticlassMetrics\n",
        "\n",
        "# Convert prediction DataFrame to RDD\n",
        "predictionAndLabels = predictions.select(\"prediction\", \"label\").rdd.map(lambda x: (x[0], float(x[1])))\n",
        "\n",
        "# Instantiate metrics object\n",
        "metrics = MulticlassMetrics(predictionAndLabels)\n",
        "\n",
        "# Confusion Matrix\n",
        "confusion_matrix = metrics.confusionMatrix().toArray()\n",
        "\n",
        "# Plotting using seaborn\n",
        "plt.figure(figsize=(10, 8))\n",
        "sns.heatmap(confusion_matrix, annot=True, fmt=\"g\", cmap=\"Blues\")\n",
        "plt.xlabel('Predicted Labels')\n",
        "plt.ylabel('True Labels')\n",
        "plt.show()\n"
      ]
    },
    {
      "cell_type": "markdown",
      "metadata": {
        "id": "R77svqueRwRZ"
      },
      "source": [
        "# Random Forest"
      ]
    },
    {
      "cell_type": "code",
      "execution_count": 49,
      "metadata": {
        "id": "BmR3T-RUrvd-"
      },
      "outputs": [],
      "source": [
        "from pyspark.ml.classification import RandomForestClassifier\n",
        "from pyspark.ml.tuning import CrossValidator, ParamGridBuilder\n",
        "from pyspark.ml.evaluation import MulticlassClassificationEvaluator\n",
        "import matplotlib.pyplot as plt\n",
        "import seaborn as sns\n"
      ]
    },
    {
      "cell_type": "code",
      "execution_count": 50,
      "metadata": {
        "id": "vm-9WKLaRygr"
      },
      "outputs": [],
      "source": [
        "# Random Forest Model\n",
        "rf = RandomForestClassifier(featuresCol='features', labelCol='label')\n",
        "\n",
        "# Parameter Grid for Tuning\n",
        "paramGrid = (ParamGridBuilder()\n",
        "             .addGrid(rf.numTrees, [10, 20, 50])\n",
        "             .addGrid(rf.maxDepth, [5, 10, 15])\n",
        "             .addGrid(rf.maxBins, [32, 64, 128])\n",
        "             .build())\n",
        "\n",
        "# Cross Validator\n",
        "crossval_rf = CrossValidator(estimator=rf,\n",
        "                             estimatorParamMaps=paramGrid,\n",
        "                             evaluator=MulticlassClassificationEvaluator(),\n",
        "                             numFolds=5)\n"
      ]
    },
    {
      "cell_type": "code",
      "execution_count": 51,
      "metadata": {
        "id": "lqkRCXsXUh9h"
      },
      "outputs": [],
      "source": [
        "\n",
        "# Train model using CrossValidator\n",
        "cvModel_rf = crossval_rf.fit(train)\n",
        "\n"
      ]
    },
    {
      "cell_type": "code",
      "execution_count": 52,
      "metadata": {
        "colab": {
          "base_uri": "https://localhost:8080/"
        },
        "id": "ALmLDWIbVd9a",
        "outputId": "285376e4-6544-4a25-e071-311eac0a49ca"
      },
      "outputs": [
        {
          "name": "stdout",
          "output_type": "stream",
          "text": [
            "Random Forest Model - Accuracy: 1.0\n",
            "Random Forest Model - Precision: 1.0\n",
            "Random Forest Model - Recall: 1.0\n",
            "Random Forest Model - F1 Score: 1.0\n"
          ]
        }
      ],
      "source": [
        "# Best Model\n",
        "bestModel_rf = cvModel_rf.bestModel\n",
        "\n",
        "# Make predictions\n",
        "predictions_rf = bestModel_rf.transform(test)\n",
        "\n",
        "# Evaluate the model\n",
        "evaluator = MulticlassClassificationEvaluator(labelCol=\"label\", predictionCol=\"prediction\")\n",
        "accuracy_rf = evaluator.evaluate(predictions_rf, {evaluator.metricName: \"accuracy\"})\n",
        "precision_rf = evaluator.evaluate(predictions_rf, {evaluator.metricName: \"weightedPrecision\"})\n",
        "recall_rf = evaluator.evaluate(predictions_rf, {evaluator.metricName: \"weightedRecall\"})\n",
        "f1_rf = evaluator.evaluate(predictions_rf, {evaluator.metricName: \"f1\"})\n",
        "\n",
        "print(f\"Random Forest Model - Accuracy: {accuracy_rf}\")\n",
        "print(f\"Random Forest Model - Precision: {precision_rf}\")\n",
        "print(f\"Random Forest Model - Recall: {recall_rf}\")\n",
        "print(f\"Random Forest Model - F1 Score: {f1_rf}\")"
      ]
    },
    {
      "cell_type": "code",
      "execution_count": 53,
      "metadata": {
        "colab": {
          "base_uri": "https://localhost:8080/",
          "height": 1000
        },
        "id": "hdFPm2ueXrPZ",
        "outputId": "4f4b122d-60e1-4371-b465-3b7892f2ab88"
      },
      "outputs": [
        {
          "data": {
            "image/png": "[encoded data removed]",
            "text/plain": [
              "<Figure size 1200x600 with 1 Axes>"
            ]
          },
          "metadata": {},
          "output_type": "display_data"
        },
        {
          "data": {
            "image/png": "[encoded data removed]",
            "text/plain": [
              "<Figure size 1000x800 with 2 Axes>"
            ]
          },
          "metadata": {},
          "output_type": "display_data"
        }
      ],
      "source": [
        "# Feature Importance\n",
        "feature_importance = bestModel_rf.featureImportances.toArray()\n",
        "plt.figure(figsize=(12, 6))\n",
        "plt.bar(range(len(feature_importance)), feature_importance)\n",
        "plt.xlabel('Features')\n",
        "plt.ylabel('Importance')\n",
        "plt.title('Feature Importance for Random Forest Model')\n",
        "plt.show()\n",
        "\n",
        "# Confusion Matrix\n",
        "from pyspark.mllib.evaluation import MulticlassMetrics\n",
        "\n",
        "# Convert to RDD\n",
        "predictionsAndLabels_rf = predictions_rf.select(\"prediction\", \"label\").rdd.map(lambda x: (x[0], float(x[1])))\n",
        "\n",
        "# Instantiate metrics object\n",
        "metrics_rf = MulticlassMetrics(predictionsAndLabels_rf)\n",
        "\n",
        "# Confusion Matrix\n",
        "confusion_matrix_rf = metrics_rf.confusionMatrix().toArray()\n",
        "\n",
        "# Plotting\n",
        "plt.figure(figsize=(10, 8))\n",
        "sns.heatmap(confusion_matrix_rf, annot=True, fmt='g', cmap='Blues')\n",
        "plt.xlabel('Predicted Labels')\n",
        "plt.ylabel('True Labels')\n",
        "plt.title('Confusion Matrix - Random Forest Model')\n",
        "plt.show()\n"
      ]
    },
    {
      "cell_type": "code",
      "execution_count": 53,
      "metadata": {
        "id": "jhxzbzj0Xrht"
      },
      "outputs": [],
      "source": []
    }
  ],
  "metadata": {
    "colab": {
      "provenance": []
    },
    "kernelspec": {
      "display_name": "Python 3",
      "name": "python3"
    },
    "language_info": {
      "codemirror_mode": {
        "name": "ipython",
        "version": 3
      },
      "file_extension": ".py",
      "mimetype": "text/x-python",
      "name": "python",
      "nbconvert_exporter": "python",
      "pygments_lexer": "ipython3",
      "version": "3.11.4"
    }
  },
  "nbformat": 4,
  "nbformat_minor": 0
}
