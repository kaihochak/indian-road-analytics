{
  "cells": [
    {
      "cell_type": "markdown",
      "metadata": {
        "id": "NsfRctMMZJEY"
      },
      "source": [
        "## Setup and Data Loading"
      ]
    },
    {
      "cell_type": "code",
      "execution_count": 1,
      "metadata": {
        "colab": {
          "base_uri": "https://localhost:8080/"
        },
        "id": "DwFR2prpWIxQ",
        "outputId": "75e81d8c-44c7-4139-aaa4-3ead4857c3d0"
      },
      "outputs": [
        {
          "name": "stdout",
          "output_type": "stream",
          "text": [
            "Defaulting to user installation because normal site-packages is not writeable\n",
            "Collecting pyspark\n",
            "  Downloading pyspark-3.5.0.tar.gz (316.9 MB)\n",
            "\u001b[K     |████████████████████████████████| 316.9 MB 3.2 MB/s eta 0:00:011\n",
            "\u001b[?25hCollecting py4j==0.10.9.7\n",
            "  Downloading py4j-0.10.9.7-py2.py3-none-any.whl (200 kB)\n",
            "\u001b[K     |████████████████████████████████| 200 kB 8.6 MB/s eta 0:00:01\n",
            "\u001b[?25hBuilding wheels for collected packages: pyspark\n",
            "  Building wheel for pyspark (setup.py) ... \u001b[?25ldone\n",
            "\u001b[?25h  Created wheel for pyspark: filename=pyspark-3.5.0-py2.py3-none-any.whl size=317425366 sha256=d6d7db064276c3a387c7350069b88395e278ecaa103fe687038fa75709897bec\n",
            "  Stored in directory: /Users/ray/Library/Caches/pip/wheels/57/bd/14/ce9e21f2649298678d011fb8f71ed38ee70b42b94fef0be142\n",
            "Successfully built pyspark\n",
            "Installing collected packages: py4j, pyspark\n",
            "Successfully installed py4j-0.10.9.7 pyspark-3.5.0\n",
            "\u001b[33mWARNING: You are using pip version 21.2.4; however, version 23.3.2 is available.\n",
            "You should consider upgrading via the '/Library/Developer/CommandLineTools/usr/bin/python3 -m pip install --upgrade pip' command.\u001b[0m\n",
            "Note: you may need to restart the kernel to use updated packages.\n"
          ]
        }
      ],
      "source": [
        "pip install pyspark\n",
        "\n"
      ]
    },
    {
      "cell_type": "code",
      "execution_count": 49,
      "metadata": {},
      "outputs": [
        {
          "name": "stdout",
          "output_type": "stream",
          "text": [
            "Defaulting to user installation because normal site-packages is not writeable\n",
            "Collecting seaborn\n",
            "  Downloading seaborn-0.13.0-py3-none-any.whl (294 kB)\n",
            "\u001b[K     |████████████████████████████████| 294 kB 1.8 MB/s eta 0:00:01\n",
            "\u001b[?25hRequirement already satisfied: numpy!=1.24.0,>=1.20 in /Users/ray/Library/Python/3.9/lib/python/site-packages (from seaborn) (1.26.2)\n",
            "Collecting pandas>=1.2\n",
            "  Downloading pandas-2.1.4-cp39-cp39-macosx_11_0_arm64.whl (11.0 MB)\n",
            "\u001b[K     |████████████████████████████████| 11.0 MB 345 kB/s eta 0:00:01\n",
            "\u001b[?25hCollecting matplotlib!=3.6.1,>=3.3\n",
            "  Downloading matplotlib-3.8.2-cp39-cp39-macosx_11_0_arm64.whl (7.5 MB)\n",
            "\u001b[K     |████████████████████████████████| 7.5 MB 11.7 MB/s eta 0:00:01\n",
            "\u001b[?25hCollecting pillow>=8\n",
            "  Downloading Pillow-10.1.0-cp39-cp39-macosx_11_0_arm64.whl (3.3 MB)\n",
            "\u001b[K     |████████████████████████████████| 3.3 MB 8.6 MB/s eta 0:00:01\n",
            "\u001b[?25hRequirement already satisfied: packaging>=20.0 in /Users/ray/Library/Python/3.9/lib/python/site-packages (from matplotlib!=3.6.1,>=3.3->seaborn) (23.2)\n",
            "Collecting contourpy>=1.0.1\n",
            "  Downloading contourpy-1.2.0-cp39-cp39-macosx_11_0_arm64.whl (242 kB)\n",
            "\u001b[K     |████████████████████████████████| 242 kB 5.8 MB/s eta 0:00:01\n",
            "\u001b[?25hCollecting cycler>=0.10\n",
            "  Downloading cycler-0.12.1-py3-none-any.whl (8.3 kB)\n",
            "Collecting pyparsing>=2.3.1\n",
            "  Downloading pyparsing-3.1.1-py3-none-any.whl (103 kB)\n",
            "\u001b[K     |████████████████████████████████| 103 kB 12.8 MB/s eta 0:00:01\n",
            "\u001b[?25hCollecting importlib-resources>=3.2.0\n",
            "  Downloading importlib_resources-6.1.1-py3-none-any.whl (33 kB)\n",
            "Requirement already satisfied: python-dateutil>=2.7 in /Users/ray/Library/Python/3.9/lib/python/site-packages (from matplotlib!=3.6.1,>=3.3->seaborn) (2.8.2)\n",
            "Collecting fonttools>=4.22.0\n",
            "  Downloading fonttools-4.47.0-cp39-cp39-macosx_10_9_universal2.whl (2.8 MB)\n",
            "\u001b[K     |████████████████████████████████| 2.8 MB 5.3 MB/s eta 0:00:01\n",
            "\u001b[?25hCollecting kiwisolver>=1.3.1\n",
            "  Downloading kiwisolver-1.4.5-cp39-cp39-macosx_11_0_arm64.whl (66 kB)\n",
            "\u001b[K     |████████████████████████████████| 66 kB 8.8 MB/s eta 0:00:011\n",
            "\u001b[?25hRequirement already satisfied: zipp>=3.1.0 in /Users/ray/Library/Python/3.9/lib/python/site-packages (from importlib-resources>=3.2.0->matplotlib!=3.6.1,>=3.3->seaborn) (3.17.0)\n",
            "Collecting tzdata>=2022.1\n",
            "  Downloading tzdata-2023.3-py2.py3-none-any.whl (341 kB)\n",
            "\u001b[K     |████████████████████████████████| 341 kB 11.1 MB/s eta 0:00:01\n",
            "\u001b[?25hCollecting pytz>=2020.1\n",
            "  Downloading pytz-2023.3.post1-py2.py3-none-any.whl (502 kB)\n",
            "\u001b[K     |████████████████████████████████| 502 kB 5.2 MB/s eta 0:00:01\n",
            "\u001b[?25hRequirement already satisfied: six>=1.5 in /Users/ray/Library/Python/3.9/lib/python/site-packages (from python-dateutil>=2.7->matplotlib!=3.6.1,>=3.3->seaborn) (1.16.0)\n",
            "Installing collected packages: tzdata, pytz, pyparsing, pillow, kiwisolver, importlib-resources, fonttools, cycler, contourpy, pandas, matplotlib, seaborn\n",
            "Successfully installed contourpy-1.2.0 cycler-0.12.1 fonttools-4.47.0 importlib-resources-6.1.1 kiwisolver-1.4.5 matplotlib-3.8.2 pandas-2.1.4 pillow-10.1.0 pyparsing-3.1.1 pytz-2023.3.post1 seaborn-0.13.0 tzdata-2023.3\n",
            "\u001b[33mWARNING: You are using pip version 21.2.4; however, version 23.3.2 is available.\n",
            "You should consider upgrading via the '/Library/Developer/CommandLineTools/usr/bin/python3 -m pip install --upgrade pip' command.\u001b[0m\n",
            "Note: you may need to restart the kernel to use updated packages.\n"
          ]
        }
      ],
      "source": [
        "pip install seaborn"
      ]
    },
    {
      "cell_type": "code",
      "execution_count": 50,
      "metadata": {},
      "outputs": [
        {
          "name": "stdout",
          "output_type": "stream",
          "text": [
            "Defaulting to user installation because normal site-packages is not writeable\n",
            "Requirement already satisfied: matplotlib in /Users/ray/Library/Python/3.9/lib/python/site-packages (3.8.2)\n",
            "Requirement already satisfied: importlib-resources>=3.2.0 in /Users/ray/Library/Python/3.9/lib/python/site-packages (from matplotlib) (6.1.1)\n",
            "Requirement already satisfied: packaging>=20.0 in /Users/ray/Library/Python/3.9/lib/python/site-packages (from matplotlib) (23.2)\n",
            "Requirement already satisfied: kiwisolver>=1.3.1 in /Users/ray/Library/Python/3.9/lib/python/site-packages (from matplotlib) (1.4.5)\n",
            "Requirement already satisfied: cycler>=0.10 in /Users/ray/Library/Python/3.9/lib/python/site-packages (from matplotlib) (0.12.1)\n",
            "Requirement already satisfied: fonttools>=4.22.0 in /Users/ray/Library/Python/3.9/lib/python/site-packages (from matplotlib) (4.47.0)\n",
            "Requirement already satisfied: python-dateutil>=2.7 in /Users/ray/Library/Python/3.9/lib/python/site-packages (from matplotlib) (2.8.2)\n",
            "Requirement already satisfied: contourpy>=1.0.1 in /Users/ray/Library/Python/3.9/lib/python/site-packages (from matplotlib) (1.2.0)\n",
            "Requirement already satisfied: numpy<2,>=1.21 in /Users/ray/Library/Python/3.9/lib/python/site-packages (from matplotlib) (1.26.2)\n",
            "Requirement already satisfied: pyparsing>=2.3.1 in /Users/ray/Library/Python/3.9/lib/python/site-packages (from matplotlib) (3.1.1)\n",
            "Requirement already satisfied: pillow>=8 in /Users/ray/Library/Python/3.9/lib/python/site-packages (from matplotlib) (10.1.0)\n",
            "Requirement already satisfied: zipp>=3.1.0 in /Users/ray/Library/Python/3.9/lib/python/site-packages (from importlib-resources>=3.2.0->matplotlib) (3.17.0)\n",
            "Requirement already satisfied: six>=1.5 in /Users/ray/Library/Python/3.9/lib/python/site-packages (from python-dateutil>=2.7->matplotlib) (1.16.0)\n",
            "\u001b[33mWARNING: You are using pip version 21.2.4; however, version 23.3.2 is available.\n",
            "You should consider upgrading via the '/Library/Developer/CommandLineTools/usr/bin/python3 -m pip install --upgrade pip' command.\u001b[0m\n",
            "Note: you may need to restart the kernel to use updated packages.\n"
          ]
        }
      ],
      "source": [
        "pip install matplotlib"
      ]
    },
    {
      "cell_type": "code",
      "execution_count": 20,
      "metadata": {},
      "outputs": [
        {
          "name": "stdout",
          "output_type": "stream",
          "text": [
            "Defaulting to user installation because normal site-packages is not writeable\n",
            "Collecting numpy\n",
            "  Downloading numpy-1.26.2-cp39-cp39-macosx_11_0_arm64.whl (14.0 MB)\n",
            "\u001b[K     |████████████████████████████████| 14.0 MB 328 kB/s eta 0:00:01\n",
            "\u001b[?25hInstalling collected packages: numpy\n",
            "Successfully installed numpy-1.26.2\n",
            "\u001b[33mWARNING: You are using pip version 21.2.4; however, version 23.3.2 is available.\n",
            "You should consider upgrading via the '/Library/Developer/CommandLineTools/usr/bin/python3 -m pip install --upgrade pip' command.\u001b[0m\n",
            "Note: you may need to restart the kernel to use updated packages.\n"
          ]
        }
      ],
      "source": [
        "pip install numpy"
      ]
    },
    {
      "cell_type": "markdown",
      "metadata": {},
      "source": [
        "Start with PySpark"
      ]
    },
    {
      "cell_type": "code",
      "execution_count": 304,
      "metadata": {
        "id": "qABsAR19WWU9"
      },
      "outputs": [],
      "source": [
        "from pyspark.sql import SparkSession"
      ]
    },
    {
      "cell_type": "code",
      "execution_count": 305,
      "metadata": {
        "id": "fewB75EvWpqW"
      },
      "outputs": [],
      "source": [
        "spark = SparkSession.builder.appName(\"objective_3\").getOrCreate()"
      ]
    },
    {
      "cell_type": "markdown",
      "metadata": {},
      "source": [
        "Read our accident data csv file"
      ]
    },
    {
      "cell_type": "code",
      "execution_count": 306,
      "metadata": {
        "id": "w8ZLglaFWu6Q"
      },
      "outputs": [],
      "source": [
        "df = spark.read.csv(\"Road.csv\", inferSchema=True, header=True)"
      ]
    },
    {
      "cell_type": "code",
      "execution_count": 307,
      "metadata": {
        "colab": {
          "base_uri": "https://localhost:8080/"
        },
        "id": "uIfU6vHXlheA",
        "outputId": "1f952284-11b5-491e-a741-96c27e20ae8c"
      },
      "outputs": [
        {
          "name": "stdout",
          "output_type": "stream",
          "text": [
            "Rows:  12316\n",
            "Columns:  32\n"
          ]
        }
      ],
      "source": [
        "print(\"Rows: \", df.count())\n",
        "print(\"Columns: \", len(df.columns))"
      ]
    },
    {
      "cell_type": "markdown",
      "metadata": {},
      "source": [
        "See schema of data"
      ]
    },
    {
      "cell_type": "code",
      "execution_count": 308,
      "metadata": {
        "colab": {
          "base_uri": "https://localhost:8080/"
        },
        "id": "l9MCz6mrmZUk",
        "outputId": "e1f85b46-032a-46f8-e16d-9f6eefb52936"
      },
      "outputs": [
        {
          "name": "stdout",
          "output_type": "stream",
          "text": [
            "root\n",
            " |-- Time: timestamp (nullable = true)\n",
            " |-- Day_of_week: string (nullable = true)\n",
            " |-- Age_band_of_driver: string (nullable = true)\n",
            " |-- Sex_of_driver: string (nullable = true)\n",
            " |-- Educational_level: string (nullable = true)\n",
            " |-- Vehicle_driver_relation: string (nullable = true)\n",
            " |-- Driving_experience: string (nullable = true)\n",
            " |-- Type_of_vehicle: string (nullable = true)\n",
            " |-- Owner_of_vehicle: string (nullable = true)\n",
            " |-- Service_year_of_vehicle: string (nullable = true)\n",
            " |-- Defect_of_vehicle: string (nullable = true)\n",
            " |-- Area_accident_occured: string (nullable = true)\n",
            " |-- Lanes_or_Medians: string (nullable = true)\n",
            " |-- Road_allignment: string (nullable = true)\n",
            " |-- Types_of_Junction: string (nullable = true)\n",
            " |-- Road_surface_type: string (nullable = true)\n",
            " |-- Road_surface_conditions: string (nullable = true)\n",
            " |-- Light_conditions: string (nullable = true)\n",
            " |-- Weather_conditions: string (nullable = true)\n",
            " |-- Type_of_collision: string (nullable = true)\n",
            " |-- Number_of_vehicles_involved: integer (nullable = true)\n",
            " |-- Number_of_casualties: integer (nullable = true)\n",
            " |-- Vehicle_movement: string (nullable = true)\n",
            " |-- Casualty_class: string (nullable = true)\n",
            " |-- Sex_of_casualty: string (nullable = true)\n",
            " |-- Age_band_of_casualty: string (nullable = true)\n",
            " |-- Casualty_severity: string (nullable = true)\n",
            " |-- Work_of_casuality: string (nullable = true)\n",
            " |-- Fitness_of_casuality: string (nullable = true)\n",
            " |-- Pedestrian_movement: string (nullable = true)\n",
            " |-- Cause_of_accident: string (nullable = true)\n",
            " |-- Accident_severity: string (nullable = true)\n",
            "\n"
          ]
        }
      ],
      "source": [
        "df.printSchema()"
      ]
    },
    {
      "cell_type": "code",
      "execution_count": 309,
      "metadata": {
        "colab": {
          "base_uri": "https://localhost:8080/"
        },
        "id": "wYlIuN59mQLa",
        "outputId": "a0852615-1612-43d7-8436-e401ada546e9"
      },
      "outputs": [
        {
          "name": "stdout",
          "output_type": "stream",
          "text": [
            "+-----------------+-----+\n",
            "|Accident_severity|count|\n",
            "+-----------------+-----+\n",
            "|   Serious Injury| 1743|\n",
            "|    Slight Injury|10415|\n",
            "|     Fatal injury|  158|\n",
            "+-----------------+-----+\n",
            "\n"
          ]
        }
      ],
      "source": [
        "df.groupBy(\"Accident_severity\").count().show()"
      ]
    },
    {
      "cell_type": "code",
      "execution_count": 208,
      "metadata": {
        "colab": {
          "base_uri": "https://localhost:8080/"
        },
        "id": "w5LFYsiunCko",
        "outputId": "6d334867-a21f-4d8f-d904-3a0727035d8e"
      },
      "outputs": [
        {
          "name": "stdout",
          "output_type": "stream",
          "text": [
            "+------------------+-----+\n",
            "|Educational_level |count|\n",
            "+------------------+-----+\n",
            "|Elementary school |2163 |\n",
            "|Writing & reading |176  |\n",
            "|Illiterate        |45   |\n",
            "|NULL              |741  |\n",
            "|Unknown           |100  |\n",
            "|High school       |1110 |\n",
            "|Above high school |362  |\n",
            "|Junior high school|7619 |\n",
            "+------------------+-----+\n",
            "\n"
          ]
        }
      ],
      "source": [
        "df.groupBy(\"Educational_level\").count().show(truncate=False)"
      ]
    },
    {
      "cell_type": "code",
      "execution_count": 209,
      "metadata": {
        "colab": {
          "base_uri": "https://localhost:8080/"
        },
        "id": "agRkLx7qnaMj",
        "outputId": "c30e62ee-db61-4e70-8ba5-2695378ff3e1"
      },
      "outputs": [
        {
          "name": "stdout",
          "output_type": "stream",
          "text": [
            "+------------------+-----+\n",
            "|Age_band_of_driver|count|\n",
            "+------------------+-----+\n",
            "|Over 51           |1585 |\n",
            "|Unknown           |1548 |\n",
            "|Under 18          |825  |\n",
            "|31-50             |4087 |\n",
            "|18-30             |4271 |\n",
            "+------------------+-----+\n",
            "\n"
          ]
        }
      ],
      "source": [
        "df.groupBy(\"Age_band_of_driver\").count().show(truncate=False)"
      ]
    },
    {
      "cell_type": "code",
      "execution_count": 210,
      "metadata": {},
      "outputs": [
        {
          "name": "stdout",
          "output_type": "stream",
          "text": [
            "+-------------------------------+-----+\n",
            "|Area_accident_occured          |count|\n",
            "+-------------------------------+-----+\n",
            "| Hospital areas                |121  |\n",
            "|NULL                           |239  |\n",
            "|Unknown                        |22   |\n",
            "|Recreational areas             |1    |\n",
            "|Other                          |3819 |\n",
            "|Rural village areas            |44   |\n",
            "|Office areas                   |3451 |\n",
            "|School areas                   |415  |\n",
            "|Rural village areasOffice areas|20   |\n",
            "|  Recreational areas           |327  |\n",
            "|  Market areas                 |63   |\n",
            "|Residential areas              |2060 |\n",
            "| Church areas                  |1060 |\n",
            "| Outside rural areas           |218  |\n",
            "| Industrial areas              |456  |\n",
            "+-------------------------------+-----+\n",
            "\n"
          ]
        }
      ],
      "source": [
        "df.groupBy(\"Area_accident_occured\").count().show(truncate=False)"
      ]
    },
    {
      "cell_type": "code",
      "execution_count": 211,
      "metadata": {},
      "outputs": [
        {
          "name": "stdout",
          "output_type": "stream",
          "text": [
            "+------------------------------------+-----+\n",
            "|Cause_of_accident                   |count|\n",
            "+------------------------------------+-----+\n",
            "|No distancing                       |2263 |\n",
            "|Getting off the vehicle improperly  |197  |\n",
            "|Overloading                         |59   |\n",
            "|Improper parking                    |25   |\n",
            "|Changing lane to the right          |1808 |\n",
            "|Driving to the left                 |284  |\n",
            "|Turnover                            |78   |\n",
            "|Unknown                             |25   |\n",
            "|Other                               |456  |\n",
            "|Overspeed                           |61   |\n",
            "|Overturning                         |149  |\n",
            "|Driving at high speed               |174  |\n",
            "|No priority to vehicle              |1207 |\n",
            "|Driving under the influence of drugs|340  |\n",
            "|Changing lane to the left           |1473 |\n",
            "|Drunk driving                       |27   |\n",
            "|Moving Backward                     |1137 |\n",
            "|Driving carelessly                  |1402 |\n",
            "|No priority to pedestrian           |721  |\n",
            "|Overtaking                          |430  |\n",
            "+------------------------------------+-----+\n",
            "\n"
          ]
        }
      ],
      "source": [
        "df.groupBy(\"Cause_of_accident\").count().show(truncate=False)"
      ]
    },
    {
      "cell_type": "markdown",
      "metadata": {
        "id": "_vXzepI7bEVe"
      },
      "source": [
        "## Choosing Columns\n",
        "\n",
        "- **Educational_level**: Educational level of driver.\n",
        "- **Age_band_of_driver**: Age band of driver.\n",
        "- **Driving_experience**: Driver's experience.\n",
        "- **Accident_severity**: Severity of accident.\n",
        "- **Cause_of_accident**: Cause of accident\n",
        "- **Area_accident_occured**: Area where accident happened."
      ]
    },
    {
      "cell_type": "markdown",
      "metadata": {
        "id": "Z6cQQKURZHhl"
      },
      "source": []
    },
    {
      "cell_type": "code",
      "execution_count": 310,
      "metadata": {
        "id": "02vo4Q-9jo5n"
      },
      "outputs": [],
      "source": [
        "selected_columns = ['Area_accident_occured','Educational_level', 'Age_band_of_driver','Driving_experience','Accident_severity',\"Cause_of_accident\"]\n",
        "df = df.select(selected_columns)\n"
      ]
    },
    {
      "cell_type": "markdown",
      "metadata": {
        "id": "94bX3udjjonx"
      },
      "source": []
    },
    {
      "cell_type": "code",
      "execution_count": 311,
      "metadata": {
        "id": "TQBglFfRXElk"
      },
      "outputs": [],
      "source": [
        "df = df.na.drop() # drop the Nulls"
      ]
    },
    {
      "cell_type": "code",
      "execution_count": 312,
      "metadata": {
        "colab": {
          "base_uri": "https://localhost:8080/"
        },
        "id": "_cpbS-ozpbnQ",
        "outputId": "322d715d-be04-4ebe-8b14-08f8d1ee81c3"
      },
      "outputs": [
        {
          "name": "stdout",
          "output_type": "stream",
          "text": [
            "+-------+---------------------+-----------------+------------------+------------------+-----------------+--------------------+\n",
            "|summary|Area_accident_occured|Educational_level|Age_band_of_driver|Driving_experience|Accident_severity|   Cause_of_accident|\n",
            "+-------+---------------------+-----------------+------------------+------------------+-----------------+--------------------+\n",
            "|  count|                11095|            11095|             11095|             11095|            11095|               11095|\n",
            "|   mean|                 NULL|             NULL|              NULL|              NULL|             NULL|                NULL|\n",
            "| stddev|                 NULL|             NULL|              NULL|              NULL|             NULL|                NULL|\n",
            "|    min|         Market areas|Above high school|             18-30|             1-2yr|     Fatal injury|Changing lane to ...|\n",
            "|    max|              Unknown|Writing & reading|           Unknown|           unknown|    Slight Injury|             Unknown|\n",
            "+-------+---------------------+-----------------+------------------+------------------+-----------------+--------------------+\n",
            "\n"
          ]
        }
      ],
      "source": [
        "df.describe().show()"
      ]
    },
    {
      "cell_type": "code",
      "execution_count": 272,
      "metadata": {
        "id": "ag49tILX6lOJ"
      },
      "outputs": [],
      "source": [
        "from pyspark.sql.functions import when"
      ]
    },
    {
      "cell_type": "markdown",
      "metadata": {},
      "source": [
        "Encode accident severity as an integer"
      ]
    },
    {
      "cell_type": "code",
      "execution_count": 313,
      "metadata": {
        "id": "tzd9M6Lb6XaD"
      },
      "outputs": [],
      "source": [
        "df_severity_as_integer = df.withColumn(\n",
        "    'accident_severity_integer',\n",
        "    when(df['Accident_severity'] == 'Slight Injury', 1.0)\n",
        "    .when(df['Accident_severity'] == 'Serious Injury', 2.0)\n",
        "    .when(df['Accident_severity'] == 'Fatal injury', 3.0)\n",
        ")"
      ]
    },
    {
      "cell_type": "code",
      "execution_count": 314,
      "metadata": {
        "colab": {
          "base_uri": "https://localhost:8080/"
        },
        "id": "eZyKBa6y6nl4",
        "outputId": "d3bc00db-4924-4aa9-aea0-1868741d179d"
      },
      "outputs": [
        {
          "name": "stdout",
          "output_type": "stream",
          "text": [
            "+-------+-------------------------+\n",
            "|summary|accident_severity_integer|\n",
            "+-------+-------------------------+\n",
            "|  count|                    11095|\n",
            "|   mean|       1.1659305993690852|\n",
            "| stddev|       0.4043126275417968|\n",
            "|    min|                      1.0|\n",
            "|    max|                      3.0|\n",
            "+-------+-------------------------+\n",
            "\n"
          ]
        }
      ],
      "source": [
        "df_severity_as_integer.select(\"accident_severity_integer\").describe().show()"
      ]
    },
    {
      "cell_type": "markdown",
      "metadata": {
        "id": "5rjCqc5mgpJq"
      },
      "source": [
        "### Converting strings into numerical format (using StringIndexer and OneHotEncoder)."
      ]
    },
    {
      "cell_type": "code",
      "execution_count": 315,
      "metadata": {
        "colab": {
          "base_uri": "https://localhost:8080/"
        },
        "id": "uhNvGWcjp99-",
        "outputId": "1b64e5d2-65f8-45b3-9729-0b2ab8f603bb"
      },
      "outputs": [
        {
          "name": "stdout",
          "output_type": "stream",
          "text": [
            "root\n",
            " |-- Area_accident_occured: string (nullable = true)\n",
            " |-- Educational_level: string (nullable = true)\n",
            " |-- Age_band_of_driver: string (nullable = true)\n",
            " |-- Driving_experience: string (nullable = true)\n",
            " |-- Accident_severity: string (nullable = true)\n",
            " |-- Cause_of_accident: string (nullable = true)\n",
            "\n"
          ]
        }
      ],
      "source": [
        "df.printSchema()"
      ]
    },
    {
      "cell_type": "markdown",
      "metadata": {},
      "source": [
        "Convert all of our feature columns into integers"
      ]
    },
    {
      "cell_type": "code",
      "execution_count": 316,
      "metadata": {
        "id": "KdJdN-sCqDjP"
      },
      "outputs": [],
      "source": [
        "from pyspark.ml.feature import StringIndexer, OneHotEncoder, VectorAssembler\n",
        "\n",
        "indexer = StringIndexer(inputCol=\"Educational_level\", outputCol=\"Educational_level\"+\"_index\")\n",
        "indexed = indexer.fit(df_severity_as_integer).transform(df_severity_as_integer)\n",
        "\n",
        "indexer = StringIndexer(inputCol=\"Age_band_of_driver\", outputCol=\"Age_band_of_driver\"+\"_index\")\n",
        "indexed = indexer.fit(indexed).transform(indexed)\n",
        "\n",
        "indexer = StringIndexer(inputCol=\"Driving_experience\", outputCol=\"Driving_experience\"+\"_index\")\n",
        "indexed = indexer.fit(indexed).transform(indexed)\n",
        "\n",
        "indexer = StringIndexer(inputCol=\"Cause_of_accident\", outputCol=\"Cause_of_accident\"+\"_index\")\n",
        "indexed = indexer.fit(indexed).transform(indexed)\n",
        "\n",
        "indexer = StringIndexer(inputCol=\"Area_accident_occured\", outputCol=\"Area_accident_occured\"+\"_index\")\n",
        "indexed = indexer.fit(indexed).transform(indexed)\n",
        "\n",
        "\n",
        "\n",
        "#'Educational_level', 'Age_band_of_driver','Driving_experience','Accident_severity', 'Cause_of_accident'\n"
      ]
    },
    {
      "cell_type": "code",
      "execution_count": 317,
      "metadata": {
        "colab": {
          "base_uri": "https://localhost:8080/"
        },
        "id": "0fGqH818rOa1",
        "outputId": "22f0c59c-ae14-48fe-865e-eac3cf4e93e5"
      },
      "outputs": [
        {
          "name": "stdout",
          "output_type": "stream",
          "text": [
            "+---------------------+------------------+------------------+------------------+-----------------+--------------------+-------------------------+-----------------------+------------------------+------------------------+-----------------------+---------------------------+\n",
            "|Area_accident_occured| Educational_level|Age_band_of_driver|Driving_experience|Accident_severity|   Cause_of_accident|accident_severity_integer|Educational_level_index|Age_band_of_driver_index|Driving_experience_index|Cause_of_accident_index|Area_accident_occured_index|\n",
            "+---------------------+------------------+------------------+------------------+-----------------+--------------------+-------------------------+-----------------------+------------------------+------------------------+-----------------------+---------------------------+\n",
            "|    Residential areas| Above high school|             18-30|             1-2yr|    Slight Injury|     Moving Backward|                      1.0|                    3.0|                     0.0|                     3.0|                    5.0|                        2.0|\n",
            "|         Office areas|Junior high school|             31-50|        Above 10yr|    Slight Injury|          Overtaking|                      1.0|                    0.0|                     1.0|                     2.0|                    8.0|                        1.0|\n",
            "|   Recreational areas|Junior high school|             18-30|             1-2yr|   Serious Injury|Changing lane to ...|                      2.0|                    0.0|                     0.0|                     3.0|                    2.0|                        6.0|\n",
            "|         Office areas|Junior high school|             18-30|            5-10yr|    Slight Injury|Changing lane to ...|                      1.0|                    0.0|                     0.0|                     0.0|                    1.0|                        1.0|\n",
            "|     Industrial areas|Junior high school|             18-30|             2-5yr|    Slight Injury|          Overtaking|                      1.0|                    0.0|                     0.0|                     1.0|                    8.0|                        4.0|\n",
            "|    Residential areas|Junior high school|             18-30|             2-5yr|    Slight Injury|               Other|                      1.0|                    0.0|                     0.0|                     1.0|                    7.0|                        2.0|\n",
            "|    Residential areas|Junior high school|             18-30|             2-5yr|    Slight Injury|No priority to ve...|                      1.0|                    0.0|                     0.0|                     1.0|                    4.0|                        2.0|\n",
            "|     Industrial areas|Junior high school|             18-30|        Above 10yr|    Slight Injury|Changing lane to ...|                      1.0|                    0.0|                     0.0|                     2.0|                    1.0|                        4.0|\n",
            "|    Residential areas|Junior high school|             18-30|             1-2yr|   Serious Injury|     Moving Backward|                      2.0|                    0.0|                     0.0|                     3.0|                    5.0|                        2.0|\n",
            "|    Residential areas| Above high school|             18-30|             1-2yr|   Serious Injury|Changing lane to ...|                      2.0|                    3.0|                     0.0|                     3.0|                    2.0|                        2.0|\n",
            "|         Office areas| Above high school|             31-50|        No Licence|   Serious Injury|No priority to pe...|                      2.0|                    3.0|                     1.0|                     5.0|                    6.0|                        1.0|\n",
            "|         Office areas|Junior high school|             18-30|             1-2yr|    Slight Injury|       No distancing|                      1.0|                    0.0|                     0.0|                     3.0|                    0.0|                        1.0|\n",
            "|         Office areas|Junior high school|             31-50|            5-10yr|    Slight Injury|No priority to ve...|                      1.0|                    0.0|                     1.0|                     0.0|                    4.0|                        1.0|\n",
            "|         Office areas|Junior high school|             31-50|        Above 10yr|   Serious Injury|       No distancing|                      2.0|                    0.0|                     1.0|                     2.0|                    0.0|                        1.0|\n",
            "|         Office areas|Junior high school|             18-30|        Above 10yr|   Serious Injury|       No distancing|                      2.0|                    0.0|                     0.0|                     2.0|                    0.0|                        1.0|\n",
            "|         Office areas|Junior high school|             18-30|            5-10yr|    Slight Injury|     Moving Backward|                      1.0|                    0.0|                     0.0|                     0.0|                    5.0|                        1.0|\n",
            "|         Office areas| Elementary school|             18-30|             2-5yr|   Serious Injury|Changing lane to ...|                      2.0|                    1.0|                     0.0|                     1.0|                    1.0|                        1.0|\n",
            "|    Residential areas|Junior high school|             18-30|             2-5yr|    Slight Injury|No priority to pe...|                      1.0|                    0.0|                     0.0|                     1.0|                    6.0|                        2.0|\n",
            "|    Residential areas|Junior high school|             18-30|         Below 1yr|   Serious Injury|     Moving Backward|                      2.0|                    0.0|                     0.0|                     4.0|                    5.0|                        2.0|\n",
            "|                Other|Junior high school|          Under 18|             2-5yr|    Slight Injury|Getting off the v...|                      1.0|                    0.0|                     4.0|                     1.0|                   11.0|                        0.0|\n",
            "+---------------------+------------------+------------------+------------------+-----------------+--------------------+-------------------------+-----------------------+------------------------+------------------------+-----------------------+---------------------------+\n",
            "only showing top 20 rows\n",
            "\n"
          ]
        }
      ],
      "source": [
        "indexed.show()"
      ]
    },
    {
      "cell_type": "code",
      "execution_count": 318,
      "metadata": {
        "colab": {
          "base_uri": "https://localhost:8080/"
        },
        "id": "Zxi45UmjsRsx",
        "outputId": "84b3f96e-9534-4f4d-acd8-2377f96b55e4"
      },
      "outputs": [
        {
          "name": "stdout",
          "output_type": "stream",
          "text": [
            "root\n",
            " |-- Area_accident_occured: string (nullable = true)\n",
            " |-- Educational_level: string (nullable = true)\n",
            " |-- Age_band_of_driver: string (nullable = true)\n",
            " |-- Driving_experience: string (nullable = true)\n",
            " |-- Accident_severity: string (nullable = true)\n",
            " |-- Cause_of_accident: string (nullable = true)\n",
            " |-- accident_severity_integer: double (nullable = true)\n",
            " |-- Educational_level_index: double (nullable = false)\n",
            " |-- Age_band_of_driver_index: double (nullable = false)\n",
            " |-- Driving_experience_index: double (nullable = false)\n",
            " |-- Cause_of_accident_index: double (nullable = false)\n",
            " |-- Area_accident_occured_index: double (nullable = false)\n",
            "\n"
          ]
        }
      ],
      "source": [
        "indexed.printSchema()"
      ]
    },
    {
      "cell_type": "markdown",
      "metadata": {},
      "source": [
        "Assemble features"
      ]
    },
    {
      "cell_type": "code",
      "execution_count": 320,
      "metadata": {
        "id": "9xSB45Qbr9I6"
      },
      "outputs": [],
      "source": [
        "assembler = VectorAssembler(inputCols=[\"Area_accident_occured_index\",\"Educational_level_index\", \"Age_band_of_driver_index\",\n",
        "                                       \"Driving_experience_index\", \"Cause_of_accident_index\"\n",
        "                                       ], outputCol=\"features\")"
      ]
    },
    {
      "cell_type": "code",
      "execution_count": 321,
      "metadata": {
        "colab": {
          "base_uri": "https://localhost:8080/"
        },
        "id": "3xKm4g2wsx4L",
        "outputId": "54d58c10-41fc-401f-84ac-735b247b0a8b"
      },
      "outputs": [
        {
          "data": {
            "text/plain": [
              "VectorAssembler_8bc55c780679"
            ]
          },
          "execution_count": 321,
          "metadata": {},
          "output_type": "execute_result"
        }
      ],
      "source": [
        "assembler"
      ]
    },
    {
      "cell_type": "code",
      "execution_count": 322,
      "metadata": {
        "colab": {
          "base_uri": "https://localhost:8080/"
        },
        "id": "XoCehV8ks0KB",
        "outputId": "00839d55-822f-4cf2-d35c-1d643bf010ca"
      },
      "outputs": [
        {
          "name": "stdout",
          "output_type": "stream",
          "text": [
            "+---------------------+------------------+------------------+------------------+-----------------+--------------------+-------------------------+-----------------------+------------------------+------------------------+-----------------------+---------------------------+--------------------+\n",
            "|Area_accident_occured| Educational_level|Age_band_of_driver|Driving_experience|Accident_severity|   Cause_of_accident|accident_severity_integer|Educational_level_index|Age_band_of_driver_index|Driving_experience_index|Cause_of_accident_index|Area_accident_occured_index|            features|\n",
            "+---------------------+------------------+------------------+------------------+-----------------+--------------------+-------------------------+-----------------------+------------------------+------------------------+-----------------------+---------------------------+--------------------+\n",
            "|    Residential areas| Above high school|             18-30|             1-2yr|    Slight Injury|     Moving Backward|                      1.0|                    3.0|                     0.0|                     3.0|                    5.0|                        2.0|[2.0,3.0,0.0,3.0,...|\n",
            "|         Office areas|Junior high school|             31-50|        Above 10yr|    Slight Injury|          Overtaking|                      1.0|                    0.0|                     1.0|                     2.0|                    8.0|                        1.0|[1.0,0.0,1.0,2.0,...|\n",
            "|   Recreational areas|Junior high school|             18-30|             1-2yr|   Serious Injury|Changing lane to ...|                      2.0|                    0.0|                     0.0|                     3.0|                    2.0|                        6.0|[6.0,0.0,0.0,3.0,...|\n",
            "|         Office areas|Junior high school|             18-30|            5-10yr|    Slight Injury|Changing lane to ...|                      1.0|                    0.0|                     0.0|                     0.0|                    1.0|                        1.0| (5,[0,4],[1.0,1.0])|\n",
            "|     Industrial areas|Junior high school|             18-30|             2-5yr|    Slight Injury|          Overtaking|                      1.0|                    0.0|                     0.0|                     1.0|                    8.0|                        4.0|[4.0,0.0,0.0,1.0,...|\n",
            "|    Residential areas|Junior high school|             18-30|             2-5yr|    Slight Injury|               Other|                      1.0|                    0.0|                     0.0|                     1.0|                    7.0|                        2.0|[2.0,0.0,0.0,1.0,...|\n",
            "|    Residential areas|Junior high school|             18-30|             2-5yr|    Slight Injury|No priority to ve...|                      1.0|                    0.0|                     0.0|                     1.0|                    4.0|                        2.0|[2.0,0.0,0.0,1.0,...|\n",
            "|     Industrial areas|Junior high school|             18-30|        Above 10yr|    Slight Injury|Changing lane to ...|                      1.0|                    0.0|                     0.0|                     2.0|                    1.0|                        4.0|[4.0,0.0,0.0,2.0,...|\n",
            "|    Residential areas|Junior high school|             18-30|             1-2yr|   Serious Injury|     Moving Backward|                      2.0|                    0.0|                     0.0|                     3.0|                    5.0|                        2.0|[2.0,0.0,0.0,3.0,...|\n",
            "|    Residential areas| Above high school|             18-30|             1-2yr|   Serious Injury|Changing lane to ...|                      2.0|                    3.0|                     0.0|                     3.0|                    2.0|                        2.0|[2.0,3.0,0.0,3.0,...|\n",
            "|         Office areas| Above high school|             31-50|        No Licence|   Serious Injury|No priority to pe...|                      2.0|                    3.0|                     1.0|                     5.0|                    6.0|                        1.0|[1.0,3.0,1.0,5.0,...|\n",
            "|         Office areas|Junior high school|             18-30|             1-2yr|    Slight Injury|       No distancing|                      1.0|                    0.0|                     0.0|                     3.0|                    0.0|                        1.0| (5,[0,3],[1.0,3.0])|\n",
            "|         Office areas|Junior high school|             31-50|            5-10yr|    Slight Injury|No priority to ve...|                      1.0|                    0.0|                     1.0|                     0.0|                    4.0|                        1.0|[1.0,0.0,1.0,0.0,...|\n",
            "|         Office areas|Junior high school|             31-50|        Above 10yr|   Serious Injury|       No distancing|                      2.0|                    0.0|                     1.0|                     2.0|                    0.0|                        1.0|[1.0,0.0,1.0,2.0,...|\n",
            "|         Office areas|Junior high school|             18-30|        Above 10yr|   Serious Injury|       No distancing|                      2.0|                    0.0|                     0.0|                     2.0|                    0.0|                        1.0| (5,[0,3],[1.0,2.0])|\n",
            "|         Office areas|Junior high school|             18-30|            5-10yr|    Slight Injury|     Moving Backward|                      1.0|                    0.0|                     0.0|                     0.0|                    5.0|                        1.0| (5,[0,4],[1.0,5.0])|\n",
            "|         Office areas| Elementary school|             18-30|             2-5yr|   Serious Injury|Changing lane to ...|                      2.0|                    1.0|                     0.0|                     1.0|                    1.0|                        1.0|[1.0,1.0,0.0,1.0,...|\n",
            "|    Residential areas|Junior high school|             18-30|             2-5yr|    Slight Injury|No priority to pe...|                      1.0|                    0.0|                     0.0|                     1.0|                    6.0|                        2.0|[2.0,0.0,0.0,1.0,...|\n",
            "|    Residential areas|Junior high school|             18-30|         Below 1yr|   Serious Injury|     Moving Backward|                      2.0|                    0.0|                     0.0|                     4.0|                    5.0|                        2.0|[2.0,0.0,0.0,4.0,...|\n",
            "|                Other|Junior high school|          Under 18|             2-5yr|    Slight Injury|Getting off the v...|                      1.0|                    0.0|                     4.0|                     1.0|                   11.0|                        0.0|[0.0,0.0,4.0,1.0,...|\n",
            "+---------------------+------------------+------------------+------------------+-----------------+--------------------+-------------------------+-----------------------+------------------------+------------------------+-----------------------+---------------------------+--------------------+\n",
            "only showing top 20 rows\n",
            "\n"
          ]
        }
      ],
      "source": [
        "output = assembler.transform(indexed)\n",
        "output.show()"
      ]
    },
    {
      "cell_type": "markdown",
      "metadata": {},
      "source": [
        "See set of features, and corresponding accident severity"
      ]
    },
    {
      "cell_type": "code",
      "execution_count": 323,
      "metadata": {
        "colab": {
          "base_uri": "https://localhost:8080/"
        },
        "id": "_jAG5mAVtYg9",
        "outputId": "d69d98c7-4758-4925-fe5d-057639cda425"
      },
      "outputs": [
        {
          "name": "stdout",
          "output_type": "stream",
          "text": [
            "+----------------------+-----------------+\n",
            "|features              |Accident_severity|\n",
            "+----------------------+-----------------+\n",
            "|[2.0,3.0,0.0,3.0,5.0] |Slight Injury    |\n",
            "|[1.0,0.0,1.0,2.0,8.0] |Slight Injury    |\n",
            "|[6.0,0.0,0.0,3.0,2.0] |Serious Injury   |\n",
            "|(5,[0,4],[1.0,1.0])   |Slight Injury    |\n",
            "|[4.0,0.0,0.0,1.0,8.0] |Slight Injury    |\n",
            "|[2.0,0.0,0.0,1.0,7.0] |Slight Injury    |\n",
            "|[2.0,0.0,0.0,1.0,4.0] |Slight Injury    |\n",
            "|[4.0,0.0,0.0,2.0,1.0] |Slight Injury    |\n",
            "|[2.0,0.0,0.0,3.0,5.0] |Serious Injury   |\n",
            "|[2.0,3.0,0.0,3.0,2.0] |Serious Injury   |\n",
            "|[1.0,3.0,1.0,5.0,6.0] |Serious Injury   |\n",
            "|(5,[0,3],[1.0,3.0])   |Slight Injury    |\n",
            "|[1.0,0.0,1.0,0.0,4.0] |Slight Injury    |\n",
            "|[1.0,0.0,1.0,2.0,0.0] |Serious Injury   |\n",
            "|(5,[0,3],[1.0,2.0])   |Serious Injury   |\n",
            "|(5,[0,4],[1.0,5.0])   |Slight Injury    |\n",
            "|[1.0,1.0,0.0,1.0,1.0] |Serious Injury   |\n",
            "|[2.0,0.0,0.0,1.0,6.0] |Slight Injury    |\n",
            "|[2.0,0.0,0.0,4.0,5.0] |Serious Injury   |\n",
            "|[0.0,0.0,4.0,1.0,11.0]|Slight Injury    |\n",
            "+----------------------+-----------------+\n",
            "only showing top 20 rows\n",
            "\n"
          ]
        }
      ],
      "source": [
        "output.select(\"features\", \"Accident_severity\").show(truncate=False)"
      ]
    },
    {
      "cell_type": "markdown",
      "metadata": {},
      "source": [
        "Statistics for features and accident severity"
      ]
    },
    {
      "cell_type": "code",
      "execution_count": 324,
      "metadata": {
        "colab": {
          "base_uri": "https://localhost:8080/"
        },
        "id": "wl7bbiEOtvnP",
        "outputId": "4ecec1df-6676-4119-ac37-147d85b5d64f"
      },
      "outputs": [
        {
          "name": "stdout",
          "output_type": "stream",
          "text": [
            "+-------+-------------------------+\n",
            "|summary|accident_severity_integer|\n",
            "+-------+-------------------------+\n",
            "|  count|                    11095|\n",
            "|   mean|       1.1659305993690852|\n",
            "| stddev|       0.4043126275417968|\n",
            "|    min|                      1.0|\n",
            "|    max|                      3.0|\n",
            "+-------+-------------------------+\n",
            "\n"
          ]
        }
      ],
      "source": [
        "model_df = output.select(\"features\", \"accident_severity_integer\")\n",
        "model_df.describe().show()"
      ]
    },
    {
      "cell_type": "code",
      "execution_count": 325,
      "metadata": {
        "colab": {
          "base_uri": "https://localhost:8080/"
        },
        "id": "qOlIeHznBxxu",
        "outputId": "c5e0d091-e355-4ec5-fc9d-46dd5d608fc9"
      },
      "outputs": [
        {
          "name": "stdout",
          "output_type": "stream",
          "text": [
            "+-------------------------+-----+\n",
            "|accident_severity_integer|count|\n",
            "+-------------------------+-----+\n",
            "|                      1.0| 9393|\n",
            "|                      3.0|  139|\n",
            "|                      2.0| 1563|\n",
            "+-------------------------+-----+\n",
            "\n"
          ]
        }
      ],
      "source": [
        "unique_values_count = model_df.groupBy(\"accident_severity_integer\").count()\n",
        "unique_values_count.show()"
      ]
    },
    {
      "cell_type": "code",
      "execution_count": 326,
      "metadata": {
        "colab": {
          "base_uri": "https://localhost:8080/"
        },
        "id": "f58Rp1qmHMVl",
        "outputId": "394e3a59-f245-40f9-e762-c90eac1fd98e"
      },
      "outputs": [
        {
          "name": "stdout",
          "output_type": "stream",
          "text": [
            "+--------------------+-------------------------+\n",
            "|            features|accident_severity_integer|\n",
            "+--------------------+-------------------------+\n",
            "|[2.0,3.0,0.0,3.0,...|                      1.0|\n",
            "|[1.0,0.0,1.0,2.0,...|                      1.0|\n",
            "|[6.0,0.0,0.0,3.0,...|                      2.0|\n",
            "| (5,[0,4],[1.0,1.0])|                      1.0|\n",
            "|[4.0,0.0,0.0,1.0,...|                      1.0|\n",
            "|[2.0,0.0,0.0,1.0,...|                      1.0|\n",
            "|[2.0,0.0,0.0,1.0,...|                      1.0|\n",
            "|[4.0,0.0,0.0,2.0,...|                      1.0|\n",
            "|[2.0,0.0,0.0,3.0,...|                      2.0|\n",
            "|[2.0,3.0,0.0,3.0,...|                      2.0|\n",
            "|[1.0,3.0,1.0,5.0,...|                      2.0|\n",
            "| (5,[0,3],[1.0,3.0])|                      1.0|\n",
            "|[1.0,0.0,1.0,0.0,...|                      1.0|\n",
            "|[1.0,0.0,1.0,2.0,...|                      2.0|\n",
            "| (5,[0,3],[1.0,2.0])|                      2.0|\n",
            "| (5,[0,4],[1.0,5.0])|                      1.0|\n",
            "|[1.0,1.0,0.0,1.0,...|                      2.0|\n",
            "|[2.0,0.0,0.0,1.0,...|                      1.0|\n",
            "|[2.0,0.0,0.0,4.0,...|                      2.0|\n",
            "|[0.0,0.0,4.0,1.0,...|                      1.0|\n",
            "+--------------------+-------------------------+\n",
            "only showing top 20 rows\n",
            "\n"
          ]
        }
      ],
      "source": [
        "model_df.show()\n"
      ]
    },
    {
      "cell_type": "markdown",
      "metadata": {},
      "source": [
        "Add weights to accident severity integer"
      ]
    },
    {
      "cell_type": "code",
      "execution_count": 327,
      "metadata": {},
      "outputs": [],
      "source": [
        "from pyspark.sql.functions import udf\n",
        "from pyspark.sql.types import DoubleType"
      ]
    },
    {
      "cell_type": "code",
      "execution_count": 328,
      "metadata": {},
      "outputs": [],
      "source": [
        "total_count = model_df.count()\n",
        "class_counts = model_df.groupBy(\"accident_severity_integer\").count().collect()\n",
        "weights = {row['accident_severity_integer']: total_count / float(row['count']) for row in class_counts}\n"
      ]
    },
    {
      "cell_type": "code",
      "execution_count": 329,
      "metadata": {},
      "outputs": [],
      "source": [
        "def get_weight(class_label):\n",
        "    return weights[class_label]\n",
        "\n",
        "udf_get_weight = udf(get_weight, DoubleType())"
      ]
    },
    {
      "cell_type": "markdown",
      "metadata": {},
      "source": [
        "Apply weights, split data into training and test, and set up logistic regression"
      ]
    },
    {
      "cell_type": "code",
      "execution_count": 330,
      "metadata": {},
      "outputs": [],
      "source": [
        "from pyspark.ml.classification import LogisticRegression\n",
        "weighted_model_df = model_df.withColumn('classWeight', udf_get_weight('accident_severity_integer'))\n",
        "training_df, test_df = weighted_model_df.randomSplit([0.7, 0.3])\n",
        "log_reg = LogisticRegression(labelCol=\"accident_severity_integer\", weightCol=\"classWeight\", family=\"multinomial\").fit(training_df)"
      ]
    },
    {
      "cell_type": "code",
      "execution_count": 331,
      "metadata": {
        "colab": {
          "base_uri": "https://localhost:8080/"
        },
        "id": "dbmPPjD5CXr0",
        "outputId": "749038aa-955d-4ea3-e369-7cc2253ff735"
      },
      "outputs": [
        {
          "name": "stdout",
          "output_type": "stream",
          "text": [
            "+-------------------------+-----+\n",
            "|accident_severity_integer|count|\n",
            "+-------------------------+-----+\n",
            "|                      1.0| 2789|\n",
            "|                      3.0|   45|\n",
            "|                      2.0|  427|\n",
            "+-------------------------+-----+\n",
            "\n",
            "+-------------------------+-----+\n",
            "|accident_severity_integer|count|\n",
            "+-------------------------+-----+\n",
            "|                      1.0| 6604|\n",
            "|                      3.0|   94|\n",
            "|                      2.0| 1136|\n",
            "+-------------------------+-----+\n",
            "\n"
          ]
        }
      ],
      "source": [
        "test_df.groupBy(\"accident_severity_integer\").count().show()\n",
        "training_df.groupBy(\"accident_severity_integer\").count().show()\n"
      ]
    },
    {
      "cell_type": "code",
      "execution_count": 332,
      "metadata": {
        "colab": {
          "base_uri": "https://localhost:8080/"
        },
        "id": "BSokVjWIuYr_",
        "outputId": "887a9f44-65a5-4a05-a77e-66fab2a4d5fd"
      },
      "outputs": [
        {
          "name": "stdout",
          "output_type": "stream",
          "text": [
            "Training dataset samples:  7834\n",
            "Test dataset samples:  3261\n"
          ]
        }
      ],
      "source": [
        "print(\"Training dataset samples: \", training_df.count())\n",
        "print(\"Test dataset samples: \", test_df.count())"
      ]
    },
    {
      "cell_type": "markdown",
      "metadata": {},
      "source": [
        "Run logistic regression"
      ]
    },
    {
      "cell_type": "code",
      "execution_count": 333,
      "metadata": {
        "colab": {
          "base_uri": "https://localhost:8080/"
        },
        "id": "IJgxQDHju_Rk",
        "outputId": "3b5fc6d2-152d-41e3-e3f8-c346e4a39c64"
      },
      "outputs": [
        {
          "data": {
            "text/plain": [
              "LogisticRegressionModel: uid=LogisticRegression_ed58a5893932, numClasses=4, numFeatures=5"
            ]
          },
          "execution_count": 333,
          "metadata": {},
          "output_type": "execute_result"
        }
      ],
      "source": [
        "log_reg"
      ]
    },
    {
      "cell_type": "markdown",
      "metadata": {},
      "source": [
        "Get training results"
      ]
    },
    {
      "cell_type": "code",
      "execution_count": 334,
      "metadata": {
        "id": "NDGP6Uw5vEr5"
      },
      "outputs": [],
      "source": [
        "training_results = log_reg.evaluate(training_df).predictions"
      ]
    },
    {
      "cell_type": "code",
      "execution_count": 335,
      "metadata": {
        "colab": {
          "base_uri": "https://localhost:8080/"
        },
        "id": "yBG4SAjOvPzR",
        "outputId": "d30cad54-3761-4f4c-cab7-d3919e1db953"
      },
      "outputs": [
        {
          "name": "stdout",
          "output_type": "stream",
          "text": [
            "+-------+-------------------------+------------------+------------------+\n",
            "|summary|accident_severity_integer|       classWeight|        prediction|\n",
            "+-------+-------------------------+------------------+------------------+\n",
            "|  count|                     7834|              7834|              7834|\n",
            "|   mean|       1.1690068930303803| 2.982851482310135|2.1303293336737297|\n",
            "| stddev|       0.4055397812633533|  8.72031542370956|0.7604696075726908|\n",
            "|    min|                      1.0|1.1811987650377942|               1.0|\n",
            "|    max|                      3.0| 79.82014388489209|               3.0|\n",
            "+-------+-------------------------+------------------+------------------+\n",
            "\n"
          ]
        }
      ],
      "source": [
        "training_results.describe().show()"
      ]
    },
    {
      "cell_type": "markdown",
      "metadata": {},
      "source": [
        "Get test results"
      ]
    },
    {
      "cell_type": "code",
      "execution_count": 336,
      "metadata": {
        "id": "5g1UBibIvddN"
      },
      "outputs": [],
      "source": [
        "results = log_reg.evaluate(test_df).predictions"
      ]
    },
    {
      "cell_type": "code",
      "execution_count": 337,
      "metadata": {
        "colab": {
          "base_uri": "https://localhost:8080/"
        },
        "id": "SaP5jr4EvxWN",
        "outputId": "671ce68e-f9cf-4c4b-d75f-8670e283a7ce"
      },
      "outputs": [
        {
          "name": "stdout",
          "output_type": "stream",
          "text": [
            "+-------+-------------------------+------------------+------------------+\n",
            "|summary|accident_severity_integer|       classWeight|        prediction|\n",
            "+-------+-------------------------+------------------+------------------+\n",
            "|  count|                     3261|              3261|              3261|\n",
            "|   mean|       1.1585403250536646| 3.041196408335081|2.1557804354492487|\n",
            "| stddev|      0.40131480687478954| 9.299933285454046|0.7595735683686939|\n",
            "|    min|                      1.0|1.1811987650377942|               1.0|\n",
            "|    max|                      3.0| 79.82014388489209|               3.0|\n",
            "+-------+-------------------------+------------------+------------------+\n",
            "\n"
          ]
        }
      ],
      "source": [
        "results.describe().show()"
      ]
    },
    {
      "cell_type": "code",
      "execution_count": 338,
      "metadata": {
        "colab": {
          "base_uri": "https://localhost:8080/"
        },
        "id": "anOsEc85v88l",
        "outputId": "d2ee0ea4-8487-4ad8-f37f-ce2232f791ea"
      },
      "outputs": [
        {
          "name": "stdout",
          "output_type": "stream",
          "text": [
            "+-------------------------+----------+\n",
            "|accident_severity_integer|prediction|\n",
            "+-------------------------+----------+\n",
            "|                      1.0|       3.0|\n",
            "|                      1.0|       3.0|\n",
            "|                      1.0|       3.0|\n",
            "|                      1.0|       3.0|\n",
            "|                      2.0|       3.0|\n",
            "|                      2.0|       3.0|\n",
            "|                      2.0|       3.0|\n",
            "|                      1.0|       3.0|\n",
            "|                      1.0|       3.0|\n",
            "|                      1.0|       3.0|\n",
            "+-------------------------+----------+\n",
            "only showing top 10 rows\n",
            "\n"
          ]
        }
      ],
      "source": [
        "results.select([\"accident_severity_integer\", \"prediction\"]).show(10)"
      ]
    },
    {
      "cell_type": "code",
      "execution_count": 339,
      "metadata": {
        "colab": {
          "base_uri": "https://localhost:8080/"
        },
        "id": "ik_G94FAwcP7",
        "outputId": "41922af7-119d-43d4-fc8b-4f333c35d5be"
      },
      "outputs": [
        {
          "name": "stdout",
          "output_type": "stream",
          "text": [
            "+-------+-------------------------+------------------+------------------+\n",
            "|summary|accident_severity_integer|       classWeight|        prediction|\n",
            "+-------+-------------------------+------------------+------------------+\n",
            "|  count|                     3261|              3261|              3261|\n",
            "|   mean|       1.1585403250536646| 3.041196408335081|2.1557804354492487|\n",
            "| stddev|      0.40131480687478954| 9.299933285454046|0.7595735683686939|\n",
            "|    min|                      1.0|1.1811987650377942|               1.0|\n",
            "|    max|                      3.0| 79.82014388489209|               3.0|\n",
            "+-------+-------------------------+------------------+------------------+\n",
            "\n"
          ]
        }
      ],
      "source": [
        "results.describe().show()"
      ]
    },
    {
      "cell_type": "markdown",
      "metadata": {},
      "source": [
        "Calculate true positives, false positives, false negatives"
      ]
    },
    {
      "cell_type": "code",
      "execution_count": 340,
      "metadata": {
        "id": "rY6c3GpqjcYF"
      },
      "outputs": [],
      "source": [
        "# For class 1.0\n",
        "tp_1 = results[(results.accident_severity_integer == 1.0) & (results.prediction == 1.0)].count()\n",
        "tn_1 = results[(results.accident_severity_integer != 1.0) & (results.prediction != 1.0)].count()\n",
        "fp_1 = results[(results.accident_severity_integer != 1.0) & (results.prediction == 1.0)].count()\n",
        "fn_1 = results[(results.accident_severity_integer == 1.0) & (results.prediction != 1.0)].count()\n",
        "\n",
        "# For class 2.0\n",
        "tp_2 = results[(results.accident_severity_integer == 2.0) & (results.prediction == 2.0)].count()\n",
        "tn_2 = results[(results.accident_severity_integer != 2.0) & (results.prediction != 2.0)].count()\n",
        "fp_2 = results[(results.accident_severity_integer != 2.0) & (results.prediction == 2.0)].count()\n",
        "fn_2 = results[(results.accident_severity_integer == 2.0) & (results.prediction != 2.0)].count()\n",
        "\n",
        "# For class 0.0\n",
        "tp_0 = results[(results.accident_severity_integer == 0.0) & (results.prediction == 0.0)].count()\n",
        "tn_0 = results[(results.accident_severity_integer != 0.0) & (results.prediction != 0.0)].count()\n",
        "fp_0 = results[(results.accident_severity_integer != 0.0) & (results.prediction == 0.0)].count()\n",
        "fn_0 = results[(results.accident_severity_integer == 0.0) & (results.prediction != 0.0)].count()\n"
      ]
    },
    {
      "cell_type": "code",
      "execution_count": 341,
      "metadata": {
        "id": "8nMrXg-tkueS"
      },
      "outputs": [],
      "source": [
        "total_tp = tp_1 + tp_2 + tp_0\n",
        "total_fp = fp_1 + fp_2 + fp_0\n",
        "total_fn = fn_1 + fn_2 + fn_0\n",
        "total_tn = tn_0 + tn_1 + tn_2"
      ]
    },
    {
      "cell_type": "markdown",
      "metadata": {},
      "source": [
        "Calculate accuracy"
      ]
    },
    {
      "cell_type": "code",
      "execution_count": 352,
      "metadata": {
        "colab": {
          "base_uri": "https://localhost:8080/"
        },
        "id": "Me1Rl1a9jjEz",
        "outputId": "6212a6eb-3297-4c17-9066-310b5d77e89d"
      },
      "outputs": [
        {
          "name": "stdout",
          "output_type": "stream",
          "text": [
            "Accuracy:  0.6292548298068077\n"
          ]
        }
      ],
      "source": [
        "total_observations = results.count()\n",
        "accuracy = (float(total_tp) + float(total_tn))/ (total_tp+ total_fp + total_fn + total_tn)# Overall accuracy\n",
        "\n",
        "print(\"Accuracy: \", accuracy)"
      ]
    },
    {
      "cell_type": "markdown",
      "metadata": {},
      "source": [
        "Calculate recall and precision"
      ]
    },
    {
      "cell_type": "code",
      "execution_count": 353,
      "metadata": {
        "colab": {
          "base_uri": "https://localhost:8080/"
        },
        "id": "_tzBH7f3k0uZ",
        "outputId": "ec57cfb3-0ff3-46d9-e9d6-31be8a35b3b0"
      },
      "outputs": [
        {
          "name": "stdout",
          "output_type": "stream",
          "text": [
            "recall:  0.8687459389213775\n",
            "precision:  0.3986186482486433\n",
            "f1 score:  0.5464857316513941\n"
          ]
        }
      ],
      "source": [
        "recall_micro = total_tp / (total_tp + total_fn) if (total_tp + total_fn) > 0 else 0\n",
        "\n",
        "precision = (total_tp) / (total_tp + total_fp) if (total_tp + total_fp) > 0 else 0\n",
        "recall = float(total_tn) / (total_tp+total_tn)\n",
        "f1 = (2 * precision * recall)/(precision + recall)\n",
        "print(\"recall: \", recall)\n",
        "print(\"precision: \", precision)\n",
        "print(\"f1 score: \", f1)"
      ]
    },
    {
      "cell_type": "markdown",
      "metadata": {},
      "source": [
        "Create Confusion Matrix"
      ]
    },
    {
      "cell_type": "code",
      "execution_count": 344,
      "metadata": {
        "colab": {
          "base_uri": "https://localhost:8080/",
          "height": 772
        },
        "id": "jhxzbzj0Xrht",
        "outputId": "b6cd7871-5112-4796-8e48-0cea38db3dfe"
      },
      "outputs": [
        {
          "name": "stderr",
          "output_type": "stream",
          "text": [
            "/Users/ray/Library/Python/3.9/lib/python/site-packages/pyspark/sql/context.py:158: FutureWarning: Deprecated in 3.0.0. Use SparkSession.builder.getOrCreate() instead.\n",
            "  warnings.warn(\n"
          ]
        },
        {
          "data": {
            "image/png": "[encoded data removed]",
            "text/plain": [
              "<Figure size 1000x800 with 2 Axes>"
            ]
          },
          "metadata": {},
          "output_type": "display_data"
        }
      ],
      "source": [
        "from pyspark.mllib.evaluation import MulticlassMetrics\n",
        "import seaborn as sns\n",
        "import matplotlib.pyplot as plt\n",
        "\n",
        "# Step 1: Convert predictions to RDD\n",
        "predictionAndLabels = training_results.select(\"prediction\", \"accident_severity_integer\").rdd\n",
        "\n",
        "# Step 2: Initialize MulticlassMetrics with the RDD\n",
        "metrics = MulticlassMetrics(predictionAndLabels)\n",
        "\n",
        "# Step 3: Get the confusion matrix\n",
        "confusion_matrix = metrics.confusionMatrix().toArray()\n",
        "\n",
        "# Step 4: Visualize the confusion matrix\n",
        "plt.figure(figsize=(10, 8))\n",
        "sns.heatmap(confusion_matrix, annot=True, fmt='g')\n",
        "plt.xlabel('Predicted Labels')\n",
        "plt.ylabel('True Labels')\n",
        "plt.title('Confusion Matrix')\n",
        "plt.show()\n"
      ]
    },
    {
      "cell_type": "markdown",
      "metadata": {},
      "source": [
        "Upcoming code is for decision tree model"
      ]
    },
    {
      "cell_type": "code",
      "execution_count": 46,
      "metadata": {
        "id": "e8V4EJSG4laW"
      },
      "outputs": [],
      "source": [
        "# Decision Tree"
      ]
    },
    {
      "cell_type": "code",
      "execution_count": 251,
      "metadata": {
        "id": "nqatbTrwQTTf"
      },
      "outputs": [],
      "source": [
        "from pyspark.ml.classification import DecisionTreeClassifier\n",
        "from pyspark.ml.evaluation import MulticlassClassificationEvaluator"
      ]
    },
    {
      "cell_type": "markdown",
      "metadata": {},
      "source": [
        "Train decision tree"
      ]
    },
    {
      "cell_type": "code",
      "execution_count": 252,
      "metadata": {
        "id": "N0NNlynuQf3m"
      },
      "outputs": [],
      "source": [
        "dt_df_classifier = DecisionTreeClassifier(labelCol=\"accident_severity_integer\").fit(training_df)"
      ]
    },
    {
      "cell_type": "code",
      "execution_count": 253,
      "metadata": {
        "id": "uUYvPlnGQv0B"
      },
      "outputs": [],
      "source": [
        "dt_df_predictions = dt_df_classifier.transform(test_df)"
      ]
    },
    {
      "cell_type": "markdown",
      "metadata": {},
      "source": [
        "show predictions"
      ]
    },
    {
      "cell_type": "code",
      "execution_count": 254,
      "metadata": {
        "colab": {
          "base_uri": "https://localhost:8080/"
        },
        "id": "QdKsFznDQ7a3",
        "outputId": "a1b7ae90-c636-48b3-9ad3-1527ac8a15d8"
      },
      "outputs": [
        {
          "name": "stdout",
          "output_type": "stream",
          "text": [
            "+-------------+-------------------------+------------------+--------------------+--------------------+----------+\n",
            "|     features|accident_severity_integer|       classWeight|       rawPrediction|         probability|prediction|\n",
            "+-------------+-------------------------+------------------+--------------------+--------------------+----------+\n",
            "|    (5,[],[])|                      1.0|1.1811987650377942|[0.0,4495.0,649.0...|[0.0,0.8645893441...|       1.0|\n",
            "|    (5,[],[])|                      1.0|1.1811987650377942|[0.0,4495.0,649.0...|[0.0,0.8645893441...|       1.0|\n",
            "|    (5,[],[])|                      1.0|1.1811987650377942|[0.0,4495.0,649.0...|[0.0,0.8645893441...|       1.0|\n",
            "|    (5,[],[])|                      1.0|1.1811987650377942|[0.0,4495.0,649.0...|[0.0,0.8645893441...|       1.0|\n",
            "|    (5,[],[])|                      1.0|1.1811987650377942|[0.0,4495.0,649.0...|[0.0,0.8645893441...|       1.0|\n",
            "|    (5,[],[])|                      1.0|1.1811987650377942|[0.0,4495.0,649.0...|[0.0,0.8645893441...|       1.0|\n",
            "|    (5,[],[])|                      1.0|1.1811987650377942|[0.0,4495.0,649.0...|[0.0,0.8645893441...|       1.0|\n",
            "|    (5,[],[])|                      1.0|1.1811987650377942|[0.0,4495.0,649.0...|[0.0,0.8645893441...|       1.0|\n",
            "|    (5,[],[])|                      2.0| 7.098528470889315|[0.0,4495.0,649.0...|[0.0,0.8645893441...|       1.0|\n",
            "|    (5,[],[])|                      2.0| 7.098528470889315|[0.0,4495.0,649.0...|[0.0,0.8645893441...|       1.0|\n",
            "|    (5,[],[])|                      2.0| 7.098528470889315|[0.0,4495.0,649.0...|[0.0,0.8645893441...|       1.0|\n",
            "|(5,[0],[1.0])|                      1.0|1.1811987650377942|[0.0,4495.0,649.0...|[0.0,0.8645893441...|       1.0|\n",
            "|(5,[0],[1.0])|                      1.0|1.1811987650377942|[0.0,4495.0,649.0...|[0.0,0.8645893441...|       1.0|\n",
            "|(5,[0],[1.0])|                      1.0|1.1811987650377942|[0.0,4495.0,649.0...|[0.0,0.8645893441...|       1.0|\n",
            "|(5,[0],[1.0])|                      1.0|1.1811987650377942|[0.0,4495.0,649.0...|[0.0,0.8645893441...|       1.0|\n",
            "|(5,[0],[1.0])|                      1.0|1.1811987650377942|[0.0,4495.0,649.0...|[0.0,0.8645893441...|       1.0|\n",
            "|(5,[0],[1.0])|                      1.0|1.1811987650377942|[0.0,4495.0,649.0...|[0.0,0.8645893441...|       1.0|\n",
            "|(5,[0],[1.0])|                      2.0| 7.098528470889315|[0.0,4495.0,649.0...|[0.0,0.8645893441...|       1.0|\n",
            "|(5,[0],[1.0])|                      2.0| 7.098528470889315|[0.0,4495.0,649.0...|[0.0,0.8645893441...|       1.0|\n",
            "|(5,[0],[2.0])|                      1.0|1.1811987650377942|[0.0,272.0,79.0,7.0]|[0.0,0.7597765363...|       1.0|\n",
            "+-------------+-------------------------+------------------+--------------------+--------------------+----------+\n",
            "only showing top 20 rows\n",
            "\n"
          ]
        }
      ],
      "source": [
        "dt_df_predictions.show()"
      ]
    },
    {
      "cell_type": "code",
      "execution_count": 255,
      "metadata": {
        "id": "wpDa8jNzQ9Tx"
      },
      "outputs": [],
      "source": [
        "dt_df_accuracy = MulticlassClassificationEvaluator(labelCol=\"accident_severity_integer\",\n",
        "                                                   metricName=\"accuracy\").evaluate(dt_df_predictions)"
      ]
    },
    {
      "cell_type": "code",
      "execution_count": 256,
      "metadata": {
        "colab": {
          "base_uri": "https://localhost:8080/"
        },
        "id": "CVQB2OcfR9ap",
        "outputId": "7e9639cf-af24-4356-a69c-7888334e8588"
      },
      "outputs": [
        {
          "name": "stdout",
          "output_type": "stream",
          "text": [
            "Accuracy:  0.8425981873111782\n"
          ]
        }
      ],
      "source": [
        "print(\"Accuracy: \", dt_df_accuracy)"
      ]
    },
    {
      "cell_type": "code",
      "execution_count": 349,
      "metadata": {
        "id": "U5W_HHDOR-RX"
      },
      "outputs": [],
      "source": [
        "dt_df_precision = MulticlassClassificationEvaluator(labelCol=\"accident_severity_integer\",\n",
        "                                                   metricName=\"weightedPrecision\").evaluate(dt_df_predictions)\n",
        "\n",
        "dt_df_recall = MulticlassClassificationEvaluator(labelCol=\"accident_severity_integer\",\n",
        "                                                   metricName=\"weightedRecall\").evaluate(dt_df_predictions)\n",
        "dt_df_f1 = MulticlassClassificationEvaluator(labelCol=\"accident_severity_integer\",\n",
        "                                                   metricName=\"f1\").evaluate(dt_df_predictions)"
      ]
    },
    {
      "cell_type": "code",
      "execution_count": 350,
      "metadata": {
        "colab": {
          "base_uri": "https://localhost:8080/"
        },
        "id": "_ROTic0MSGmu",
        "outputId": "7378c07f-7e77-4c8c-852a-feb72e508435"
      },
      "outputs": [
        {
          "name": "stdout",
          "output_type": "stream",
          "text": [
            "Precision:  0.7382641254740633\n",
            "Recall: 0.8687459389213775\n",
            "F1 Score:  0.7761555231655493\n"
          ]
        }
      ],
      "source": [
        "print(\"Precision: \", dt_df_precision)\n",
        "print(\"Recall:\", recall)\n",
        "print(\"F1 Score: \", dt_df_f1)"
      ]
    },
    {
      "cell_type": "code",
      "execution_count": 259,
      "metadata": {
        "colab": {
          "base_uri": "https://localhost:8080/"
        },
        "id": "IT0VKjVkSTFr",
        "outputId": "5b5c1a67-93c4-43bf-9d7c-973a67cf051e"
      },
      "outputs": [
        {
          "data": {
            "text/plain": [
              "['Area_accident_occured',\n",
              " 'Educational_level',\n",
              " 'Age_band_of_driver',\n",
              " 'Driving_experience',\n",
              " 'Accident_severity',\n",
              " 'Cause_of_accident']"
            ]
          },
          "execution_count": 259,
          "metadata": {},
          "output_type": "execute_result"
        }
      ],
      "source": [
        "df.columns"
      ]
    },
    {
      "cell_type": "code",
      "execution_count": 260,
      "metadata": {
        "colab": {
          "base_uri": "https://localhost:8080/"
        },
        "id": "RVF1vB0oSgOU",
        "outputId": "21f2e224-6a1d-4c3a-e615-2351067b8964"
      },
      "outputs": [
        {
          "data": {
            "text/plain": [
              "SparseVector(5, {0: 0.3557, 1: 0.0593, 2: 0.162, 3: 0.0646, 4: 0.3584})"
            ]
          },
          "execution_count": 260,
          "metadata": {},
          "output_type": "execute_result"
        }
      ],
      "source": [
        "dt_df_classifier.featureImportances"
      ]
    }
  ],
  "metadata": {
    "colab": {
      "provenance": []
    },
    "kernelspec": {
      "display_name": "Python 3",
      "name": "python3"
    },
    "language_info": {
      "codemirror_mode": {
        "name": "ipython",
        "version": 3
      },
      "file_extension": ".py",
      "mimetype": "text/x-python",
      "name": "python",
      "nbconvert_exporter": "python",
      "pygments_lexer": "ipython3",
      "version": "3.9.6"
    }
  },
  "nbformat": 4,
  "nbformat_minor": 0
}
